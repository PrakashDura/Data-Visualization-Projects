{
 "cells": [
  {
   "cell_type": "markdown",
   "metadata": {},
   "source": [
    "## PROJECT 3 - World Happiness Report"
   ]
  },
  {
   "cell_type": "code",
   "execution_count": 2,
   "metadata": {},
   "outputs": [
    {
     "data": {
      "text/html": [
       "        <script type=\"text/javascript\">\n",
       "        window.PlotlyConfig = {MathJaxConfig: 'local'};\n",
       "        if (window.MathJax && window.MathJax.Hub && window.MathJax.Hub.Config) {window.MathJax.Hub.Config({SVG: {font: \"STIX-Web\"}});}\n",
       "        if (typeof require !== 'undefined') {\n",
       "        require.undef(\"plotly\");\n",
       "        requirejs.config({\n",
       "            paths: {\n",
       "                'plotly': ['https://cdn.plot.ly/plotly-2.35.2.min']\n",
       "            }\n",
       "        });\n",
       "        require(['plotly'], function(Plotly) {\n",
       "            window._Plotly = Plotly;\n",
       "        });\n",
       "        }\n",
       "        </script>\n",
       "        "
      ]
     },
     "metadata": {},
     "output_type": "display_data"
    }
   ],
   "source": [
    "import pandas as pd\n",
    "import seaborn as sns\n",
    "import matplotlib.pyplot as plt\n",
    "from sklearn.decomposition import PCA\n",
    "import numpy as np\n",
    "from sklearn import preprocessing\n",
    "import geopandas as gpd\n",
    "import plotly.express as px\n",
    "from plotly.offline import init_notebook_mode, iplot, plot\n",
    "import plotly as py\n",
    "init_notebook_mode(connected=True)\n",
    "import plotly.graph_objs as go"
   ]
  },
  {
   "cell_type": "markdown",
   "metadata": {},
   "source": [
    "## Question 1. Use the given datasets 2015-2019.csv files and create a dataframe to hold the averages of the given data. Some of the data for some countries are missing. Remove any missing country which has any missing data. \n",
    "$\\color{red}{\\text{Answer:}}$  First,i have combined all the csv data file into one dataframe called new_df. Then dropped the rank column and sort by country. Second, i find the rows with missing data and zero values. Third, i deleted those countries . Fourth, i find the average of each country and group them by country"
   ]
  },
  {
   "cell_type": "code",
   "execution_count": 4,
   "metadata": {},
   "outputs": [
    {
     "data": {
      "text/html": [
       "<div>\n",
       "<style scoped>\n",
       "    .dataframe tbody tr th:only-of-type {\n",
       "        vertical-align: middle;\n",
       "    }\n",
       "\n",
       "    .dataframe tbody tr th {\n",
       "        vertical-align: top;\n",
       "    }\n",
       "\n",
       "    .dataframe thead th {\n",
       "        text-align: right;\n",
       "    }\n",
       "</style>\n",
       "<table border=\"1\" class=\"dataframe\">\n",
       "  <thead>\n",
       "    <tr style=\"text-align: right;\">\n",
       "      <th></th>\n",
       "      <th>Country</th>\n",
       "      <th>Score</th>\n",
       "      <th>GDP</th>\n",
       "      <th>Support</th>\n",
       "      <th>Healthy</th>\n",
       "      <th>Freedom</th>\n",
       "      <th>Corruption</th>\n",
       "      <th>Generosity</th>\n",
       "    </tr>\n",
       "  </thead>\n",
       "  <tbody>\n",
       "    <tr>\n",
       "      <th>153</th>\n",
       "      <td>Afghanistan</td>\n",
       "      <td>3.360</td>\n",
       "      <td>0.382270</td>\n",
       "      <td>0.110370</td>\n",
       "      <td>0.173440</td>\n",
       "      <td>0.164300</td>\n",
       "      <td>0.071120</td>\n",
       "      <td>0.312680</td>\n",
       "    </tr>\n",
       "    <tr>\n",
       "      <th>152</th>\n",
       "      <td>Afghanistan</td>\n",
       "      <td>3.575</td>\n",
       "      <td>0.319820</td>\n",
       "      <td>0.302850</td>\n",
       "      <td>0.303350</td>\n",
       "      <td>0.234140</td>\n",
       "      <td>0.097190</td>\n",
       "      <td>0.365100</td>\n",
       "    </tr>\n",
       "    <tr>\n",
       "      <th>144</th>\n",
       "      <td>Afghanistan</td>\n",
       "      <td>3.632</td>\n",
       "      <td>0.332000</td>\n",
       "      <td>0.537000</td>\n",
       "      <td>0.255000</td>\n",
       "      <td>0.085000</td>\n",
       "      <td>0.036000</td>\n",
       "      <td>0.191000</td>\n",
       "    </tr>\n",
       "    <tr>\n",
       "      <th>153</th>\n",
       "      <td>Afghanistan</td>\n",
       "      <td>3.203</td>\n",
       "      <td>0.350000</td>\n",
       "      <td>0.517000</td>\n",
       "      <td>0.361000</td>\n",
       "      <td>0.000000</td>\n",
       "      <td>0.025000</td>\n",
       "      <td>0.158000</td>\n",
       "    </tr>\n",
       "    <tr>\n",
       "      <th>140</th>\n",
       "      <td>Afghanistan</td>\n",
       "      <td>3.794</td>\n",
       "      <td>0.401477</td>\n",
       "      <td>0.581543</td>\n",
       "      <td>0.180747</td>\n",
       "      <td>0.106180</td>\n",
       "      <td>0.061158</td>\n",
       "      <td>0.311871</td>\n",
       "    </tr>\n",
       "    <tr>\n",
       "      <th>...</th>\n",
       "      <td>...</td>\n",
       "      <td>...</td>\n",
       "      <td>...</td>\n",
       "      <td>...</td>\n",
       "      <td>...</td>\n",
       "      <td>...</td>\n",
       "      <td>...</td>\n",
       "      <td>...</td>\n",
       "    </tr>\n",
       "    <tr>\n",
       "      <th>143</th>\n",
       "      <td>Zimbabwe</td>\n",
       "      <td>3.692</td>\n",
       "      <td>0.357000</td>\n",
       "      <td>1.094000</td>\n",
       "      <td>0.248000</td>\n",
       "      <td>0.406000</td>\n",
       "      <td>0.099000</td>\n",
       "      <td>0.132000</td>\n",
       "    </tr>\n",
       "    <tr>\n",
       "      <th>145</th>\n",
       "      <td>Zimbabwe</td>\n",
       "      <td>3.663</td>\n",
       "      <td>0.366000</td>\n",
       "      <td>1.114000</td>\n",
       "      <td>0.433000</td>\n",
       "      <td>0.361000</td>\n",
       "      <td>0.089000</td>\n",
       "      <td>0.151000</td>\n",
       "    </tr>\n",
       "    <tr>\n",
       "      <th>114</th>\n",
       "      <td>Zimbabwe</td>\n",
       "      <td>4.610</td>\n",
       "      <td>0.271000</td>\n",
       "      <td>1.032760</td>\n",
       "      <td>0.334750</td>\n",
       "      <td>0.258610</td>\n",
       "      <td>0.080790</td>\n",
       "      <td>0.189870</td>\n",
       "    </tr>\n",
       "    <tr>\n",
       "      <th>130</th>\n",
       "      <td>Zimbabwe</td>\n",
       "      <td>4.193</td>\n",
       "      <td>0.350410</td>\n",
       "      <td>0.714780</td>\n",
       "      <td>0.159500</td>\n",
       "      <td>0.254290</td>\n",
       "      <td>0.085820</td>\n",
       "      <td>0.185030</td>\n",
       "    </tr>\n",
       "    <tr>\n",
       "      <th>137</th>\n",
       "      <td>Zimbabwe</td>\n",
       "      <td>3.875</td>\n",
       "      <td>0.375847</td>\n",
       "      <td>1.083096</td>\n",
       "      <td>0.196764</td>\n",
       "      <td>0.336384</td>\n",
       "      <td>0.095375</td>\n",
       "      <td>0.189143</td>\n",
       "    </tr>\n",
       "  </tbody>\n",
       "</table>\n",
       "<p>782 rows × 8 columns</p>\n",
       "</div>"
      ],
      "text/plain": [
       "         Country  Score       GDP   Support   Healthy   Freedom  Corruption  \\\n",
       "153  Afghanistan  3.360  0.382270  0.110370  0.173440  0.164300    0.071120   \n",
       "152  Afghanistan  3.575  0.319820  0.302850  0.303350  0.234140    0.097190   \n",
       "144  Afghanistan  3.632  0.332000  0.537000  0.255000  0.085000    0.036000   \n",
       "153  Afghanistan  3.203  0.350000  0.517000  0.361000  0.000000    0.025000   \n",
       "140  Afghanistan  3.794  0.401477  0.581543  0.180747  0.106180    0.061158   \n",
       "..           ...    ...       ...       ...       ...       ...         ...   \n",
       "143     Zimbabwe  3.692  0.357000  1.094000  0.248000  0.406000    0.099000   \n",
       "145     Zimbabwe  3.663  0.366000  1.114000  0.433000  0.361000    0.089000   \n",
       "114     Zimbabwe  4.610  0.271000  1.032760  0.334750  0.258610    0.080790   \n",
       "130     Zimbabwe  4.193  0.350410  0.714780  0.159500  0.254290    0.085820   \n",
       "137     Zimbabwe  3.875  0.375847  1.083096  0.196764  0.336384    0.095375   \n",
       "\n",
       "     Generosity  \n",
       "153    0.312680  \n",
       "152    0.365100  \n",
       "144    0.191000  \n",
       "153    0.158000  \n",
       "140    0.311871  \n",
       "..          ...  \n",
       "143    0.132000  \n",
       "145    0.151000  \n",
       "114    0.189870  \n",
       "130    0.185030  \n",
       "137    0.189143  \n",
       "\n",
       "[782 rows x 8 columns]"
      ]
     },
     "execution_count": 4,
     "metadata": {},
     "output_type": "execute_result"
    }
   ],
   "source": [
    "# Read the CSV files\n",
    "df_2015 = pd.read_csv('2015.csv')\n",
    "df_2016 = pd.read_csv('2016.csv')\n",
    "df_2017 = pd.read_csv('2017.csv')\n",
    "df_2018 = pd.read_csv('2018.csv')\n",
    "df_2019 = pd.read_csv('2019.csv')\n",
    "\n",
    "# Combine csv files into a dataset\n",
    "new_df = pd.concat([pd.read_csv(f\"{i}.csv\") for i in range(2015, 2020)])\n",
    "\n",
    "# Drop 'Rank' column\n",
    "new_df.drop('Rank', axis=1, inplace=True)\n",
    "\n",
    "# Sort by country\n",
    "new_df.sort_values(by='Country', inplace=True)\n",
    "new_df\n",
    "\n"
   ]
  },
  {
   "cell_type": "code",
   "execution_count": 5,
   "metadata": {},
   "outputs": [
    {
     "name": "stdout",
     "output_type": "stream",
     "text": [
      "Countries with missing data\n"
     ]
    },
    {
     "data": {
      "text/html": [
       "<div>\n",
       "<style scoped>\n",
       "    .dataframe tbody tr th:only-of-type {\n",
       "        vertical-align: middle;\n",
       "    }\n",
       "\n",
       "    .dataframe tbody tr th {\n",
       "        vertical-align: top;\n",
       "    }\n",
       "\n",
       "    .dataframe thead th {\n",
       "        text-align: right;\n",
       "    }\n",
       "</style>\n",
       "<table border=\"1\" class=\"dataframe\">\n",
       "  <thead>\n",
       "    <tr style=\"text-align: right;\">\n",
       "      <th></th>\n",
       "      <th>Country</th>\n",
       "      <th>Score</th>\n",
       "      <th>GDP</th>\n",
       "      <th>Support</th>\n",
       "      <th>Healthy</th>\n",
       "      <th>Freedom</th>\n",
       "      <th>Corruption</th>\n",
       "      <th>Generosity</th>\n",
       "    </tr>\n",
       "  </thead>\n",
       "  <tbody>\n",
       "    <tr>\n",
       "      <th>19</th>\n",
       "      <td>United Arab Emirates</td>\n",
       "      <td>6.774</td>\n",
       "      <td>2.096</td>\n",
       "      <td>0.776</td>\n",
       "      <td>0.67</td>\n",
       "      <td>0.284</td>\n",
       "      <td>NaN</td>\n",
       "      <td>0.186</td>\n",
       "    </tr>\n",
       "  </tbody>\n",
       "</table>\n",
       "</div>"
      ],
      "text/plain": [
       "                 Country  Score    GDP  Support  Healthy  Freedom  Corruption  \\\n",
       "19  United Arab Emirates  6.774  2.096    0.776     0.67    0.284         NaN   \n",
       "\n",
       "    Generosity  \n",
       "19       0.186  "
      ]
     },
     "metadata": {},
     "output_type": "display_data"
    }
   ],
   "source": [
    "# Find rows with missing data\n",
    "missing_rows = new_df[new_df.isna().any(axis=1)]\n",
    "print(\"Countries with missing data\")\n",
    "# Display missing rows\n",
    "display(missing_rows)\n"
   ]
  },
  {
   "cell_type": "code",
   "execution_count": 6,
   "metadata": {},
   "outputs": [
    {
     "name": "stdout",
     "output_type": "stream",
     "text": [
      "countries with zero values\n"
     ]
    },
    {
     "data": {
      "text/html": [
       "<div>\n",
       "<style scoped>\n",
       "    .dataframe tbody tr th:only-of-type {\n",
       "        vertical-align: middle;\n",
       "    }\n",
       "\n",
       "    .dataframe tbody tr th {\n",
       "        vertical-align: top;\n",
       "    }\n",
       "\n",
       "    .dataframe thead th {\n",
       "        text-align: right;\n",
       "    }\n",
       "</style>\n",
       "<table border=\"1\" class=\"dataframe\">\n",
       "  <thead>\n",
       "    <tr style=\"text-align: right;\">\n",
       "      <th></th>\n",
       "      <th>Country</th>\n",
       "      <th>Score</th>\n",
       "      <th>GDP</th>\n",
       "      <th>Support</th>\n",
       "      <th>Healthy</th>\n",
       "      <th>Freedom</th>\n",
       "      <th>Corruption</th>\n",
       "      <th>Generosity</th>\n",
       "    </tr>\n",
       "  </thead>\n",
       "  <tbody>\n",
       "    <tr>\n",
       "      <th>153</th>\n",
       "      <td>Afghanistan</td>\n",
       "      <td>3.203</td>\n",
       "      <td>0.350000</td>\n",
       "      <td>0.517000</td>\n",
       "      <td>0.361000</td>\n",
       "      <td>0.000000</td>\n",
       "      <td>0.025000</td>\n",
       "      <td>0.158000</td>\n",
       "    </tr>\n",
       "    <tr>\n",
       "      <th>139</th>\n",
       "      <td>Angola</td>\n",
       "      <td>3.795</td>\n",
       "      <td>0.858428</td>\n",
       "      <td>1.104412</td>\n",
       "      <td>0.049869</td>\n",
       "      <td>0.000000</td>\n",
       "      <td>0.069720</td>\n",
       "      <td>0.097926</td>\n",
       "    </tr>\n",
       "    <tr>\n",
       "      <th>141</th>\n",
       "      <td>Angola</td>\n",
       "      <td>3.795</td>\n",
       "      <td>0.730000</td>\n",
       "      <td>1.125000</td>\n",
       "      <td>0.269000</td>\n",
       "      <td>0.000000</td>\n",
       "      <td>0.061000</td>\n",
       "      <td>0.079000</td>\n",
       "    </tr>\n",
       "    <tr>\n",
       "      <th>86</th>\n",
       "      <td>Bosnia and Herzegovina</td>\n",
       "      <td>5.163</td>\n",
       "      <td>0.933830</td>\n",
       "      <td>0.643670</td>\n",
       "      <td>0.707660</td>\n",
       "      <td>0.095110</td>\n",
       "      <td>0.000000</td>\n",
       "      <td>0.298890</td>\n",
       "    </tr>\n",
       "    <tr>\n",
       "      <th>89</th>\n",
       "      <td>Bosnia and Herzegovina</td>\n",
       "      <td>5.182</td>\n",
       "      <td>0.982409</td>\n",
       "      <td>1.069336</td>\n",
       "      <td>0.705186</td>\n",
       "      <td>0.204403</td>\n",
       "      <td>0.000000</td>\n",
       "      <td>0.328867</td>\n",
       "    </tr>\n",
       "    <tr>\n",
       "      <th>92</th>\n",
       "      <td>Bosnia and Herzegovina</td>\n",
       "      <td>5.129</td>\n",
       "      <td>0.915000</td>\n",
       "      <td>1.078000</td>\n",
       "      <td>0.758000</td>\n",
       "      <td>0.280000</td>\n",
       "      <td>0.000000</td>\n",
       "      <td>0.216000</td>\n",
       "    </tr>\n",
       "    <tr>\n",
       "      <th>154</th>\n",
       "      <td>Central African Republic</td>\n",
       "      <td>3.083</td>\n",
       "      <td>0.026000</td>\n",
       "      <td>0.000000</td>\n",
       "      <td>0.105000</td>\n",
       "      <td>0.225000</td>\n",
       "      <td>0.035000</td>\n",
       "      <td>0.235000</td>\n",
       "    </tr>\n",
       "    <tr>\n",
       "      <th>147</th>\n",
       "      <td>Central African Republic</td>\n",
       "      <td>3.678</td>\n",
       "      <td>0.078500</td>\n",
       "      <td>0.000000</td>\n",
       "      <td>0.066990</td>\n",
       "      <td>0.488790</td>\n",
       "      <td>0.082890</td>\n",
       "      <td>0.238350</td>\n",
       "    </tr>\n",
       "    <tr>\n",
       "      <th>154</th>\n",
       "      <td>Central African Republic</td>\n",
       "      <td>3.083</td>\n",
       "      <td>0.024000</td>\n",
       "      <td>0.000000</td>\n",
       "      <td>0.010000</td>\n",
       "      <td>0.305000</td>\n",
       "      <td>0.038000</td>\n",
       "      <td>0.218000</td>\n",
       "    </tr>\n",
       "    <tr>\n",
       "      <th>154</th>\n",
       "      <td>Central African Republic</td>\n",
       "      <td>2.693</td>\n",
       "      <td>0.000000</td>\n",
       "      <td>0.000000</td>\n",
       "      <td>0.018773</td>\n",
       "      <td>0.270842</td>\n",
       "      <td>0.056565</td>\n",
       "      <td>0.280876</td>\n",
       "    </tr>\n",
       "    <tr>\n",
       "      <th>119</th>\n",
       "      <td>Congo (Kinshasa)</td>\n",
       "      <td>4.517</td>\n",
       "      <td>0.000000</td>\n",
       "      <td>1.001200</td>\n",
       "      <td>0.098060</td>\n",
       "      <td>0.226050</td>\n",
       "      <td>0.076250</td>\n",
       "      <td>0.248340</td>\n",
       "    </tr>\n",
       "    <tr>\n",
       "      <th>101</th>\n",
       "      <td>Greece</td>\n",
       "      <td>4.857</td>\n",
       "      <td>1.154060</td>\n",
       "      <td>0.929330</td>\n",
       "      <td>0.882130</td>\n",
       "      <td>0.076990</td>\n",
       "      <td>0.013970</td>\n",
       "      <td>0.000000</td>\n",
       "    </tr>\n",
       "    <tr>\n",
       "      <th>78</th>\n",
       "      <td>Greece</td>\n",
       "      <td>5.358</td>\n",
       "      <td>1.154000</td>\n",
       "      <td>1.202000</td>\n",
       "      <td>0.879000</td>\n",
       "      <td>0.131000</td>\n",
       "      <td>0.044000</td>\n",
       "      <td>0.000000</td>\n",
       "    </tr>\n",
       "    <tr>\n",
       "      <th>81</th>\n",
       "      <td>Greece</td>\n",
       "      <td>5.287</td>\n",
       "      <td>1.181000</td>\n",
       "      <td>1.156000</td>\n",
       "      <td>0.999000</td>\n",
       "      <td>0.067000</td>\n",
       "      <td>0.034000</td>\n",
       "      <td>0.000000</td>\n",
       "    </tr>\n",
       "    <tr>\n",
       "      <th>86</th>\n",
       "      <td>Greece</td>\n",
       "      <td>5.227</td>\n",
       "      <td>1.289487</td>\n",
       "      <td>1.239415</td>\n",
       "      <td>0.810199</td>\n",
       "      <td>0.095731</td>\n",
       "      <td>0.043290</td>\n",
       "      <td>0.000000</td>\n",
       "    </tr>\n",
       "    <tr>\n",
       "      <th>98</th>\n",
       "      <td>Greece</td>\n",
       "      <td>5.033</td>\n",
       "      <td>1.248860</td>\n",
       "      <td>0.754730</td>\n",
       "      <td>0.800290</td>\n",
       "      <td>0.058220</td>\n",
       "      <td>0.041270</td>\n",
       "      <td>0.000000</td>\n",
       "    </tr>\n",
       "    <tr>\n",
       "      <th>73</th>\n",
       "      <td>Indonesia</td>\n",
       "      <td>5.399</td>\n",
       "      <td>0.828270</td>\n",
       "      <td>1.087080</td>\n",
       "      <td>0.637930</td>\n",
       "      <td>0.466110</td>\n",
       "      <td>0.000000</td>\n",
       "      <td>0.515350</td>\n",
       "    </tr>\n",
       "    <tr>\n",
       "      <th>111</th>\n",
       "      <td>Iraq</td>\n",
       "      <td>4.677</td>\n",
       "      <td>0.985490</td>\n",
       "      <td>0.818890</td>\n",
       "      <td>0.602370</td>\n",
       "      <td>0.000000</td>\n",
       "      <td>0.137880</td>\n",
       "      <td>0.179220</td>\n",
       "    </tr>\n",
       "    <tr>\n",
       "      <th>138</th>\n",
       "      <td>Lesotho</td>\n",
       "      <td>3.808</td>\n",
       "      <td>0.521021</td>\n",
       "      <td>1.190095</td>\n",
       "      <td>0.000000</td>\n",
       "      <td>0.390661</td>\n",
       "      <td>0.119095</td>\n",
       "      <td>0.157497</td>\n",
       "    </tr>\n",
       "    <tr>\n",
       "      <th>66</th>\n",
       "      <td>Moldova</td>\n",
       "      <td>5.640</td>\n",
       "      <td>0.657000</td>\n",
       "      <td>1.301000</td>\n",
       "      <td>0.620000</td>\n",
       "      <td>0.232000</td>\n",
       "      <td>0.000000</td>\n",
       "      <td>0.171000</td>\n",
       "    </tr>\n",
       "    <tr>\n",
       "      <th>70</th>\n",
       "      <td>Moldova</td>\n",
       "      <td>5.529</td>\n",
       "      <td>0.685000</td>\n",
       "      <td>1.328000</td>\n",
       "      <td>0.739000</td>\n",
       "      <td>0.245000</td>\n",
       "      <td>0.000000</td>\n",
       "      <td>0.181000</td>\n",
       "    </tr>\n",
       "    <tr>\n",
       "      <th>110</th>\n",
       "      <td>Sierra Leone</td>\n",
       "      <td>4.635</td>\n",
       "      <td>0.364850</td>\n",
       "      <td>0.628000</td>\n",
       "      <td>0.000000</td>\n",
       "      <td>0.306850</td>\n",
       "      <td>0.081960</td>\n",
       "      <td>0.238970</td>\n",
       "    </tr>\n",
       "    <tr>\n",
       "      <th>122</th>\n",
       "      <td>Sierra Leone</td>\n",
       "      <td>4.507</td>\n",
       "      <td>0.330240</td>\n",
       "      <td>0.955710</td>\n",
       "      <td>0.000000</td>\n",
       "      <td>0.408400</td>\n",
       "      <td>0.087860</td>\n",
       "      <td>0.214880</td>\n",
       "    </tr>\n",
       "    <tr>\n",
       "      <th>112</th>\n",
       "      <td>Sierra Leone</td>\n",
       "      <td>4.571</td>\n",
       "      <td>0.256000</td>\n",
       "      <td>0.813000</td>\n",
       "      <td>0.000000</td>\n",
       "      <td>0.355000</td>\n",
       "      <td>0.053000</td>\n",
       "      <td>0.238000</td>\n",
       "    </tr>\n",
       "    <tr>\n",
       "      <th>111</th>\n",
       "      <td>Somalia</td>\n",
       "      <td>4.668</td>\n",
       "      <td>0.000000</td>\n",
       "      <td>0.698000</td>\n",
       "      <td>0.268000</td>\n",
       "      <td>0.559000</td>\n",
       "      <td>0.270000</td>\n",
       "      <td>0.243000</td>\n",
       "    </tr>\n",
       "    <tr>\n",
       "      <th>75</th>\n",
       "      <td>Somalia</td>\n",
       "      <td>5.440</td>\n",
       "      <td>0.000000</td>\n",
       "      <td>0.336130</td>\n",
       "      <td>0.114660</td>\n",
       "      <td>0.567780</td>\n",
       "      <td>0.311800</td>\n",
       "      <td>0.272250</td>\n",
       "    </tr>\n",
       "    <tr>\n",
       "      <th>97</th>\n",
       "      <td>Somalia</td>\n",
       "      <td>4.982</td>\n",
       "      <td>0.000000</td>\n",
       "      <td>0.712000</td>\n",
       "      <td>0.115000</td>\n",
       "      <td>0.674000</td>\n",
       "      <td>0.282000</td>\n",
       "      <td>0.238000</td>\n",
       "    </tr>\n",
       "    <tr>\n",
       "      <th>132</th>\n",
       "      <td>Sudan</td>\n",
       "      <td>4.139</td>\n",
       "      <td>0.630690</td>\n",
       "      <td>0.819280</td>\n",
       "      <td>0.297590</td>\n",
       "      <td>0.000000</td>\n",
       "      <td>0.100390</td>\n",
       "      <td>0.180770</td>\n",
       "    </tr>\n",
       "    <tr>\n",
       "      <th>134</th>\n",
       "      <td>Swaziland</td>\n",
       "      <td>4.212</td>\n",
       "      <td>0.811000</td>\n",
       "      <td>1.149000</td>\n",
       "      <td>0.000000</td>\n",
       "      <td>0.313000</td>\n",
       "      <td>0.135000</td>\n",
       "      <td>0.074000</td>\n",
       "    </tr>\n",
       "    <tr>\n",
       "      <th>154</th>\n",
       "      <td>Togo</td>\n",
       "      <td>3.303</td>\n",
       "      <td>0.281230</td>\n",
       "      <td>0.000000</td>\n",
       "      <td>0.248110</td>\n",
       "      <td>0.346780</td>\n",
       "      <td>0.115870</td>\n",
       "      <td>0.175170</td>\n",
       "    </tr>\n",
       "  </tbody>\n",
       "</table>\n",
       "</div>"
      ],
      "text/plain": [
       "                      Country  Score       GDP   Support   Healthy   Freedom  \\\n",
       "153               Afghanistan  3.203  0.350000  0.517000  0.361000  0.000000   \n",
       "139                    Angola  3.795  0.858428  1.104412  0.049869  0.000000   \n",
       "141                    Angola  3.795  0.730000  1.125000  0.269000  0.000000   \n",
       "86     Bosnia and Herzegovina  5.163  0.933830  0.643670  0.707660  0.095110   \n",
       "89     Bosnia and Herzegovina  5.182  0.982409  1.069336  0.705186  0.204403   \n",
       "92     Bosnia and Herzegovina  5.129  0.915000  1.078000  0.758000  0.280000   \n",
       "154  Central African Republic  3.083  0.026000  0.000000  0.105000  0.225000   \n",
       "147  Central African Republic  3.678  0.078500  0.000000  0.066990  0.488790   \n",
       "154  Central African Republic  3.083  0.024000  0.000000  0.010000  0.305000   \n",
       "154  Central African Republic  2.693  0.000000  0.000000  0.018773  0.270842   \n",
       "119          Congo (Kinshasa)  4.517  0.000000  1.001200  0.098060  0.226050   \n",
       "101                    Greece  4.857  1.154060  0.929330  0.882130  0.076990   \n",
       "78                     Greece  5.358  1.154000  1.202000  0.879000  0.131000   \n",
       "81                     Greece  5.287  1.181000  1.156000  0.999000  0.067000   \n",
       "86                     Greece  5.227  1.289487  1.239415  0.810199  0.095731   \n",
       "98                     Greece  5.033  1.248860  0.754730  0.800290  0.058220   \n",
       "73                  Indonesia  5.399  0.828270  1.087080  0.637930  0.466110   \n",
       "111                      Iraq  4.677  0.985490  0.818890  0.602370  0.000000   \n",
       "138                   Lesotho  3.808  0.521021  1.190095  0.000000  0.390661   \n",
       "66                    Moldova  5.640  0.657000  1.301000  0.620000  0.232000   \n",
       "70                    Moldova  5.529  0.685000  1.328000  0.739000  0.245000   \n",
       "110              Sierra Leone  4.635  0.364850  0.628000  0.000000  0.306850   \n",
       "122              Sierra Leone  4.507  0.330240  0.955710  0.000000  0.408400   \n",
       "112              Sierra Leone  4.571  0.256000  0.813000  0.000000  0.355000   \n",
       "111                   Somalia  4.668  0.000000  0.698000  0.268000  0.559000   \n",
       "75                    Somalia  5.440  0.000000  0.336130  0.114660  0.567780   \n",
       "97                    Somalia  4.982  0.000000  0.712000  0.115000  0.674000   \n",
       "132                     Sudan  4.139  0.630690  0.819280  0.297590  0.000000   \n",
       "134                 Swaziland  4.212  0.811000  1.149000  0.000000  0.313000   \n",
       "154                      Togo  3.303  0.281230  0.000000  0.248110  0.346780   \n",
       "\n",
       "     Corruption  Generosity  \n",
       "153    0.025000    0.158000  \n",
       "139    0.069720    0.097926  \n",
       "141    0.061000    0.079000  \n",
       "86     0.000000    0.298890  \n",
       "89     0.000000    0.328867  \n",
       "92     0.000000    0.216000  \n",
       "154    0.035000    0.235000  \n",
       "147    0.082890    0.238350  \n",
       "154    0.038000    0.218000  \n",
       "154    0.056565    0.280876  \n",
       "119    0.076250    0.248340  \n",
       "101    0.013970    0.000000  \n",
       "78     0.044000    0.000000  \n",
       "81     0.034000    0.000000  \n",
       "86     0.043290    0.000000  \n",
       "98     0.041270    0.000000  \n",
       "73     0.000000    0.515350  \n",
       "111    0.137880    0.179220  \n",
       "138    0.119095    0.157497  \n",
       "66     0.000000    0.171000  \n",
       "70     0.000000    0.181000  \n",
       "110    0.081960    0.238970  \n",
       "122    0.087860    0.214880  \n",
       "112    0.053000    0.238000  \n",
       "111    0.270000    0.243000  \n",
       "75     0.311800    0.272250  \n",
       "97     0.282000    0.238000  \n",
       "132    0.100390    0.180770  \n",
       "134    0.135000    0.074000  \n",
       "154    0.115870    0.175170  "
      ]
     },
     "metadata": {},
     "output_type": "display_data"
    }
   ],
   "source": [
    "# Find rows with zero values\n",
    "zero_rows = new_df[new_df.eq(0).any(axis=1)]\n",
    "print(\"countries with zero values\")\n",
    "# Display rows with zero values\n",
    "display(zero_rows)\n"
   ]
  },
  {
   "cell_type": "code",
   "execution_count": 7,
   "metadata": {},
   "outputs": [
    {
     "name": "stdout",
     "output_type": "stream",
     "text": [
      "The countries with the missing data:\n",
      " {'United Arab Emirates'}\n",
      "The countries with the zero value data:\n",
      " {'Bosnia and Herzegovina', 'Afghanistan', 'Sierra Leone', 'Swaziland', 'Togo', 'Lesotho', 'Moldova', 'Sudan', 'Indonesia', 'Iraq', 'Greece', 'Angola', 'Central African Republic', 'Congo (Kinshasa)', 'Somalia'}\n"
     ]
    }
   ],
   "source": [
    "# find the countries has the missing data and zero value data\n",
    "missingcountry = set(missing_rows['Country'].to_list())\n",
    "print(\"The countries with the missing data:\\n\",missingcountry)\n",
    "zerovaluecountry = set(zero_rows['Country'].to_list())\n",
    "print(\"The countries with the zero value data:\\n\",zerovaluecountry)\n"
   ]
  },
  {
   "cell_type": "code",
   "execution_count": 8,
   "metadata": {},
   "outputs": [
    {
     "name": "stdout",
     "output_type": "stream",
     "text": [
      "The data after deleting the missing countries:\n"
     ]
    },
    {
     "data": {
      "text/html": [
       "<div>\n",
       "<style scoped>\n",
       "    .dataframe tbody tr th:only-of-type {\n",
       "        vertical-align: middle;\n",
       "    }\n",
       "\n",
       "    .dataframe tbody tr th {\n",
       "        vertical-align: top;\n",
       "    }\n",
       "\n",
       "    .dataframe thead th {\n",
       "        text-align: right;\n",
       "    }\n",
       "</style>\n",
       "<table border=\"1\" class=\"dataframe\">\n",
       "  <thead>\n",
       "    <tr style=\"text-align: right;\">\n",
       "      <th></th>\n",
       "      <th>Country</th>\n",
       "      <th>Score</th>\n",
       "      <th>GDP</th>\n",
       "      <th>Support</th>\n",
       "      <th>Healthy</th>\n",
       "      <th>Freedom</th>\n",
       "      <th>Corruption</th>\n",
       "      <th>Generosity</th>\n",
       "    </tr>\n",
       "  </thead>\n",
       "  <tbody>\n",
       "    <tr>\n",
       "      <th>153</th>\n",
       "      <td>Afghanistan</td>\n",
       "      <td>3.360</td>\n",
       "      <td>0.382270</td>\n",
       "      <td>0.110370</td>\n",
       "      <td>0.173440</td>\n",
       "      <td>0.164300</td>\n",
       "      <td>0.071120</td>\n",
       "      <td>0.312680</td>\n",
       "    </tr>\n",
       "    <tr>\n",
       "      <th>152</th>\n",
       "      <td>Afghanistan</td>\n",
       "      <td>3.575</td>\n",
       "      <td>0.319820</td>\n",
       "      <td>0.302850</td>\n",
       "      <td>0.303350</td>\n",
       "      <td>0.234140</td>\n",
       "      <td>0.097190</td>\n",
       "      <td>0.365100</td>\n",
       "    </tr>\n",
       "    <tr>\n",
       "      <th>144</th>\n",
       "      <td>Afghanistan</td>\n",
       "      <td>3.632</td>\n",
       "      <td>0.332000</td>\n",
       "      <td>0.537000</td>\n",
       "      <td>0.255000</td>\n",
       "      <td>0.085000</td>\n",
       "      <td>0.036000</td>\n",
       "      <td>0.191000</td>\n",
       "    </tr>\n",
       "    <tr>\n",
       "      <th>153</th>\n",
       "      <td>Afghanistan</td>\n",
       "      <td>3.203</td>\n",
       "      <td>0.350000</td>\n",
       "      <td>0.517000</td>\n",
       "      <td>0.361000</td>\n",
       "      <td>0.000000</td>\n",
       "      <td>0.025000</td>\n",
       "      <td>0.158000</td>\n",
       "    </tr>\n",
       "    <tr>\n",
       "      <th>140</th>\n",
       "      <td>Afghanistan</td>\n",
       "      <td>3.794</td>\n",
       "      <td>0.401477</td>\n",
       "      <td>0.581543</td>\n",
       "      <td>0.180747</td>\n",
       "      <td>0.106180</td>\n",
       "      <td>0.061158</td>\n",
       "      <td>0.311871</td>\n",
       "    </tr>\n",
       "    <tr>\n",
       "      <th>...</th>\n",
       "      <td>...</td>\n",
       "      <td>...</td>\n",
       "      <td>...</td>\n",
       "      <td>...</td>\n",
       "      <td>...</td>\n",
       "      <td>...</td>\n",
       "      <td>...</td>\n",
       "      <td>...</td>\n",
       "    </tr>\n",
       "    <tr>\n",
       "      <th>143</th>\n",
       "      <td>Zimbabwe</td>\n",
       "      <td>3.692</td>\n",
       "      <td>0.357000</td>\n",
       "      <td>1.094000</td>\n",
       "      <td>0.248000</td>\n",
       "      <td>0.406000</td>\n",
       "      <td>0.099000</td>\n",
       "      <td>0.132000</td>\n",
       "    </tr>\n",
       "    <tr>\n",
       "      <th>145</th>\n",
       "      <td>Zimbabwe</td>\n",
       "      <td>3.663</td>\n",
       "      <td>0.366000</td>\n",
       "      <td>1.114000</td>\n",
       "      <td>0.433000</td>\n",
       "      <td>0.361000</td>\n",
       "      <td>0.089000</td>\n",
       "      <td>0.151000</td>\n",
       "    </tr>\n",
       "    <tr>\n",
       "      <th>114</th>\n",
       "      <td>Zimbabwe</td>\n",
       "      <td>4.610</td>\n",
       "      <td>0.271000</td>\n",
       "      <td>1.032760</td>\n",
       "      <td>0.334750</td>\n",
       "      <td>0.258610</td>\n",
       "      <td>0.080790</td>\n",
       "      <td>0.189870</td>\n",
       "    </tr>\n",
       "    <tr>\n",
       "      <th>130</th>\n",
       "      <td>Zimbabwe</td>\n",
       "      <td>4.193</td>\n",
       "      <td>0.350410</td>\n",
       "      <td>0.714780</td>\n",
       "      <td>0.159500</td>\n",
       "      <td>0.254290</td>\n",
       "      <td>0.085820</td>\n",
       "      <td>0.185030</td>\n",
       "    </tr>\n",
       "    <tr>\n",
       "      <th>137</th>\n",
       "      <td>Zimbabwe</td>\n",
       "      <td>3.875</td>\n",
       "      <td>0.375847</td>\n",
       "      <td>1.083096</td>\n",
       "      <td>0.196764</td>\n",
       "      <td>0.336384</td>\n",
       "      <td>0.095375</td>\n",
       "      <td>0.189143</td>\n",
       "    </tr>\n",
       "  </tbody>\n",
       "</table>\n",
       "<p>777 rows × 8 columns</p>\n",
       "</div>"
      ],
      "text/plain": [
       "         Country  Score       GDP   Support   Healthy   Freedom  Corruption  \\\n",
       "153  Afghanistan  3.360  0.382270  0.110370  0.173440  0.164300    0.071120   \n",
       "152  Afghanistan  3.575  0.319820  0.302850  0.303350  0.234140    0.097190   \n",
       "144  Afghanistan  3.632  0.332000  0.537000  0.255000  0.085000    0.036000   \n",
       "153  Afghanistan  3.203  0.350000  0.517000  0.361000  0.000000    0.025000   \n",
       "140  Afghanistan  3.794  0.401477  0.581543  0.180747  0.106180    0.061158   \n",
       "..           ...    ...       ...       ...       ...       ...         ...   \n",
       "143     Zimbabwe  3.692  0.357000  1.094000  0.248000  0.406000    0.099000   \n",
       "145     Zimbabwe  3.663  0.366000  1.114000  0.433000  0.361000    0.089000   \n",
       "114     Zimbabwe  4.610  0.271000  1.032760  0.334750  0.258610    0.080790   \n",
       "130     Zimbabwe  4.193  0.350410  0.714780  0.159500  0.254290    0.085820   \n",
       "137     Zimbabwe  3.875  0.375847  1.083096  0.196764  0.336384    0.095375   \n",
       "\n",
       "     Generosity  \n",
       "153    0.312680  \n",
       "152    0.365100  \n",
       "144    0.191000  \n",
       "153    0.158000  \n",
       "140    0.311871  \n",
       "..          ...  \n",
       "143    0.132000  \n",
       "145    0.151000  \n",
       "114    0.189870  \n",
       "130    0.185030  \n",
       "137    0.189143  \n",
       "\n",
       "[777 rows x 8 columns]"
      ]
     },
     "metadata": {},
     "output_type": "display_data"
    }
   ],
   "source": [
    "#deleting the country with the missing_data in the row\n",
    "new_df = new_df[~(new_df.Country.isin(missingcountry))]\n",
    "print(\"The data after deleting the missing countries:\")\n",
    "display(new_df)"
   ]
  },
  {
   "cell_type": "code",
   "execution_count": 9,
   "metadata": {},
   "outputs": [
    {
     "name": "stdout",
     "output_type": "stream",
     "text": [
      "Final data after deleting zero values countries:\n",
      "\n"
     ]
    },
    {
     "data": {
      "text/html": [
       "<div>\n",
       "<style scoped>\n",
       "    .dataframe tbody tr th:only-of-type {\n",
       "        vertical-align: middle;\n",
       "    }\n",
       "\n",
       "    .dataframe tbody tr th {\n",
       "        vertical-align: top;\n",
       "    }\n",
       "\n",
       "    .dataframe thead th {\n",
       "        text-align: right;\n",
       "    }\n",
       "</style>\n",
       "<table border=\"1\" class=\"dataframe\">\n",
       "  <thead>\n",
       "    <tr style=\"text-align: right;\">\n",
       "      <th></th>\n",
       "      <th>Country</th>\n",
       "      <th>Score</th>\n",
       "      <th>GDP</th>\n",
       "      <th>Support</th>\n",
       "      <th>Healthy</th>\n",
       "      <th>Freedom</th>\n",
       "      <th>Corruption</th>\n",
       "      <th>Generosity</th>\n",
       "    </tr>\n",
       "  </thead>\n",
       "  <tbody>\n",
       "    <tr>\n",
       "      <th>108</th>\n",
       "      <td>Albania</td>\n",
       "      <td>4.644</td>\n",
       "      <td>0.996193</td>\n",
       "      <td>0.803685</td>\n",
       "      <td>0.731160</td>\n",
       "      <td>0.381499</td>\n",
       "      <td>0.039864</td>\n",
       "      <td>0.201313</td>\n",
       "    </tr>\n",
       "    <tr>\n",
       "      <th>108</th>\n",
       "      <td>Albania</td>\n",
       "      <td>4.655</td>\n",
       "      <td>0.955300</td>\n",
       "      <td>0.501630</td>\n",
       "      <td>0.730070</td>\n",
       "      <td>0.318660</td>\n",
       "      <td>0.053010</td>\n",
       "      <td>0.168400</td>\n",
       "    </tr>\n",
       "    <tr>\n",
       "      <th>111</th>\n",
       "      <td>Albania</td>\n",
       "      <td>4.586</td>\n",
       "      <td>0.916000</td>\n",
       "      <td>0.817000</td>\n",
       "      <td>0.790000</td>\n",
       "      <td>0.419000</td>\n",
       "      <td>0.032000</td>\n",
       "      <td>0.149000</td>\n",
       "    </tr>\n",
       "    <tr>\n",
       "      <th>106</th>\n",
       "      <td>Albania</td>\n",
       "      <td>4.719</td>\n",
       "      <td>0.947000</td>\n",
       "      <td>0.848000</td>\n",
       "      <td>0.874000</td>\n",
       "      <td>0.383000</td>\n",
       "      <td>0.027000</td>\n",
       "      <td>0.178000</td>\n",
       "    </tr>\n",
       "    <tr>\n",
       "      <th>94</th>\n",
       "      <td>Albania</td>\n",
       "      <td>4.959</td>\n",
       "      <td>0.878670</td>\n",
       "      <td>0.804340</td>\n",
       "      <td>0.813250</td>\n",
       "      <td>0.357330</td>\n",
       "      <td>0.064130</td>\n",
       "      <td>0.142720</td>\n",
       "    </tr>\n",
       "    <tr>\n",
       "      <th>...</th>\n",
       "      <td>...</td>\n",
       "      <td>...</td>\n",
       "      <td>...</td>\n",
       "      <td>...</td>\n",
       "      <td>...</td>\n",
       "      <td>...</td>\n",
       "      <td>...</td>\n",
       "      <td>...</td>\n",
       "    </tr>\n",
       "    <tr>\n",
       "      <th>143</th>\n",
       "      <td>Zimbabwe</td>\n",
       "      <td>3.692</td>\n",
       "      <td>0.357000</td>\n",
       "      <td>1.094000</td>\n",
       "      <td>0.248000</td>\n",
       "      <td>0.406000</td>\n",
       "      <td>0.099000</td>\n",
       "      <td>0.132000</td>\n",
       "    </tr>\n",
       "    <tr>\n",
       "      <th>145</th>\n",
       "      <td>Zimbabwe</td>\n",
       "      <td>3.663</td>\n",
       "      <td>0.366000</td>\n",
       "      <td>1.114000</td>\n",
       "      <td>0.433000</td>\n",
       "      <td>0.361000</td>\n",
       "      <td>0.089000</td>\n",
       "      <td>0.151000</td>\n",
       "    </tr>\n",
       "    <tr>\n",
       "      <th>114</th>\n",
       "      <td>Zimbabwe</td>\n",
       "      <td>4.610</td>\n",
       "      <td>0.271000</td>\n",
       "      <td>1.032760</td>\n",
       "      <td>0.334750</td>\n",
       "      <td>0.258610</td>\n",
       "      <td>0.080790</td>\n",
       "      <td>0.189870</td>\n",
       "    </tr>\n",
       "    <tr>\n",
       "      <th>130</th>\n",
       "      <td>Zimbabwe</td>\n",
       "      <td>4.193</td>\n",
       "      <td>0.350410</td>\n",
       "      <td>0.714780</td>\n",
       "      <td>0.159500</td>\n",
       "      <td>0.254290</td>\n",
       "      <td>0.085820</td>\n",
       "      <td>0.185030</td>\n",
       "    </tr>\n",
       "    <tr>\n",
       "      <th>137</th>\n",
       "      <td>Zimbabwe</td>\n",
       "      <td>3.875</td>\n",
       "      <td>0.375847</td>\n",
       "      <td>1.083096</td>\n",
       "      <td>0.196764</td>\n",
       "      <td>0.336384</td>\n",
       "      <td>0.095375</td>\n",
       "      <td>0.189143</td>\n",
       "    </tr>\n",
       "  </tbody>\n",
       "</table>\n",
       "<p>710 rows × 8 columns</p>\n",
       "</div>"
      ],
      "text/plain": [
       "      Country  Score       GDP   Support   Healthy   Freedom  Corruption  \\\n",
       "108   Albania  4.644  0.996193  0.803685  0.731160  0.381499    0.039864   \n",
       "108   Albania  4.655  0.955300  0.501630  0.730070  0.318660    0.053010   \n",
       "111   Albania  4.586  0.916000  0.817000  0.790000  0.419000    0.032000   \n",
       "106   Albania  4.719  0.947000  0.848000  0.874000  0.383000    0.027000   \n",
       "94    Albania  4.959  0.878670  0.804340  0.813250  0.357330    0.064130   \n",
       "..        ...    ...       ...       ...       ...       ...         ...   \n",
       "143  Zimbabwe  3.692  0.357000  1.094000  0.248000  0.406000    0.099000   \n",
       "145  Zimbabwe  3.663  0.366000  1.114000  0.433000  0.361000    0.089000   \n",
       "114  Zimbabwe  4.610  0.271000  1.032760  0.334750  0.258610    0.080790   \n",
       "130  Zimbabwe  4.193  0.350410  0.714780  0.159500  0.254290    0.085820   \n",
       "137  Zimbabwe  3.875  0.375847  1.083096  0.196764  0.336384    0.095375   \n",
       "\n",
       "     Generosity  \n",
       "108    0.201313  \n",
       "108    0.168400  \n",
       "111    0.149000  \n",
       "106    0.178000  \n",
       "94     0.142720  \n",
       "..          ...  \n",
       "143    0.132000  \n",
       "145    0.151000  \n",
       "114    0.189870  \n",
       "130    0.185030  \n",
       "137    0.189143  \n",
       "\n",
       "[710 rows x 8 columns]"
      ]
     },
     "metadata": {},
     "output_type": "display_data"
    }
   ],
   "source": [
    "# the data which remove the missding data\n",
    "new_df = new_df[~(new_df.Country.isin(zerovaluecountry))]\n",
    "print(\"Final data after deleting zero values countries:\\n\")\n",
    "display(new_df)"
   ]
  },
  {
   "cell_type": "code",
   "execution_count": 10,
   "metadata": {},
   "outputs": [
    {
     "data": {
      "text/html": [
       "<div>\n",
       "<style scoped>\n",
       "    .dataframe tbody tr th:only-of-type {\n",
       "        vertical-align: middle;\n",
       "    }\n",
       "\n",
       "    .dataframe tbody tr th {\n",
       "        vertical-align: top;\n",
       "    }\n",
       "\n",
       "    .dataframe thead th {\n",
       "        text-align: right;\n",
       "    }\n",
       "</style>\n",
       "<table border=\"1\" class=\"dataframe\">\n",
       "  <thead>\n",
       "    <tr style=\"text-align: right;\">\n",
       "      <th></th>\n",
       "      <th>Country</th>\n",
       "      <th>Score</th>\n",
       "      <th>GDP</th>\n",
       "      <th>Support</th>\n",
       "      <th>Healthy</th>\n",
       "      <th>Freedom</th>\n",
       "      <th>Corruption</th>\n",
       "      <th>Generosity</th>\n",
       "    </tr>\n",
       "  </thead>\n",
       "  <tbody>\n",
       "    <tr>\n",
       "      <th>0</th>\n",
       "      <td>Albania</td>\n",
       "      <td>4.7126</td>\n",
       "      <td>0.938633</td>\n",
       "      <td>0.754931</td>\n",
       "      <td>0.787696</td>\n",
       "      <td>0.371898</td>\n",
       "      <td>0.043201</td>\n",
       "      <td>0.167887</td>\n",
       "    </tr>\n",
       "    <tr>\n",
       "      <th>1</th>\n",
       "      <td>Algeria</td>\n",
       "      <td>5.6676</td>\n",
       "      <td>1.012963</td>\n",
       "      <td>1.074205</td>\n",
       "      <td>0.665057</td>\n",
       "      <td>0.178437</td>\n",
       "      <td>0.146099</td>\n",
       "      <td>0.069219</td>\n",
       "    </tr>\n",
       "    <tr>\n",
       "      <th>2</th>\n",
       "      <td>Argentina</td>\n",
       "      <td>6.4594</td>\n",
       "      <td>1.111035</td>\n",
       "      <td>1.330960</td>\n",
       "      <td>0.760895</td>\n",
       "      <td>0.481620</td>\n",
       "      <td>0.064308</td>\n",
       "      <td>0.092371</td>\n",
       "    </tr>\n",
       "    <tr>\n",
       "      <th>3</th>\n",
       "      <td>Armenia</td>\n",
       "      <td>4.3932</td>\n",
       "      <td>0.839133</td>\n",
       "      <td>0.890873</td>\n",
       "      <td>0.697851</td>\n",
       "      <td>0.216029</td>\n",
       "      <td>0.038767</td>\n",
       "      <td>0.082394</td>\n",
       "    </tr>\n",
       "    <tr>\n",
       "      <th>4</th>\n",
       "      <td>Australia</td>\n",
       "      <td>7.2762</td>\n",
       "      <td>1.394885</td>\n",
       "      <td>1.409006</td>\n",
       "      <td>0.914529</td>\n",
       "      <td>0.605043</td>\n",
       "      <td>0.314573</td>\n",
       "      <td>0.416078</td>\n",
       "    </tr>\n",
       "    <tr>\n",
       "      <th>...</th>\n",
       "      <td>...</td>\n",
       "      <td>...</td>\n",
       "      <td>...</td>\n",
       "      <td>...</td>\n",
       "      <td>...</td>\n",
       "      <td>...</td>\n",
       "      <td>...</td>\n",
       "      <td>...</td>\n",
       "    </tr>\n",
       "    <tr>\n",
       "      <th>149</th>\n",
       "      <td>Venezuela</td>\n",
       "      <td>5.5314</td>\n",
       "      <td>1.052468</td>\n",
       "      <td>1.323264</td>\n",
       "      <td>0.683741</td>\n",
       "      <td>0.213709</td>\n",
       "      <td>0.071444</td>\n",
       "      <td>0.057186</td>\n",
       "    </tr>\n",
       "    <tr>\n",
       "      <th>150</th>\n",
       "      <td>Vietnam</td>\n",
       "      <td>5.1546</td>\n",
       "      <td>0.723416</td>\n",
       "      <td>1.138384</td>\n",
       "      <td>0.722700</td>\n",
       "      <td>0.577207</td>\n",
       "      <td>0.091921</td>\n",
       "      <td>0.195664</td>\n",
       "    </tr>\n",
       "    <tr>\n",
       "      <th>151</th>\n",
       "      <td>Yemen</td>\n",
       "      <td>3.6258</td>\n",
       "      <td>0.489313</td>\n",
       "      <td>0.865448</td>\n",
       "      <td>0.365440</td>\n",
       "      <td>0.244175</td>\n",
       "      <td>0.067045</td>\n",
       "      <td>0.096929</td>\n",
       "    </tr>\n",
       "    <tr>\n",
       "      <th>152</th>\n",
       "      <td>Zambia</td>\n",
       "      <td>4.5844</td>\n",
       "      <td>0.571761</td>\n",
       "      <td>0.932381</td>\n",
       "      <td>0.302761</td>\n",
       "      <td>0.462099</td>\n",
       "      <td>0.097337</td>\n",
       "      <td>0.218430</td>\n",
       "    </tr>\n",
       "    <tr>\n",
       "      <th>153</th>\n",
       "      <td>Zimbabwe</td>\n",
       "      <td>4.0066</td>\n",
       "      <td>0.344051</td>\n",
       "      <td>1.007727</td>\n",
       "      <td>0.274403</td>\n",
       "      <td>0.323257</td>\n",
       "      <td>0.089997</td>\n",
       "      <td>0.169409</td>\n",
       "    </tr>\n",
       "  </tbody>\n",
       "</table>\n",
       "<p>154 rows × 8 columns</p>\n",
       "</div>"
      ],
      "text/plain": [
       "       Country   Score       GDP   Support   Healthy   Freedom  Corruption  \\\n",
       "0      Albania  4.7126  0.938633  0.754931  0.787696  0.371898    0.043201   \n",
       "1      Algeria  5.6676  1.012963  1.074205  0.665057  0.178437    0.146099   \n",
       "2    Argentina  6.4594  1.111035  1.330960  0.760895  0.481620    0.064308   \n",
       "3      Armenia  4.3932  0.839133  0.890873  0.697851  0.216029    0.038767   \n",
       "4    Australia  7.2762  1.394885  1.409006  0.914529  0.605043    0.314573   \n",
       "..         ...     ...       ...       ...       ...       ...         ...   \n",
       "149  Venezuela  5.5314  1.052468  1.323264  0.683741  0.213709    0.071444   \n",
       "150    Vietnam  5.1546  0.723416  1.138384  0.722700  0.577207    0.091921   \n",
       "151      Yemen  3.6258  0.489313  0.865448  0.365440  0.244175    0.067045   \n",
       "152     Zambia  4.5844  0.571761  0.932381  0.302761  0.462099    0.097337   \n",
       "153   Zimbabwe  4.0066  0.344051  1.007727  0.274403  0.323257    0.089997   \n",
       "\n",
       "     Generosity  \n",
       "0      0.167887  \n",
       "1      0.069219  \n",
       "2      0.092371  \n",
       "3      0.082394  \n",
       "4      0.416078  \n",
       "..          ...  \n",
       "149    0.057186  \n",
       "150    0.195664  \n",
       "151    0.096929  \n",
       "152    0.218430  \n",
       "153    0.169409  \n",
       "\n",
       "[154 rows x 8 columns]"
      ]
     },
     "metadata": {},
     "output_type": "display_data"
    }
   ],
   "source": [
    "#Calculate the averages for each feature\n",
    "new_df = new_df.groupby('Country', as_index=False).mean()\n",
    "display(new_df)\n"
   ]
  },
  {
   "cell_type": "markdown",
   "metadata": {},
   "source": [
    "## Question 2. Check the correlation between the features and explain it. Which one correlates the most with the happiness score? \n",
    "$\\color{red}{\\text{Answer:}}$  The heat map shows that the GDP correlates the most 0.81 value with the happiness score.\n",
    "\n"
   ]
  },
  {
   "cell_type": "code",
   "execution_count": 12,
   "metadata": {},
   "outputs": [
    {
     "data": {
      "text/html": [
       "<div>\n",
       "<style scoped>\n",
       "    .dataframe tbody tr th:only-of-type {\n",
       "        vertical-align: middle;\n",
       "    }\n",
       "\n",
       "    .dataframe tbody tr th {\n",
       "        vertical-align: top;\n",
       "    }\n",
       "\n",
       "    .dataframe thead th {\n",
       "        text-align: right;\n",
       "    }\n",
       "</style>\n",
       "<table border=\"1\" class=\"dataframe\">\n",
       "  <thead>\n",
       "    <tr style=\"text-align: right;\">\n",
       "      <th></th>\n",
       "      <th>Score</th>\n",
       "      <th>GDP</th>\n",
       "      <th>Support</th>\n",
       "      <th>Healthy</th>\n",
       "      <th>Freedom</th>\n",
       "      <th>Corruption</th>\n",
       "      <th>Generosity</th>\n",
       "    </tr>\n",
       "  </thead>\n",
       "  <tbody>\n",
       "    <tr>\n",
       "      <th>Score</th>\n",
       "      <td>1.000000</td>\n",
       "      <td>0.807569</td>\n",
       "      <td>0.760191</td>\n",
       "      <td>0.772193</td>\n",
       "      <td>0.583017</td>\n",
       "      <td>0.363631</td>\n",
       "      <td>0.135143</td>\n",
       "    </tr>\n",
       "    <tr>\n",
       "      <th>GDP</th>\n",
       "      <td>0.807569</td>\n",
       "      <td>1.000000</td>\n",
       "      <td>0.704343</td>\n",
       "      <td>0.843360</td>\n",
       "      <td>0.388279</td>\n",
       "      <td>0.245267</td>\n",
       "      <td>-0.050455</td>\n",
       "    </tr>\n",
       "    <tr>\n",
       "      <th>Support</th>\n",
       "      <td>0.760191</td>\n",
       "      <td>0.704343</td>\n",
       "      <td>1.000000</td>\n",
       "      <td>0.647087</td>\n",
       "      <td>0.457127</td>\n",
       "      <td>0.147046</td>\n",
       "      <td>0.033174</td>\n",
       "    </tr>\n",
       "    <tr>\n",
       "      <th>Healthy</th>\n",
       "      <td>0.772193</td>\n",
       "      <td>0.843360</td>\n",
       "      <td>0.647087</td>\n",
       "      <td>1.000000</td>\n",
       "      <td>0.361566</td>\n",
       "      <td>0.251146</td>\n",
       "      <td>0.039409</td>\n",
       "    </tr>\n",
       "    <tr>\n",
       "      <th>Freedom</th>\n",
       "      <td>0.583017</td>\n",
       "      <td>0.388279</td>\n",
       "      <td>0.457127</td>\n",
       "      <td>0.361566</td>\n",
       "      <td>1.000000</td>\n",
       "      <td>0.457702</td>\n",
       "      <td>0.317165</td>\n",
       "    </tr>\n",
       "    <tr>\n",
       "      <th>Corruption</th>\n",
       "      <td>0.363631</td>\n",
       "      <td>0.245267</td>\n",
       "      <td>0.147046</td>\n",
       "      <td>0.251146</td>\n",
       "      <td>0.457702</td>\n",
       "      <td>1.000000</td>\n",
       "      <td>0.393995</td>\n",
       "    </tr>\n",
       "    <tr>\n",
       "      <th>Generosity</th>\n",
       "      <td>0.135143</td>\n",
       "      <td>-0.050455</td>\n",
       "      <td>0.033174</td>\n",
       "      <td>0.039409</td>\n",
       "      <td>0.317165</td>\n",
       "      <td>0.393995</td>\n",
       "      <td>1.000000</td>\n",
       "    </tr>\n",
       "  </tbody>\n",
       "</table>\n",
       "</div>"
      ],
      "text/plain": [
       "               Score       GDP   Support   Healthy   Freedom  Corruption  \\\n",
       "Score       1.000000  0.807569  0.760191  0.772193  0.583017    0.363631   \n",
       "GDP         0.807569  1.000000  0.704343  0.843360  0.388279    0.245267   \n",
       "Support     0.760191  0.704343  1.000000  0.647087  0.457127    0.147046   \n",
       "Healthy     0.772193  0.843360  0.647087  1.000000  0.361566    0.251146   \n",
       "Freedom     0.583017  0.388279  0.457127  0.361566  1.000000    0.457702   \n",
       "Corruption  0.363631  0.245267  0.147046  0.251146  0.457702    1.000000   \n",
       "Generosity  0.135143 -0.050455  0.033174  0.039409  0.317165    0.393995   \n",
       "\n",
       "            Generosity  \n",
       "Score         0.135143  \n",
       "GDP          -0.050455  \n",
       "Support       0.033174  \n",
       "Healthy       0.039409  \n",
       "Freedom       0.317165  \n",
       "Corruption    0.393995  \n",
       "Generosity    1.000000  "
      ]
     },
     "execution_count": 12,
     "metadata": {},
     "output_type": "execute_result"
    }
   ],
   "source": [
    "# Exclude non-numeric columns\n",
    "numeric_df = new_df.select_dtypes(include=['float64', 'int64'])\n",
    "\n",
    "# Calculate correlation matrix\n",
    "corr_matrix = numeric_df.corr()\n",
    "\n",
    "# Display the correlation matrix\n",
    "corr_matrix\n",
    "\n",
    "\n"
   ]
  },
  {
   "cell_type": "code",
   "execution_count": 13,
   "metadata": {},
   "outputs": [
    {
     "data": {
      "image/png": "[encoded data removed]",
      "text/plain": [
       "<Figure size 640x480 with 2 Axes>"
      ]
     },
     "metadata": {},
     "output_type": "display_data"
    }
   ],
   "source": [
    "# Create heatmap\n",
    "sns.heatmap(corr_matrix, cmap='coolwarm', annot=True)\n",
    "plt.title('Correlation Matrix of World Happiness Features')\n",
    "plt.show()"
   ]
  },
  {
   "cell_type": "markdown",
   "metadata": {},
   "source": [
    "## Question 3. Apply PCA to reduce the dimension. Explain your results. As a good data visualizer expert, how many principal components should be used to transform this data without loosing much information? How many dimensions that could be reduced? \n",
    "$\\color{red}{\\text{Answer:}}$  After i apply the PCA the final variance ratio in percentage is 53.66%, 21.06%, 8.52%,8.02%,4.47%,2.29%, 1.98% respectively. So, as a good visualizer i would choose 5 principle components PC1,PC2,PC3,PC4 and PC5 to transfer the data without loosing much information because adding these 5 principal components becomes 95.73% which exceeds the variance threshold needed which is greater than 95%. Hence, we can reduce last two dimensions.  "
   ]
  },
  {
   "cell_type": "code",
   "execution_count": 15,
   "metadata": {},
   "outputs": [
    {
     "data": {
      "text/html": [
       "<div>\n",
       "<style scoped>\n",
       "    .dataframe tbody tr th:only-of-type {\n",
       "        vertical-align: middle;\n",
       "    }\n",
       "\n",
       "    .dataframe tbody tr th {\n",
       "        vertical-align: top;\n",
       "    }\n",
       "\n",
       "    .dataframe thead th {\n",
       "        text-align: right;\n",
       "    }\n",
       "</style>\n",
       "<table border=\"1\" class=\"dataframe\">\n",
       "  <thead>\n",
       "    <tr style=\"text-align: right;\">\n",
       "      <th></th>\n",
       "      <th>Score</th>\n",
       "      <th>GDP</th>\n",
       "      <th>Support</th>\n",
       "      <th>Healthy</th>\n",
       "      <th>Freedom</th>\n",
       "      <th>Corruption</th>\n",
       "      <th>Generosity</th>\n",
       "    </tr>\n",
       "  </thead>\n",
       "  <tbody>\n",
       "    <tr>\n",
       "      <th>0</th>\n",
       "      <td>4.7126</td>\n",
       "      <td>0.938633</td>\n",
       "      <td>0.754931</td>\n",
       "      <td>0.787696</td>\n",
       "      <td>0.371898</td>\n",
       "      <td>0.043201</td>\n",
       "      <td>0.167887</td>\n",
       "    </tr>\n",
       "    <tr>\n",
       "      <th>1</th>\n",
       "      <td>5.6676</td>\n",
       "      <td>1.012963</td>\n",
       "      <td>1.074205</td>\n",
       "      <td>0.665057</td>\n",
       "      <td>0.178437</td>\n",
       "      <td>0.146099</td>\n",
       "      <td>0.069219</td>\n",
       "    </tr>\n",
       "    <tr>\n",
       "      <th>2</th>\n",
       "      <td>6.4594</td>\n",
       "      <td>1.111035</td>\n",
       "      <td>1.330960</td>\n",
       "      <td>0.760895</td>\n",
       "      <td>0.481620</td>\n",
       "      <td>0.064308</td>\n",
       "      <td>0.092371</td>\n",
       "    </tr>\n",
       "    <tr>\n",
       "      <th>3</th>\n",
       "      <td>4.3932</td>\n",
       "      <td>0.839133</td>\n",
       "      <td>0.890873</td>\n",
       "      <td>0.697851</td>\n",
       "      <td>0.216029</td>\n",
       "      <td>0.038767</td>\n",
       "      <td>0.082394</td>\n",
       "    </tr>\n",
       "    <tr>\n",
       "      <th>4</th>\n",
       "      <td>7.2762</td>\n",
       "      <td>1.394885</td>\n",
       "      <td>1.409006</td>\n",
       "      <td>0.914529</td>\n",
       "      <td>0.605043</td>\n",
       "      <td>0.314573</td>\n",
       "      <td>0.416078</td>\n",
       "    </tr>\n",
       "    <tr>\n",
       "      <th>...</th>\n",
       "      <td>...</td>\n",
       "      <td>...</td>\n",
       "      <td>...</td>\n",
       "      <td>...</td>\n",
       "      <td>...</td>\n",
       "      <td>...</td>\n",
       "      <td>...</td>\n",
       "    </tr>\n",
       "    <tr>\n",
       "      <th>149</th>\n",
       "      <td>5.5314</td>\n",
       "      <td>1.052468</td>\n",
       "      <td>1.323264</td>\n",
       "      <td>0.683741</td>\n",
       "      <td>0.213709</td>\n",
       "      <td>0.071444</td>\n",
       "      <td>0.057186</td>\n",
       "    </tr>\n",
       "    <tr>\n",
       "      <th>150</th>\n",
       "      <td>5.1546</td>\n",
       "      <td>0.723416</td>\n",
       "      <td>1.138384</td>\n",
       "      <td>0.722700</td>\n",
       "      <td>0.577207</td>\n",
       "      <td>0.091921</td>\n",
       "      <td>0.195664</td>\n",
       "    </tr>\n",
       "    <tr>\n",
       "      <th>151</th>\n",
       "      <td>3.6258</td>\n",
       "      <td>0.489313</td>\n",
       "      <td>0.865448</td>\n",
       "      <td>0.365440</td>\n",
       "      <td>0.244175</td>\n",
       "      <td>0.067045</td>\n",
       "      <td>0.096929</td>\n",
       "    </tr>\n",
       "    <tr>\n",
       "      <th>152</th>\n",
       "      <td>4.5844</td>\n",
       "      <td>0.571761</td>\n",
       "      <td>0.932381</td>\n",
       "      <td>0.302761</td>\n",
       "      <td>0.462099</td>\n",
       "      <td>0.097337</td>\n",
       "      <td>0.218430</td>\n",
       "    </tr>\n",
       "    <tr>\n",
       "      <th>153</th>\n",
       "      <td>4.0066</td>\n",
       "      <td>0.344051</td>\n",
       "      <td>1.007727</td>\n",
       "      <td>0.274403</td>\n",
       "      <td>0.323257</td>\n",
       "      <td>0.089997</td>\n",
       "      <td>0.169409</td>\n",
       "    </tr>\n",
       "  </tbody>\n",
       "</table>\n",
       "<p>154 rows × 7 columns</p>\n",
       "</div>"
      ],
      "text/plain": [
       "      Score       GDP   Support   Healthy   Freedom  Corruption  Generosity\n",
       "0    4.7126  0.938633  0.754931  0.787696  0.371898    0.043201    0.167887\n",
       "1    5.6676  1.012963  1.074205  0.665057  0.178437    0.146099    0.069219\n",
       "2    6.4594  1.111035  1.330960  0.760895  0.481620    0.064308    0.092371\n",
       "3    4.3932  0.839133  0.890873  0.697851  0.216029    0.038767    0.082394\n",
       "4    7.2762  1.394885  1.409006  0.914529  0.605043    0.314573    0.416078\n",
       "..      ...       ...       ...       ...       ...         ...         ...\n",
       "149  5.5314  1.052468  1.323264  0.683741  0.213709    0.071444    0.057186\n",
       "150  5.1546  0.723416  1.138384  0.722700  0.577207    0.091921    0.195664\n",
       "151  3.6258  0.489313  0.865448  0.365440  0.244175    0.067045    0.096929\n",
       "152  4.5844  0.571761  0.932381  0.302761  0.462099    0.097337    0.218430\n",
       "153  4.0066  0.344051  1.007727  0.274403  0.323257    0.089997    0.169409\n",
       "\n",
       "[154 rows x 7 columns]"
      ]
     },
     "metadata": {},
     "output_type": "display_data"
    }
   ],
   "source": [
    "# Select only the columns with numeric data\n",
    "numeric_cols = new_df.select_dtypes(include=['int64', 'float64'])\n",
    "\n",
    "# Create a new DataFrame with only the numeric columns\n",
    "numeric_df = pd.DataFrame(numeric_cols)\n",
    "\n",
    "# Show the first 5 rows of the new DataFrame\n",
    "display(numeric_df)\n"
   ]
  },
  {
   "cell_type": "code",
   "execution_count": 16,
   "metadata": {},
   "outputs": [
    {
     "name": "stdout",
     "output_type": "stream",
     "text": [
      "Principle components:\n",
      " [[ 0.48295031  0.45308795  0.42394424  0.44193811  0.34545745  0.23865803\n",
      "   0.10066677]\n",
      " [-0.05379827 -0.25503367 -0.19676606 -0.20443747  0.34548237  0.54163835\n",
      "   0.66243629]\n",
      " [-0.04039758  0.12100616 -0.3377468   0.06743108 -0.10796376  0.72493603\n",
      "  -0.57264062]\n",
      " [ 0.02090691 -0.20983195  0.15972594 -0.38655291  0.74893245 -0.10308551\n",
      "  -0.45724336]\n",
      " [ 0.022644   -0.18508473  0.73616962 -0.40131    -0.39355855  0.32569361\n",
      "  -0.03564847]\n",
      " [ 0.76306858  0.14770107 -0.31568579 -0.50898    -0.17055283 -0.08584083\n",
      "   0.02712316]\n",
      " [-0.42309488  0.78417169  0.01912839 -0.43452914  0.06905429 -0.00814837\n",
      "   0.10976847]]\n"
     ]
    }
   ],
   "source": [
    "scaled_data = preprocessing.scale(numeric_df)\n",
    "#create a PCA object \n",
    "pca = PCA()\n",
    "#fit the PCA to the scaled data\n",
    "pca.fit(scaled_data)\n",
    "#calculation principle component\n",
    "principal_components=pca.components_\n",
    "#showing the principle components\n",
    "print('Principle components:\\n',principal_components)"
   ]
  },
  {
   "cell_type": "code",
   "execution_count": 17,
   "metadata": {},
   "outputs": [
    {
     "name": "stdout",
     "output_type": "stream",
     "text": [
      "Transformed data using PCA:\n",
      " [[-0.98029721 -0.76482343  0.20579822 ... -1.35224617 -0.33869399\n",
      "  -0.1125262 ]\n",
      " [-0.55221749 -1.52405651  1.09960467 ...  0.67533533  0.40057035\n",
      "  -0.27597994]\n",
      " [ 1.14313331 -1.40916711 -0.12728553 ...  0.03495462  0.14839858\n",
      "  -0.37420638]\n",
      " ...\n",
      " [-2.98499763 -0.72874578  0.4569409  ...  0.38645446 -0.30657218\n",
      "   0.12163544]\n",
      " [-1.73853252  0.59646881 -0.22827634 ...  0.08070751  0.18736901\n",
      "   0.26499753]\n",
      " [-2.61258608  0.06235574 -0.07755893 ...  0.84220062 -0.15786822\n",
      "  -0.01839836]]\n"
     ]
    }
   ],
   "source": [
    "#transform the scaled data using PCA\n",
    "pca_data = pca.transform(scaled_data)\n",
    "print('Transformed data using PCA:\\n',pca_data)"
   ]
  },
  {
   "cell_type": "code",
   "execution_count": 18,
   "metadata": {},
   "outputs": [
    {
     "name": "stdout",
     "output_type": "stream",
     "text": [
      "Variance:\n",
      "[3.7810162  1.48362842 0.60003532 0.56539726 0.31466284 0.16138885\n",
      " 0.13962274]\n"
     ]
    }
   ],
   "source": [
    "# Show the variance\n",
    "print(\"Variance:\")\n",
    "print(pca.explained_variance_)"
   ]
  },
  {
   "cell_type": "code",
   "execution_count": 19,
   "metadata": {},
   "outputs": [
    {
     "name": "stdout",
     "output_type": "stream",
     "text": [
      "Variance ratio in percentage:\n",
      "['53.66%', '21.06%', '8.52%', '8.02%', '4.47%', '2.29%', '1.98%']\n"
     ]
    }
   ],
   "source": [
    "# print explained variance ratio in percentage \n",
    "var_ratio_pct = 100 * pca.explained_variance_ratio_\n",
    "var_ratio_pct_formatted = [f'{x:.2f}%' for x in var_ratio_pct]\n",
    "print(\"Variance ratio in percentage:\")\n",
    "print(var_ratio_pct_formatted)"
   ]
  },
  {
   "cell_type": "code",
   "execution_count": 20,
   "metadata": {},
   "outputs": [
    {
     "data": {
      "image/png": "[encoded data removed]",
      "text/plain": [
       "<Figure size 640x480 with 1 Axes>"
      ]
     },
     "metadata": {},
     "output_type": "display_data"
    }
   ],
   "source": [
    "# Plot the variance ratios as a bar graph\n",
    "per_var = np.round(pca.explained_variance_ratio_ * 100, decimals=1)\n",
    "labels = ['PC' + str(x) for x in range(1, len(per_var) + 1)]\n",
    "plt.bar(x=range(1, len(per_var) + 1), height=per_var, tick_label=labels)\n",
    "plt.ylabel('Percentage of Explained Variance')\n",
    "plt.xlabel('Principal Component')\n",
    "plt.title('Bar Plot')\n",
    "plt.show()"
   ]
  },
  {
   "cell_type": "markdown",
   "metadata": {},
   "source": [
    "## Question 4. Which feature/features have the highest effect on the variance or in other words, which feature is responsible from the differences between countries the most?\n",
    "$\\color{red}{\\text{Answer:}}$ Score has the highest effect on the variance i.e it feature score is responsible between countires the most."
   ]
  },
  {
   "cell_type": "code",
   "execution_count": 22,
   "metadata": {},
   "outputs": [
    {
     "name": "stdout",
     "output_type": "stream",
     "text": [
      "          PC1       PC2       PC3       PC4       PC5       PC6       PC7\n",
      "0   -0.980297 -0.764823  0.205798 -0.490219 -1.352246 -0.338694 -0.112526\n",
      "1   -0.552217 -1.524057  1.099605 -0.903831  0.675335  0.400570 -0.275980\n",
      "2    1.143133 -1.409167 -0.127286  0.746177  0.034955  0.148399 -0.374206\n",
      "3   -1.686100 -1.621392  0.503676 -0.739983 -0.292902 -0.374498 -0.160709\n",
      "4    3.437709  1.631139 -0.099418 -0.438923  0.170437  0.095570 -0.073839\n",
      "..        ...       ...       ...       ...       ...       ...       ...\n",
      "149 -0.215558 -2.109391  0.316881 -0.488564  0.987859 -0.010909 -0.150093\n",
      "150  0.129402  0.068348 -0.358972  0.979798 -0.511956 -0.717219 -0.427765\n",
      "151 -2.984998 -0.728746  0.456941  0.069920  0.386454 -0.306572  0.121635\n",
      "152 -1.738533  0.596469 -0.228276  0.913442  0.080708  0.187369  0.264998\n",
      "153 -2.612586  0.062356 -0.077559  0.537137  0.842201 -0.157868 -0.018398\n",
      "\n",
      "[154 rows x 7 columns]\n"
     ]
    }
   ],
   "source": [
    "# Create a new dataframe using the new data set pca_data\n",
    "pca_df = pd.DataFrame(pca_data, columns=['PC1','PC2','PC3','PC4','PC5','PC6','PC7'])\n",
    "print(pca_df)"
   ]
  },
  {
   "cell_type": "code",
   "execution_count": 23,
   "metadata": {},
   "outputs": [
    {
     "name": "stdout",
     "output_type": "stream",
     "text": [
      "The most important PC with the highest variance ratio is PC1\n"
     ]
    }
   ],
   "source": [
    "# Show the most important PC\n",
    "variance_ratio=pca.explained_variance_ratio_ \n",
    "highest_pc_index = np.argmax(variance_ratio)\n",
    "important_pc = pca.components_[highest_pc_index]\n",
    "print(f\"The most important PC with the highest variance ratio is PC{highest_pc_index+1}\")"
   ]
  },
  {
   "cell_type": "code",
   "execution_count": 24,
   "metadata": {},
   "outputs": [
    {
     "name": "stdout",
     "output_type": "stream",
     "text": [
      "[[ 0.48295031  0.45308795  0.42394424  0.44193811  0.34545745  0.23865803\n",
      "   0.10066677]\n",
      " [-0.05379827 -0.25503367 -0.19676606 -0.20443747  0.34548237  0.54163835\n",
      "   0.66243629]\n",
      " [-0.04039758  0.12100616 -0.3377468   0.06743108 -0.10796376  0.72493603\n",
      "  -0.57264062]\n",
      " [ 0.02090691 -0.20983195  0.15972594 -0.38655291  0.74893245 -0.10308551\n",
      "  -0.45724336]\n",
      " [ 0.022644   -0.18508473  0.73616962 -0.40131    -0.39355855  0.32569361\n",
      "  -0.03564847]\n",
      " [ 0.76306858  0.14770107 -0.31568579 -0.50898    -0.17055283 -0.08584083\n",
      "   0.02712316]\n",
      " [-0.42309488  0.78417169  0.01912839 -0.43452914  0.06905429 -0.00814837\n",
      "   0.10976847]]\n"
     ]
    }
   ],
   "source": [
    "# show the column which has the highest affect on the variance\n",
    "print(pca.components_)"
   ]
  },
  {
   "cell_type": "code",
   "execution_count": 25,
   "metadata": {},
   "outputs": [
    {
     "name": "stdout",
     "output_type": "stream",
     "text": [
      "[0.48295031 0.45308795 0.42394424 0.44193811 0.34545745 0.23865803\n",
      " 0.10066677]\n"
     ]
    }
   ],
   "source": [
    "print(pca.components_[0])"
   ]
  },
  {
   "cell_type": "code",
   "execution_count": 26,
   "metadata": {},
   "outputs": [
    {
     "name": "stdout",
     "output_type": "stream",
     "text": [
      "The feature with the highest effect on the variance is Score\n"
     ]
    }
   ],
   "source": [
    "highest_feature_index=np.argmax(np.abs((pca.components_[0])))\n",
    "column_with_highest_affect=numeric_df.columns[highest_feature_index]   #0-PC1, 1-PC2, 2-PC3...\n",
    "print(f\"The feature with the highest effect on the variance is {column_with_highest_affect}\")"
   ]
  },
  {
   "cell_type": "markdown",
   "metadata": {},
   "source": [
    "## Question 5. Show average happiness scores on a world map. \n",
    "$\\color{red}{\\text{Answer:}}$ "
   ]
  },
  {
   "cell_type": "code",
   "execution_count": 28,
   "metadata": {
    "scrolled": true
   },
   "outputs": [
    {
     "data": {
      "application/vnd.plotly.v1+json": {
       "config": {
        "plotlyServerURL": "https://plot.ly"
       },
       "data": [
        {
         "coloraxis": "coloraxis",
         "geo": "geo",
         "hovertemplate": "Country=%{location}<br>Score=%{z}<extra></extra>",
         "locationmode": "country names",
         "locations": [
          "Albania",
          "Algeria",
          "Argentina",
          "Armenia",
          "Australia",
          "Austria",
          "Azerbaijan",
          "Bahrain",
          "Bangladesh",
          "Belarus",
          "Belgium",
          "Belize",
          "Benin",
          "Bhutan",
          "Bolivia",
          "Botswana",
          "Brazil",
          "Bulgaria",
          "Burkina Faso",
          "Burundi",
          "Cambodia",
          "Cameroon",
          "Canada",
          "Chad",
          "Chile",
          "China",
          "Colombia",
          "Comoros",
          "Congo (Brazzaville)",
          "Costa Rica",
          "Croatia",
          "Cyprus",
          "Czech Republic",
          "Denmark",
          "Djibouti",
          "Dominican Republic",
          "Ecuador",
          "Egypt",
          "El Salvador",
          "Estonia",
          "Ethiopia",
          "Finland",
          "France",
          "Gabon",
          "Gambia",
          "Georgia",
          "Germany",
          "Ghana",
          "Guatemala",
          "Guinea",
          "Haiti",
          "Honduras",
          "Hong Kong",
          "Hong Kong S.A.R., China",
          "Hungary",
          "Iceland",
          "India",
          "Iran",
          "Ireland",
          "Israel",
          "Italy",
          "Ivory Coast",
          "Jamaica",
          "Japan",
          "Jordan",
          "Kazakhstan",
          "Kenya",
          "Kosovo",
          "Kuwait",
          "Kyrgyzstan",
          "Laos",
          "Latvia",
          "Lebanon",
          "Liberia",
          "Libya",
          "Lithuania",
          "Luxembourg",
          "Macedonia",
          "Madagascar",
          "Malawi",
          "Malaysia",
          "Mali",
          "Malta",
          "Mauritania",
          "Mauritius",
          "Mexico",
          "Mongolia",
          "Montenegro",
          "Morocco",
          "Mozambique",
          "Myanmar",
          "Namibia",
          "Nepal",
          "Netherlands",
          "New Zealand",
          "Nicaragua",
          "Niger",
          "Nigeria",
          "North Cyprus",
          "North Macedonia",
          "Northern Cyprus",
          "Norway",
          "Oman",
          "Pakistan",
          "Palestinian Territories",
          "Panama",
          "Paraguay",
          "Peru",
          "Philippines",
          "Poland",
          "Portugal",
          "Puerto Rico",
          "Qatar",
          "Romania",
          "Russia",
          "Rwanda",
          "Saudi Arabia",
          "Senegal",
          "Serbia",
          "Singapore",
          "Slovakia",
          "Slovenia",
          "Somaliland Region",
          "Somaliland region",
          "South Africa",
          "South Korea",
          "South Sudan",
          "Spain",
          "Sri Lanka",
          "Suriname",
          "Sweden",
          "Switzerland",
          "Syria",
          "Taiwan",
          "Taiwan Province of China",
          "Tajikistan",
          "Tanzania",
          "Thailand",
          "Trinidad & Tobago",
          "Trinidad and Tobago",
          "Tunisia",
          "Turkey",
          "Turkmenistan",
          "Uganda",
          "Ukraine",
          "United Kingdom",
          "United States",
          "Uruguay",
          "Uzbekistan",
          "Venezuela",
          "Vietnam",
          "Yemen",
          "Zambia",
          "Zimbabwe"
         ],
         "name": "",
         "type": "choropleth",
         "z": [
          4.7126000106,
          5.6676000434,
          6.4593999954,
          4.3931999856,
          7.276199984,
          7.142000008400001,
          5.2292000412,
          6.1137999786,
          4.5801999604,
          5.5979999534000005,
          6.9213999588,
          5.955999950333333,
          3.901000013,
          5.1248000312,
          5.813199990799999,
          3.8300000064,
          6.657800045799999,
          4.618600045,
          4.0738000130000005,
          3.0789999941999997,
          4.2054000442,
          4.6958000343999995,
          7.350599997000001,
          4.0034000218,
          6.5893999899999995,
          5.2189999526,
          6.3399999747999995,
          3.9616666666666664,
          4.377399977800001,
          7.1261999992,
          5.4586000442,
          5.7327999626,
          6.6546000412,
          7.545999967199999,
          4.369,
          5.199400003799999,
          5.9919999794,
          4.3752000268,
          6.1241999566,
          5.6378000122000005,
          4.4232000076,
          7.5377999726,
          6.5151999824,
          4.4078000306,
          4.516,
          4.338799955,
          6.9290000428,
          4.5363999772,
          6.3437999992,
          3.8535999938000005,
          3.8655999851999994,
          5.2408000466,
          5.448,
          5.472000122,
          5.3293999763999995,
          7.5110000374,
          4.2978000114,
          4.6891999824,
          6.9644000474,
          7.1421999642000005,
          6.022400045,
          4.2731999656,
          5.6619999739999995,
          5.9258000152,
          5.1795999932,
          5.8383999534,
          4.4493999946,
          5.606199961,
          6.1486000038,
          5.1734000373999995,
          4.79275,
          5.676199981,
          5.149599981,
          3.8391999984000003,
          5.597000019,
          5.92979999,
          6.9359999832,
          5.122000047749999,
          3.7454000106,
          3.8830000057999996,
          5.9040000222,
          4.2190000114,
          6.53399999,
          4.3549999634,
          5.706600037399999,
          6.7252000138,
          5.0291999848,
          5.2919999978,
          5.172200026800001,
          4.60100004775,
          4.3830000151999995,
          4.5569999705,
          4.8123999786,
          7.404599971000001,
          7.313000026,
          6.0274000198,
          4.1045999756,
          5.1273999764,
          5.758666647666668,
          5.274,
          5.7765,
          7.541000035800001,
          6.853,
          5.3440000106,
          4.736600019,
          6.5380000282,
          5.6666000062,
          5.7284000306000005,
          5.3873999656,
          5.98080001,
          5.3046000344,
          7.039,
          6.4218,
          5.6983999618,
          5.798599964199999,
          3.4385999912000003,
          6.3759999726,
          4.3939999694,
          5.3391999962,
          6.542800005399999,
          6.1084000099999995,
          5.8879999794,
          5.057,
          5.057,
          4.6751999992,
          5.8853999641999994,
          3.38250002,
          6.3513999756,
          4.3926000114,
          6.269,
          7.319199983999999,
          7.511399991599999,
          3.2921999786000002,
          6.391,
          6.421999931,
          5.097799977799999,
          3.4659999954,
          6.2865999572,
          6.192,
          6.168000073666666,
          4.7283999655999995,
          5.4154,
          5.5822000054,
          4.020199970199999,
          4.307200039,
          6.910000044999999,
          6.9988000062,
          6.4311999991999995,
          6.046200039,
          5.5314,
          5.1545999764,
          3.6257999869999997,
          4.5843999877999995,
          4.006600000000001
         ]
        }
       ],
       "layout": {
        "autosize": true,
        "coloraxis": {
         "colorbar": {
          "title": {
           "text": "Score"
          }
         },
         "colorscale": [
          [
           0,
           "#30123b"
          ],
          [
           0.07142857142857142,
           "#4145ab"
          ],
          [
           0.14285714285714285,
           "#4675ed"
          ],
          [
           0.21428571428571427,
           "#39a2fc"
          ],
          [
           0.2857142857142857,
           "#1bcfd4"
          ],
          [
           0.35714285714285715,
           "#24eca6"
          ],
          [
           0.42857142857142855,
           "#61fc6c"
          ],
          [
           0.5,
           "#a4fc3b"
          ],
          [
           0.5714285714285714,
           "#d1e834"
          ],
          [
           0.6428571428571429,
           "#f3c63a"
          ],
          [
           0.7142857142857143,
           "#fe9b2d"
          ],
          [
           0.7857142857142857,
           "#f36315"
          ],
          [
           0.8571428571428571,
           "#d93806"
          ],
          [
           0.9285714285714286,
           "#b11901"
          ],
          [
           1,
           "#7a0402"
          ]
         ]
        },
        "geo": {
         "center": {},
         "domain": {
          "x": [
           0,
           1
          ],
          "y": [
           0,
           1
          ]
         }
        },
        "legend": {
         "tracegroupgap": 0
        },
        "margin": {
         "b": 40,
         "l": 40,
         "r": 40,
         "t": 40
        },
        "template": {
         "data": {
          "bar": [
           {
            "error_x": {
             "color": "#2a3f5f"
            },
            "error_y": {
             "color": "#2a3f5f"
            },
            "marker": {
             "line": {
              "color": "#E5ECF6",
              "width": 0.5
             },
             "pattern": {
              "fillmode": "overlay",
              "size": 10,
              "solidity": 0.2
             }
            },
            "type": "bar"
           }
          ],
          "barpolar": [
           {
            "marker": {
             "line": {
              "color": "#E5ECF6",
              "width": 0.5
             },
             "pattern": {
              "fillmode": "overlay",
              "size": 10,
              "solidity": 0.2
             }
            },
            "type": "barpolar"
           }
          ],
          "carpet": [
           {
            "aaxis": {
             "endlinecolor": "#2a3f5f",
             "gridcolor": "white",
             "linecolor": "white",
             "minorgridcolor": "white",
             "startlinecolor": "#2a3f5f"
            },
            "baxis": {
             "endlinecolor": "#2a3f5f",
             "gridcolor": "white",
             "linecolor": "white",
             "minorgridcolor": "white",
             "startlinecolor": "#2a3f5f"
            },
            "type": "carpet"
           }
          ],
          "choropleth": [
           {
            "colorbar": {
             "outlinewidth": 0,
             "ticks": ""
            },
            "type": "choropleth"
           }
          ],
          "contour": [
           {
            "colorbar": {
             "outlinewidth": 0,
             "ticks": ""
            },
            "colorscale": [
             [
              0,
              "#0d0887"
             ],
             [
              0.1111111111111111,
              "#46039f"
             ],
             [
              0.2222222222222222,
              "#7201a8"
             ],
             [
              0.3333333333333333,
              "#9c179e"
             ],
             [
              0.4444444444444444,
              "#bd3786"
             ],
             [
              0.5555555555555556,
              "#d8576b"
             ],
             [
              0.6666666666666666,
              "#ed7953"
             ],
             [
              0.7777777777777778,
              "#fb9f3a"
             ],
             [
              0.8888888888888888,
              "#fdca26"
             ],
             [
              1,
              "#f0f921"
             ]
            ],
            "type": "contour"
           }
          ],
          "contourcarpet": [
           {
            "colorbar": {
             "outlinewidth": 0,
             "ticks": ""
            },
            "type": "contourcarpet"
           }
          ],
          "heatmap": [
           {
            "colorbar": {
             "outlinewidth": 0,
             "ticks": ""
            },
            "colorscale": [
             [
              0,
              "#0d0887"
             ],
             [
              0.1111111111111111,
              "#46039f"
             ],
             [
              0.2222222222222222,
              "#7201a8"
             ],
             [
              0.3333333333333333,
              "#9c179e"
             ],
             [
              0.4444444444444444,
              "#bd3786"
             ],
             [
              0.5555555555555556,
              "#d8576b"
             ],
             [
              0.6666666666666666,
              "#ed7953"
             ],
             [
              0.7777777777777778,
              "#fb9f3a"
             ],
             [
              0.8888888888888888,
              "#fdca26"
             ],
             [
              1,
              "#f0f921"
             ]
            ],
            "type": "heatmap"
           }
          ],
          "heatmapgl": [
           {
            "colorbar": {
             "outlinewidth": 0,
             "ticks": ""
            },
            "colorscale": [
             [
              0,
              "#0d0887"
             ],
             [
              0.1111111111111111,
              "#46039f"
             ],
             [
              0.2222222222222222,
              "#7201a8"
             ],
             [
              0.3333333333333333,
              "#9c179e"
             ],
             [
              0.4444444444444444,
              "#bd3786"
             ],
             [
              0.5555555555555556,
              "#d8576b"
             ],
             [
              0.6666666666666666,
              "#ed7953"
             ],
             [
              0.7777777777777778,
              "#fb9f3a"
             ],
             [
              0.8888888888888888,
              "#fdca26"
             ],
             [
              1,
              "#f0f921"
             ]
            ],
            "type": "heatmapgl"
           }
          ],
          "histogram": [
           {
            "marker": {
             "pattern": {
              "fillmode": "overlay",
              "size": 10,
              "solidity": 0.2
             }
            },
            "type": "histogram"
           }
          ],
          "histogram2d": [
           {
            "colorbar": {
             "outlinewidth": 0,
             "ticks": ""
            },
            "colorscale": [
             [
              0,
              "#0d0887"
             ],
             [
              0.1111111111111111,
              "#46039f"
             ],
             [
              0.2222222222222222,
              "#7201a8"
             ],
             [
              0.3333333333333333,
              "#9c179e"
             ],
             [
              0.4444444444444444,
              "#bd3786"
             ],
             [
              0.5555555555555556,
              "#d8576b"
             ],
             [
              0.6666666666666666,
              "#ed7953"
             ],
             [
              0.7777777777777778,
              "#fb9f3a"
             ],
             [
              0.8888888888888888,
              "#fdca26"
             ],
             [
              1,
              "#f0f921"
             ]
            ],
            "type": "histogram2d"
           }
          ],
          "histogram2dcontour": [
           {
            "colorbar": {
             "outlinewidth": 0,
             "ticks": ""
            },
            "colorscale": [
             [
              0,
              "#0d0887"
             ],
             [
              0.1111111111111111,
              "#46039f"
             ],
             [
              0.2222222222222222,
              "#7201a8"
             ],
             [
              0.3333333333333333,
              "#9c179e"
             ],
             [
              0.4444444444444444,
              "#bd3786"
             ],
             [
              0.5555555555555556,
              "#d8576b"
             ],
             [
              0.6666666666666666,
              "#ed7953"
             ],
             [
              0.7777777777777778,
              "#fb9f3a"
             ],
             [
              0.8888888888888888,
              "#fdca26"
             ],
             [
              1,
              "#f0f921"
             ]
            ],
            "type": "histogram2dcontour"
           }
          ],
          "mesh3d": [
           {
            "colorbar": {
             "outlinewidth": 0,
             "ticks": ""
            },
            "type": "mesh3d"
           }
          ],
          "parcoords": [
           {
            "line": {
             "colorbar": {
              "outlinewidth": 0,
              "ticks": ""
             }
            },
            "type": "parcoords"
           }
          ],
          "pie": [
           {
            "automargin": true,
            "type": "pie"
           }
          ],
          "scatter": [
           {
            "fillpattern": {
             "fillmode": "overlay",
             "size": 10,
             "solidity": 0.2
            },
            "type": "scatter"
           }
          ],
          "scatter3d": [
           {
            "line": {
             "colorbar": {
              "outlinewidth": 0,
              "ticks": ""
             }
            },
            "marker": {
             "colorbar": {
              "outlinewidth": 0,
              "ticks": ""
             }
            },
            "type": "scatter3d"
           }
          ],
          "scattercarpet": [
           {
            "marker": {
             "colorbar": {
              "outlinewidth": 0,
              "ticks": ""
             }
            },
            "type": "scattercarpet"
           }
          ],
          "scattergeo": [
           {
            "marker": {
             "colorbar": {
              "outlinewidth": 0,
              "ticks": ""
             }
            },
            "type": "scattergeo"
           }
          ],
          "scattergl": [
           {
            "marker": {
             "colorbar": {
              "outlinewidth": 0,
              "ticks": ""
             }
            },
            "type": "scattergl"
           }
          ],
          "scattermapbox": [
           {
            "marker": {
             "colorbar": {
              "outlinewidth": 0,
              "ticks": ""
             }
            },
            "type": "scattermapbox"
           }
          ],
          "scatterpolar": [
           {
            "marker": {
             "colorbar": {
              "outlinewidth": 0,
              "ticks": ""
             }
            },
            "type": "scatterpolar"
           }
          ],
          "scatterpolargl": [
           {
            "marker": {
             "colorbar": {
              "outlinewidth": 0,
              "ticks": ""
             }
            },
            "type": "scatterpolargl"
           }
          ],
          "scatterternary": [
           {
            "marker": {
             "colorbar": {
              "outlinewidth": 0,
              "ticks": ""
             }
            },
            "type": "scatterternary"
           }
          ],
          "surface": [
           {
            "colorbar": {
             "outlinewidth": 0,
             "ticks": ""
            },
            "colorscale": [
             [
              0,
              "#0d0887"
             ],
             [
              0.1111111111111111,
              "#46039f"
             ],
             [
              0.2222222222222222,
              "#7201a8"
             ],
             [
              0.3333333333333333,
              "#9c179e"
             ],
             [
              0.4444444444444444,
              "#bd3786"
             ],
             [
              0.5555555555555556,
              "#d8576b"
             ],
             [
              0.6666666666666666,
              "#ed7953"
             ],
             [
              0.7777777777777778,
              "#fb9f3a"
             ],
             [
              0.8888888888888888,
              "#fdca26"
             ],
             [
              1,
              "#f0f921"
             ]
            ],
            "type": "surface"
           }
          ],
          "table": [
           {
            "cells": {
             "fill": {
              "color": "#EBF0F8"
             },
             "line": {
              "color": "white"
             }
            },
            "header": {
             "fill": {
              "color": "#C8D4E3"
             },
             "line": {
              "color": "white"
             }
            },
            "type": "table"
           }
          ]
         },
         "layout": {
          "annotationdefaults": {
           "arrowcolor": "#2a3f5f",
           "arrowhead": 0,
           "arrowwidth": 1
          },
          "autotypenumbers": "strict",
          "coloraxis": {
           "colorbar": {
            "outlinewidth": 0,
            "ticks": ""
           }
          },
          "colorscale": {
           "diverging": [
            [
             0,
             "#8e0152"
            ],
            [
             0.1,
             "#c51b7d"
            ],
            [
             0.2,
             "#de77ae"
            ],
            [
             0.3,
             "#f1b6da"
            ],
            [
             0.4,
             "#fde0ef"
            ],
            [
             0.5,
             "#f7f7f7"
            ],
            [
             0.6,
             "#e6f5d0"
            ],
            [
             0.7,
             "#b8e186"
            ],
            [
             0.8,
             "#7fbc41"
            ],
            [
             0.9,
             "#4d9221"
            ],
            [
             1,
             "#276419"
            ]
           ],
           "sequential": [
            [
             0,
             "#0d0887"
            ],
            [
             0.1111111111111111,
             "#46039f"
            ],
            [
             0.2222222222222222,
             "#7201a8"
            ],
            [
             0.3333333333333333,
             "#9c179e"
            ],
            [
             0.4444444444444444,
             "#bd3786"
            ],
            [
             0.5555555555555556,
             "#d8576b"
            ],
            [
             0.6666666666666666,
             "#ed7953"
            ],
            [
             0.7777777777777778,
             "#fb9f3a"
            ],
            [
             0.8888888888888888,
             "#fdca26"
            ],
            [
             1,
             "#f0f921"
            ]
           ],
           "sequentialminus": [
            [
             0,
             "#0d0887"
            ],
            [
             0.1111111111111111,
             "#46039f"
            ],
            [
             0.2222222222222222,
             "#7201a8"
            ],
            [
             0.3333333333333333,
             "#9c179e"
            ],
            [
             0.4444444444444444,
             "#bd3786"
            ],
            [
             0.5555555555555556,
             "#d8576b"
            ],
            [
             0.6666666666666666,
             "#ed7953"
            ],
            [
             0.7777777777777778,
             "#fb9f3a"
            ],
            [
             0.8888888888888888,
             "#fdca26"
            ],
            [
             1,
             "#f0f921"
            ]
           ]
          },
          "colorway": [
           "#636efa",
           "#EF553B",
           "#00cc96",
           "#ab63fa",
           "#FFA15A",
           "#19d3f3",
           "#FF6692",
           "#B6E880",
           "#FF97FF",
           "#FECB52"
          ],
          "font": {
           "color": "#2a3f5f"
          },
          "geo": {
           "bgcolor": "white",
           "lakecolor": "white",
           "landcolor": "#E5ECF6",
           "showlakes": true,
           "showland": true,
           "subunitcolor": "white"
          },
          "hoverlabel": {
           "align": "left"
          },
          "hovermode": "closest",
          "mapbox": {
           "style": "light"
          },
          "paper_bgcolor": "white",
          "plot_bgcolor": "#E5ECF6",
          "polar": {
           "angularaxis": {
            "gridcolor": "white",
            "linecolor": "white",
            "ticks": ""
           },
           "bgcolor": "#E5ECF6",
           "radialaxis": {
            "gridcolor": "white",
            "linecolor": "white",
            "ticks": ""
           }
          },
          "scene": {
           "xaxis": {
            "backgroundcolor": "#E5ECF6",
            "gridcolor": "white",
            "gridwidth": 2,
            "linecolor": "white",
            "showbackground": true,
            "ticks": "",
            "zerolinecolor": "white"
           },
           "yaxis": {
            "backgroundcolor": "#E5ECF6",
            "gridcolor": "white",
            "gridwidth": 2,
            "linecolor": "white",
            "showbackground": true,
            "ticks": "",
            "zerolinecolor": "white"
           },
           "zaxis": {
            "backgroundcolor": "#E5ECF6",
            "gridcolor": "white",
            "gridwidth": 2,
            "linecolor": "white",
            "showbackground": true,
            "ticks": "",
            "zerolinecolor": "white"
           }
          },
          "shapedefaults": {
           "line": {
            "color": "#2a3f5f"
           }
          },
          "ternary": {
           "aaxis": {
            "gridcolor": "white",
            "linecolor": "white",
            "ticks": ""
           },
           "baxis": {
            "gridcolor": "white",
            "linecolor": "white",
            "ticks": ""
           },
           "bgcolor": "#E5ECF6",
           "caxis": {
            "gridcolor": "white",
            "linecolor": "white",
            "ticks": ""
           }
          },
          "title": {
           "x": 0.05
          },
          "xaxis": {
           "automargin": true,
           "gridcolor": "white",
           "linecolor": "white",
           "ticks": "",
           "title": {
            "standoff": 15
           },
           "zerolinecolor": "white",
           "zerolinewidth": 2
          },
          "yaxis": {
           "automargin": true,
           "gridcolor": "white",
           "linecolor": "white",
           "ticks": "",
           "title": {
            "standoff": 15
           },
           "zerolinecolor": "white",
           "zerolinewidth": 2
          }
         }
        },
        "title": {
         "text": "Average Happiness Score By Country Map"
        }
       }
      },
      "text/html": [
       "<div>                            <div id=\"fedd9674-8818-4c3b-9372-a76a31681ab6\" class=\"plotly-graph-div\" style=\"height:525px; width:100%;\"></div>            <script type=\"text/javascript\">                require([\"plotly\"], function(Plotly) {                    window.PLOTLYENV=window.PLOTLYENV || {};                                    if (document.getElementById(\"fedd9674-8818-4c3b-9372-a76a31681ab6\")) {                    Plotly.newPlot(                        \"fedd9674-8818-4c3b-9372-a76a31681ab6\",                        [{\"coloraxis\":\"coloraxis\",\"geo\":\"geo\",\"hovertemplate\":\"Country=%{location}\\u003cbr\\u003eScore=%{z}\\u003cextra\\u003e\\u003c\\u002fextra\\u003e\",\"locationmode\":\"country names\",\"locations\":[\"Albania\",\"Algeria\",\"Argentina\",\"Armenia\",\"Australia\",\"Austria\",\"Azerbaijan\",\"Bahrain\",\"Bangladesh\",\"Belarus\",\"Belgium\",\"Belize\",\"Benin\",\"Bhutan\",\"Bolivia\",\"Botswana\",\"Brazil\",\"Bulgaria\",\"Burkina Faso\",\"Burundi\",\"Cambodia\",\"Cameroon\",\"Canada\",\"Chad\",\"Chile\",\"China\",\"Colombia\",\"Comoros\",\"Congo (Brazzaville)\",\"Costa Rica\",\"Croatia\",\"Cyprus\",\"Czech Republic\",\"Denmark\",\"Djibouti\",\"Dominican Republic\",\"Ecuador\",\"Egypt\",\"El Salvador\",\"Estonia\",\"Ethiopia\",\"Finland\",\"France\",\"Gabon\",\"Gambia\",\"Georgia\",\"Germany\",\"Ghana\",\"Guatemala\",\"Guinea\",\"Haiti\",\"Honduras\",\"Hong Kong\",\"Hong Kong S.A.R., China\",\"Hungary\",\"Iceland\",\"India\",\"Iran\",\"Ireland\",\"Israel\",\"Italy\",\"Ivory Coast\",\"Jamaica\",\"Japan\",\"Jordan\",\"Kazakhstan\",\"Kenya\",\"Kosovo\",\"Kuwait\",\"Kyrgyzstan\",\"Laos\",\"Latvia\",\"Lebanon\",\"Liberia\",\"Libya\",\"Lithuania\",\"Luxembourg\",\"Macedonia\",\"Madagascar\",\"Malawi\",\"Malaysia\",\"Mali\",\"Malta\",\"Mauritania\",\"Mauritius\",\"Mexico\",\"Mongolia\",\"Montenegro\",\"Morocco\",\"Mozambique\",\"Myanmar\",\"Namibia\",\"Nepal\",\"Netherlands\",\"New Zealand\",\"Nicaragua\",\"Niger\",\"Nigeria\",\"North Cyprus\",\"North Macedonia\",\"Northern Cyprus\",\"Norway\",\"Oman\",\"Pakistan\",\"Palestinian Territories\",\"Panama\",\"Paraguay\",\"Peru\",\"Philippines\",\"Poland\",\"Portugal\",\"Puerto Rico\",\"Qatar\",\"Romania\",\"Russia\",\"Rwanda\",\"Saudi Arabia\",\"Senegal\",\"Serbia\",\"Singapore\",\"Slovakia\",\"Slovenia\",\"Somaliland Region\",\"Somaliland region\",\"South Africa\",\"South Korea\",\"South Sudan\",\"Spain\",\"Sri Lanka\",\"Suriname\",\"Sweden\",\"Switzerland\",\"Syria\",\"Taiwan\",\"Taiwan Province of China\",\"Tajikistan\",\"Tanzania\",\"Thailand\",\"Trinidad & Tobago\",\"Trinidad and Tobago\",\"Tunisia\",\"Turkey\",\"Turkmenistan\",\"Uganda\",\"Ukraine\",\"United Kingdom\",\"United States\",\"Uruguay\",\"Uzbekistan\",\"Venezuela\",\"Vietnam\",\"Yemen\",\"Zambia\",\"Zimbabwe\"],\"name\":\"\",\"z\":[4.7126000106,5.6676000434,6.4593999954,4.3931999856,7.276199984,7.142000008400001,5.2292000412,6.1137999786,4.5801999604,5.5979999534000005,6.9213999588,5.955999950333333,3.901000013,5.1248000312,5.813199990799999,3.8300000064,6.657800045799999,4.618600045,4.0738000130000005,3.0789999941999997,4.2054000442,4.6958000343999995,7.350599997000001,4.0034000218,6.5893999899999995,5.2189999526,6.3399999747999995,3.9616666666666664,4.377399977800001,7.1261999992,5.4586000442,5.7327999626,6.6546000412,7.545999967199999,4.369,5.199400003799999,5.9919999794,4.3752000268,6.1241999566,5.6378000122000005,4.4232000076,7.5377999726,6.5151999824,4.4078000306,4.516,4.338799955,6.9290000428,4.5363999772,6.3437999992,3.8535999938000005,3.8655999851999994,5.2408000466,5.448,5.472000122,5.3293999763999995,7.5110000374,4.2978000114,4.6891999824,6.9644000474,7.1421999642000005,6.022400045,4.2731999656,5.6619999739999995,5.9258000152,5.1795999932,5.8383999534,4.4493999946,5.606199961,6.1486000038,5.1734000373999995,4.79275,5.676199981,5.149599981,3.8391999984000003,5.597000019,5.92979999,6.9359999832,5.122000047749999,3.7454000106,3.8830000057999996,5.9040000222,4.2190000114,6.53399999,4.3549999634,5.706600037399999,6.7252000138,5.0291999848,5.2919999978,5.172200026800001,4.60100004775,4.3830000151999995,4.5569999705,4.8123999786,7.404599971000001,7.313000026,6.0274000198,4.1045999756,5.1273999764,5.758666647666668,5.274,5.7765,7.541000035800001,6.853,5.3440000106,4.736600019,6.5380000282,5.6666000062,5.7284000306000005,5.3873999656,5.98080001,5.3046000344,7.039,6.4218,5.6983999618,5.798599964199999,3.4385999912000003,6.3759999726,4.3939999694,5.3391999962,6.542800005399999,6.1084000099999995,5.8879999794,5.057,5.057,4.6751999992,5.8853999641999994,3.38250002,6.3513999756,4.3926000114,6.269,7.319199983999999,7.511399991599999,3.2921999786000002,6.391,6.421999931,5.097799977799999,3.4659999954,6.2865999572,6.192,6.168000073666666,4.7283999655999995,5.4154,5.5822000054,4.020199970199999,4.307200039,6.910000044999999,6.9988000062,6.4311999991999995,6.046200039,5.5314,5.1545999764,3.6257999869999997,4.5843999877999995,4.006600000000001],\"type\":\"choropleth\"}],                        {\"template\":{\"data\":{\"histogram2dcontour\":[{\"type\":\"histogram2dcontour\",\"colorbar\":{\"outlinewidth\":0,\"ticks\":\"\"},\"colorscale\":[[0.0,\"#0d0887\"],[0.1111111111111111,\"#46039f\"],[0.2222222222222222,\"#7201a8\"],[0.3333333333333333,\"#9c179e\"],[0.4444444444444444,\"#bd3786\"],[0.5555555555555556,\"#d8576b\"],[0.6666666666666666,\"#ed7953\"],[0.7777777777777778,\"#fb9f3a\"],[0.8888888888888888,\"#fdca26\"],[1.0,\"#f0f921\"]]}],\"choropleth\":[{\"type\":\"choropleth\",\"colorbar\":{\"outlinewidth\":0,\"ticks\":\"\"}}],\"histogram2d\":[{\"type\":\"histogram2d\",\"colorbar\":{\"outlinewidth\":0,\"ticks\":\"\"},\"colorscale\":[[0.0,\"#0d0887\"],[0.1111111111111111,\"#46039f\"],[0.2222222222222222,\"#7201a8\"],[0.3333333333333333,\"#9c179e\"],[0.4444444444444444,\"#bd3786\"],[0.5555555555555556,\"#d8576b\"],[0.6666666666666666,\"#ed7953\"],[0.7777777777777778,\"#fb9f3a\"],[0.8888888888888888,\"#fdca26\"],[1.0,\"#f0f921\"]]}],\"heatmap\":[{\"type\":\"heatmap\",\"colorbar\":{\"outlinewidth\":0,\"ticks\":\"\"},\"colorscale\":[[0.0,\"#0d0887\"],[0.1111111111111111,\"#46039f\"],[0.2222222222222222,\"#7201a8\"],[0.3333333333333333,\"#9c179e\"],[0.4444444444444444,\"#bd3786\"],[0.5555555555555556,\"#d8576b\"],[0.6666666666666666,\"#ed7953\"],[0.7777777777777778,\"#fb9f3a\"],[0.8888888888888888,\"#fdca26\"],[1.0,\"#f0f921\"]]}],\"heatmapgl\":[{\"type\":\"heatmapgl\",\"colorbar\":{\"outlinewidth\":0,\"ticks\":\"\"},\"colorscale\":[[0.0,\"#0d0887\"],[0.1111111111111111,\"#46039f\"],[0.2222222222222222,\"#7201a8\"],[0.3333333333333333,\"#9c179e\"],[0.4444444444444444,\"#bd3786\"],[0.5555555555555556,\"#d8576b\"],[0.6666666666666666,\"#ed7953\"],[0.7777777777777778,\"#fb9f3a\"],[0.8888888888888888,\"#fdca26\"],[1.0,\"#f0f921\"]]}],\"contourcarpet\":[{\"type\":\"contourcarpet\",\"colorbar\":{\"outlinewidth\":0,\"ticks\":\"\"}}],\"contour\":[{\"type\":\"contour\",\"colorbar\":{\"outlinewidth\":0,\"ticks\":\"\"},\"colorscale\":[[0.0,\"#0d0887\"],[0.1111111111111111,\"#46039f\"],[0.2222222222222222,\"#7201a8\"],[0.3333333333333333,\"#9c179e\"],[0.4444444444444444,\"#bd3786\"],[0.5555555555555556,\"#d8576b\"],[0.6666666666666666,\"#ed7953\"],[0.7777777777777778,\"#fb9f3a\"],[0.8888888888888888,\"#fdca26\"],[1.0,\"#f0f921\"]]}],\"surface\":[{\"type\":\"surface\",\"colorbar\":{\"outlinewidth\":0,\"ticks\":\"\"},\"colorscale\":[[0.0,\"#0d0887\"],[0.1111111111111111,\"#46039f\"],[0.2222222222222222,\"#7201a8\"],[0.3333333333333333,\"#9c179e\"],[0.4444444444444444,\"#bd3786\"],[0.5555555555555556,\"#d8576b\"],[0.6666666666666666,\"#ed7953\"],[0.7777777777777778,\"#fb9f3a\"],[0.8888888888888888,\"#fdca26\"],[1.0,\"#f0f921\"]]}],\"mesh3d\":[{\"type\":\"mesh3d\",\"colorbar\":{\"outlinewidth\":0,\"ticks\":\"\"}}],\"scatter\":[{\"fillpattern\":{\"fillmode\":\"overlay\",\"size\":10,\"solidity\":0.2},\"type\":\"scatter\"}],\"parcoords\":[{\"type\":\"parcoords\",\"line\":{\"colorbar\":{\"outlinewidth\":0,\"ticks\":\"\"}}}],\"scatterpolargl\":[{\"type\":\"scatterpolargl\",\"marker\":{\"colorbar\":{\"outlinewidth\":0,\"ticks\":\"\"}}}],\"bar\":[{\"error_x\":{\"color\":\"#2a3f5f\"},\"error_y\":{\"color\":\"#2a3f5f\"},\"marker\":{\"line\":{\"color\":\"#E5ECF6\",\"width\":0.5},\"pattern\":{\"fillmode\":\"overlay\",\"size\":10,\"solidity\":0.2}},\"type\":\"bar\"}],\"scattergeo\":[{\"type\":\"scattergeo\",\"marker\":{\"colorbar\":{\"outlinewidth\":0,\"ticks\":\"\"}}}],\"scatterpolar\":[{\"type\":\"scatterpolar\",\"marker\":{\"colorbar\":{\"outlinewidth\":0,\"ticks\":\"\"}}}],\"histogram\":[{\"marker\":{\"pattern\":{\"fillmode\":\"overlay\",\"size\":10,\"solidity\":0.2}},\"type\":\"histogram\"}],\"scattergl\":[{\"type\":\"scattergl\",\"marker\":{\"colorbar\":{\"outlinewidth\":0,\"ticks\":\"\"}}}],\"scatter3d\":[{\"type\":\"scatter3d\",\"line\":{\"colorbar\":{\"outlinewidth\":0,\"ticks\":\"\"}},\"marker\":{\"colorbar\":{\"outlinewidth\":0,\"ticks\":\"\"}}}],\"scattermapbox\":[{\"type\":\"scattermapbox\",\"marker\":{\"colorbar\":{\"outlinewidth\":0,\"ticks\":\"\"}}}],\"scatterternary\":[{\"type\":\"scatterternary\",\"marker\":{\"colorbar\":{\"outlinewidth\":0,\"ticks\":\"\"}}}],\"scattercarpet\":[{\"type\":\"scattercarpet\",\"marker\":{\"colorbar\":{\"outlinewidth\":0,\"ticks\":\"\"}}}],\"carpet\":[{\"aaxis\":{\"endlinecolor\":\"#2a3f5f\",\"gridcolor\":\"white\",\"linecolor\":\"white\",\"minorgridcolor\":\"white\",\"startlinecolor\":\"#2a3f5f\"},\"baxis\":{\"endlinecolor\":\"#2a3f5f\",\"gridcolor\":\"white\",\"linecolor\":\"white\",\"minorgridcolor\":\"white\",\"startlinecolor\":\"#2a3f5f\"},\"type\":\"carpet\"}],\"table\":[{\"cells\":{\"fill\":{\"color\":\"#EBF0F8\"},\"line\":{\"color\":\"white\"}},\"header\":{\"fill\":{\"color\":\"#C8D4E3\"},\"line\":{\"color\":\"white\"}},\"type\":\"table\"}],\"barpolar\":[{\"marker\":{\"line\":{\"color\":\"#E5ECF6\",\"width\":0.5},\"pattern\":{\"fillmode\":\"overlay\",\"size\":10,\"solidity\":0.2}},\"type\":\"barpolar\"}],\"pie\":[{\"automargin\":true,\"type\":\"pie\"}]},\"layout\":{\"autotypenumbers\":\"strict\",\"colorway\":[\"#636efa\",\"#EF553B\",\"#00cc96\",\"#ab63fa\",\"#FFA15A\",\"#19d3f3\",\"#FF6692\",\"#B6E880\",\"#FF97FF\",\"#FECB52\"],\"font\":{\"color\":\"#2a3f5f\"},\"hovermode\":\"closest\",\"hoverlabel\":{\"align\":\"left\"},\"paper_bgcolor\":\"white\",\"plot_bgcolor\":\"#E5ECF6\",\"polar\":{\"bgcolor\":\"#E5ECF6\",\"angularaxis\":{\"gridcolor\":\"white\",\"linecolor\":\"white\",\"ticks\":\"\"},\"radialaxis\":{\"gridcolor\":\"white\",\"linecolor\":\"white\",\"ticks\":\"\"}},\"ternary\":{\"bgcolor\":\"#E5ECF6\",\"aaxis\":{\"gridcolor\":\"white\",\"linecolor\":\"white\",\"ticks\":\"\"},\"baxis\":{\"gridcolor\":\"white\",\"linecolor\":\"white\",\"ticks\":\"\"},\"caxis\":{\"gridcolor\":\"white\",\"linecolor\":\"white\",\"ticks\":\"\"}},\"coloraxis\":{\"colorbar\":{\"outlinewidth\":0,\"ticks\":\"\"}},\"colorscale\":{\"sequential\":[[0.0,\"#0d0887\"],[0.1111111111111111,\"#46039f\"],[0.2222222222222222,\"#7201a8\"],[0.3333333333333333,\"#9c179e\"],[0.4444444444444444,\"#bd3786\"],[0.5555555555555556,\"#d8576b\"],[0.6666666666666666,\"#ed7953\"],[0.7777777777777778,\"#fb9f3a\"],[0.8888888888888888,\"#fdca26\"],[1.0,\"#f0f921\"]],\"sequentialminus\":[[0.0,\"#0d0887\"],[0.1111111111111111,\"#46039f\"],[0.2222222222222222,\"#7201a8\"],[0.3333333333333333,\"#9c179e\"],[0.4444444444444444,\"#bd3786\"],[0.5555555555555556,\"#d8576b\"],[0.6666666666666666,\"#ed7953\"],[0.7777777777777778,\"#fb9f3a\"],[0.8888888888888888,\"#fdca26\"],[1.0,\"#f0f921\"]],\"diverging\":[[0,\"#8e0152\"],[0.1,\"#c51b7d\"],[0.2,\"#de77ae\"],[0.3,\"#f1b6da\"],[0.4,\"#fde0ef\"],[0.5,\"#f7f7f7\"],[0.6,\"#e6f5d0\"],[0.7,\"#b8e186\"],[0.8,\"#7fbc41\"],[0.9,\"#4d9221\"],[1,\"#276419\"]]},\"xaxis\":{\"gridcolor\":\"white\",\"linecolor\":\"white\",\"ticks\":\"\",\"title\":{\"standoff\":15},\"zerolinecolor\":\"white\",\"automargin\":true,\"zerolinewidth\":2},\"yaxis\":{\"gridcolor\":\"white\",\"linecolor\":\"white\",\"ticks\":\"\",\"title\":{\"standoff\":15},\"zerolinecolor\":\"white\",\"automargin\":true,\"zerolinewidth\":2},\"scene\":{\"xaxis\":{\"backgroundcolor\":\"#E5ECF6\",\"gridcolor\":\"white\",\"linecolor\":\"white\",\"showbackground\":true,\"ticks\":\"\",\"zerolinecolor\":\"white\",\"gridwidth\":2},\"yaxis\":{\"backgroundcolor\":\"#E5ECF6\",\"gridcolor\":\"white\",\"linecolor\":\"white\",\"showbackground\":true,\"ticks\":\"\",\"zerolinecolor\":\"white\",\"gridwidth\":2},\"zaxis\":{\"backgroundcolor\":\"#E5ECF6\",\"gridcolor\":\"white\",\"linecolor\":\"white\",\"showbackground\":true,\"ticks\":\"\",\"zerolinecolor\":\"white\",\"gridwidth\":2}},\"shapedefaults\":{\"line\":{\"color\":\"#2a3f5f\"}},\"annotationdefaults\":{\"arrowcolor\":\"#2a3f5f\",\"arrowhead\":0,\"arrowwidth\":1},\"geo\":{\"bgcolor\":\"white\",\"landcolor\":\"#E5ECF6\",\"subunitcolor\":\"white\",\"showland\":true,\"showlakes\":true,\"lakecolor\":\"white\"},\"title\":{\"x\":0.05},\"mapbox\":{\"style\":\"light\"}}},\"geo\":{\"domain\":{\"x\":[0.0,1.0],\"y\":[0.0,1.0]},\"center\":{}},\"coloraxis\":{\"colorbar\":{\"title\":{\"text\":\"Score\"}},\"colorscale\":[[0.0,\"#30123b\"],[0.07142857142857142,\"#4145ab\"],[0.14285714285714285,\"#4675ed\"],[0.21428571428571427,\"#39a2fc\"],[0.2857142857142857,\"#1bcfd4\"],[0.35714285714285715,\"#24eca6\"],[0.42857142857142855,\"#61fc6c\"],[0.5,\"#a4fc3b\"],[0.5714285714285714,\"#d1e834\"],[0.6428571428571429,\"#f3c63a\"],[0.7142857142857143,\"#fe9b2d\"],[0.7857142857142857,\"#f36315\"],[0.8571428571428571,\"#d93806\"],[0.9285714285714286,\"#b11901\"],[1.0,\"#7a0402\"]]},\"legend\":{\"tracegroupgap\":0},\"title\":{\"text\":\"Average Happiness Score By Country Map\"},\"margin\":{\"l\":40,\"r\":40,\"t\":40,\"b\":40}},                        {\"responsive\": true}                    ).then(function(){\n",
       "                            \n",
       "var gd = document.getElementById('fedd9674-8818-4c3b-9372-a76a31681ab6');\n",
       "var x = new MutationObserver(function (mutations, observer) {{\n",
       "        var display = window.getComputedStyle(gd).display;\n",
       "        if (!display || display === 'none') {{\n",
       "            console.log([gd, 'removed!']);\n",
       "            Plotly.purge(gd);\n",
       "            observer.disconnect();\n",
       "        }}\n",
       "}});\n",
       "\n",
       "// Listen for the removal of the full notebook cells\n",
       "var notebookContainer = gd.closest('#notebook-container');\n",
       "if (notebookContainer) {{\n",
       "    x.observe(notebookContainer, {childList: true});\n",
       "}}\n",
       "\n",
       "// Listen for the clearing of the current output cell\n",
       "var outputEl = gd.closest('.output');\n",
       "if (outputEl) {{\n",
       "    x.observe(outputEl, {childList: true});\n",
       "}}\n",
       "\n",
       "                        })                };                });            </script>        </div>"
      ]
     },
     "metadata": {},
     "output_type": "display_data"
    }
   ],
   "source": [
    "\n",
    "Country_Happiness = px.choropleth(new_df, locations='Country', locationmode='country names', \n",
    "                                  color='Score', color_continuous_scale='Turbo', title = 'Average Happiness Score By Country Map')\n",
    "Country_Happiness.update_layout(margin=dict(l=40, r=40, t=40, b=40))\n",
    "Country_Happiness.show()\n",
    "\n"
   ]
  },
  {
   "cell_type": "markdown",
   "metadata": {},
   "source": [
    "## Find and show  which countries are the outliers for each feature. If you remove these outliers how your results will change for the first 4 questions. Also show average happiness scores of these outliers on the world map and compare with the map from Question 5. \n",
    "_$\\color{red}{\\text{Answer:}}$ I have used zscore_outliers() function to calculate the z_score for each data point in the series based on the mean and standard deviation of the series to find out the outliers.i have used threshold of 2.5 to find out the outliers.i deleted the outliers and tried to compare with Q1-Q4 i did not find much difference the results are as follows:"
   ]
  },
  {
   "cell_type": "code",
   "execution_count": 30,
   "metadata": {},
   "outputs": [
    {
     "data": {
      "text/html": [
       "<div>\n",
       "<style scoped>\n",
       "    .dataframe tbody tr th:only-of-type {\n",
       "        vertical-align: middle;\n",
       "    }\n",
       "\n",
       "    .dataframe tbody tr th {\n",
       "        vertical-align: top;\n",
       "    }\n",
       "\n",
       "    .dataframe thead th {\n",
       "        text-align: right;\n",
       "    }\n",
       "</style>\n",
       "<table border=\"1\" class=\"dataframe\">\n",
       "  <thead>\n",
       "    <tr style=\"text-align: right;\">\n",
       "      <th></th>\n",
       "      <th>Country</th>\n",
       "      <th>Score</th>\n",
       "      <th>GDP</th>\n",
       "      <th>Support</th>\n",
       "      <th>Healthy</th>\n",
       "      <th>Freedom</th>\n",
       "      <th>Corruption</th>\n",
       "      <th>Generosity</th>\n",
       "    </tr>\n",
       "  </thead>\n",
       "  <tbody>\n",
       "    <tr>\n",
       "      <th>0</th>\n",
       "      <td>Albania</td>\n",
       "      <td>4.7126</td>\n",
       "      <td>0.938633</td>\n",
       "      <td>0.754931</td>\n",
       "      <td>0.787696</td>\n",
       "      <td>0.371898</td>\n",
       "      <td>0.043201</td>\n",
       "      <td>0.167887</td>\n",
       "    </tr>\n",
       "    <tr>\n",
       "      <th>1</th>\n",
       "      <td>Algeria</td>\n",
       "      <td>5.6676</td>\n",
       "      <td>1.012963</td>\n",
       "      <td>1.074205</td>\n",
       "      <td>0.665057</td>\n",
       "      <td>0.178437</td>\n",
       "      <td>0.146099</td>\n",
       "      <td>0.069219</td>\n",
       "    </tr>\n",
       "    <tr>\n",
       "      <th>2</th>\n",
       "      <td>Argentina</td>\n",
       "      <td>6.4594</td>\n",
       "      <td>1.111035</td>\n",
       "      <td>1.330960</td>\n",
       "      <td>0.760895</td>\n",
       "      <td>0.481620</td>\n",
       "      <td>0.064308</td>\n",
       "      <td>0.092371</td>\n",
       "    </tr>\n",
       "    <tr>\n",
       "      <th>3</th>\n",
       "      <td>Armenia</td>\n",
       "      <td>4.3932</td>\n",
       "      <td>0.839133</td>\n",
       "      <td>0.890873</td>\n",
       "      <td>0.697851</td>\n",
       "      <td>0.216029</td>\n",
       "      <td>0.038767</td>\n",
       "      <td>0.082394</td>\n",
       "    </tr>\n",
       "    <tr>\n",
       "      <th>4</th>\n",
       "      <td>Australia</td>\n",
       "      <td>7.2762</td>\n",
       "      <td>1.394885</td>\n",
       "      <td>1.409006</td>\n",
       "      <td>0.914529</td>\n",
       "      <td>0.605043</td>\n",
       "      <td>0.314573</td>\n",
       "      <td>0.416078</td>\n",
       "    </tr>\n",
       "    <tr>\n",
       "      <th>...</th>\n",
       "      <td>...</td>\n",
       "      <td>...</td>\n",
       "      <td>...</td>\n",
       "      <td>...</td>\n",
       "      <td>...</td>\n",
       "      <td>...</td>\n",
       "      <td>...</td>\n",
       "      <td>...</td>\n",
       "    </tr>\n",
       "    <tr>\n",
       "      <th>149</th>\n",
       "      <td>Venezuela</td>\n",
       "      <td>5.5314</td>\n",
       "      <td>1.052468</td>\n",
       "      <td>1.323264</td>\n",
       "      <td>0.683741</td>\n",
       "      <td>0.213709</td>\n",
       "      <td>0.071444</td>\n",
       "      <td>0.057186</td>\n",
       "    </tr>\n",
       "    <tr>\n",
       "      <th>150</th>\n",
       "      <td>Vietnam</td>\n",
       "      <td>5.1546</td>\n",
       "      <td>0.723416</td>\n",
       "      <td>1.138384</td>\n",
       "      <td>0.722700</td>\n",
       "      <td>0.577207</td>\n",
       "      <td>0.091921</td>\n",
       "      <td>0.195664</td>\n",
       "    </tr>\n",
       "    <tr>\n",
       "      <th>151</th>\n",
       "      <td>Yemen</td>\n",
       "      <td>3.6258</td>\n",
       "      <td>0.489313</td>\n",
       "      <td>0.865448</td>\n",
       "      <td>0.365440</td>\n",
       "      <td>0.244175</td>\n",
       "      <td>0.067045</td>\n",
       "      <td>0.096929</td>\n",
       "    </tr>\n",
       "    <tr>\n",
       "      <th>152</th>\n",
       "      <td>Zambia</td>\n",
       "      <td>4.5844</td>\n",
       "      <td>0.571761</td>\n",
       "      <td>0.932381</td>\n",
       "      <td>0.302761</td>\n",
       "      <td>0.462099</td>\n",
       "      <td>0.097337</td>\n",
       "      <td>0.218430</td>\n",
       "    </tr>\n",
       "    <tr>\n",
       "      <th>153</th>\n",
       "      <td>Zimbabwe</td>\n",
       "      <td>4.0066</td>\n",
       "      <td>0.344051</td>\n",
       "      <td>1.007727</td>\n",
       "      <td>0.274403</td>\n",
       "      <td>0.323257</td>\n",
       "      <td>0.089997</td>\n",
       "      <td>0.169409</td>\n",
       "    </tr>\n",
       "  </tbody>\n",
       "</table>\n",
       "<p>154 rows × 8 columns</p>\n",
       "</div>"
      ],
      "text/plain": [
       "       Country   Score       GDP   Support   Healthy   Freedom  Corruption  \\\n",
       "0      Albania  4.7126  0.938633  0.754931  0.787696  0.371898    0.043201   \n",
       "1      Algeria  5.6676  1.012963  1.074205  0.665057  0.178437    0.146099   \n",
       "2    Argentina  6.4594  1.111035  1.330960  0.760895  0.481620    0.064308   \n",
       "3      Armenia  4.3932  0.839133  0.890873  0.697851  0.216029    0.038767   \n",
       "4    Australia  7.2762  1.394885  1.409006  0.914529  0.605043    0.314573   \n",
       "..         ...     ...       ...       ...       ...       ...         ...   \n",
       "149  Venezuela  5.5314  1.052468  1.323264  0.683741  0.213709    0.071444   \n",
       "150    Vietnam  5.1546  0.723416  1.138384  0.722700  0.577207    0.091921   \n",
       "151      Yemen  3.6258  0.489313  0.865448  0.365440  0.244175    0.067045   \n",
       "152     Zambia  4.5844  0.571761  0.932381  0.302761  0.462099    0.097337   \n",
       "153   Zimbabwe  4.0066  0.344051  1.007727  0.274403  0.323257    0.089997   \n",
       "\n",
       "     Generosity  \n",
       "0      0.167887  \n",
       "1      0.069219  \n",
       "2      0.092371  \n",
       "3      0.082394  \n",
       "4      0.416078  \n",
       "..          ...  \n",
       "149    0.057186  \n",
       "150    0.195664  \n",
       "151    0.096929  \n",
       "152    0.218430  \n",
       "153    0.169409  \n",
       "\n",
       "[154 rows x 8 columns]"
      ]
     },
     "execution_count": 30,
     "metadata": {},
     "output_type": "execute_result"
    }
   ],
   "source": [
    "new_df"
   ]
  },
  {
   "cell_type": "code",
   "execution_count": 31,
   "metadata": {},
   "outputs": [
    {
     "data": {
      "image/png": "[encoded data removed]",
      "text/plain": [
       "<Figure size 1000x600 with 1 Axes>"
      ]
     },
     "metadata": {},
     "output_type": "display_data"
    }
   ],
   "source": [
    "# Create a figure with custom size\n",
    "fig, ax = plt.subplots(figsize=(10, 6))\n",
    "\n",
    "# Create a boxplot of all features with custom settings\n",
    "sns.boxplot(data=new_df[['Score', 'GDP', 'Support', 'Healthy', 'Freedom', 'Corruption', 'Generosity']], \n",
    "            ax=ax, width=0.4, showfliers=True)\n",
    "\n",
    "# Add a title and axis labels\n",
    "ax.set_title('Boxplot of Features')\n",
    "ax.set_xlabel('Features')\n",
    "ax.set_ylabel('Values')\n",
    "\n",
    "# Show the plot\n",
    "plt.show()\n"
   ]
  },
  {
   "cell_type": "markdown",
   "metadata": {},
   "source": [
    "# As we can see the four features support, freedom, corrution and generosity has the outliers."
   ]
  },
  {
   "cell_type": "markdown",
   "metadata": {},
   "source": [
    "# Finding the outliers using z_score function"
   ]
  },
  {
   "cell_type": "code",
   "execution_count": 34,
   "metadata": {},
   "outputs": [],
   "source": [
    "def zscore_outliers(series, threshold=2.5):\n",
    "    z_scores = np.abs((series - series.mean()) / series.std())\n",
    "    mask = z_scores > threshold\n",
    "    series = series[mask]\n",
    "    return series\n"
   ]
  },
  {
   "cell_type": "code",
   "execution_count": 35,
   "metadata": {},
   "outputs": [
    {
     "data": {
      "text/plain": [
       "<Axes: xlabel='Corruption'>"
      ]
     },
     "execution_count": 35,
     "metadata": {},
     "output_type": "execute_result"
    },
    {
     "data": {
      "image/png": "[encoded data removed]",
      "text/plain": [
       "<Figure size 640x480 with 1 Axes>"
      ]
     },
     "metadata": {},
     "output_type": "display_data"
    }
   ],
   "source": [
    "sns.boxplot(x=new_df[\"Corruption\"])"
   ]
  },
  {
   "cell_type": "code",
   "execution_count": 36,
   "metadata": {},
   "outputs": [
    {
     "name": "stdout",
     "output_type": "stream",
     "text": [
      "33     0.429374\n",
      "41     0.398474\n",
      "94     0.400015\n",
      "115    0.473468\n",
      "119    0.467256\n",
      "123    0.399280\n",
      "130    0.397502\n",
      "Name: Corruption, dtype: float64\n"
     ]
    }
   ],
   "source": [
    "df_outlier = zscore_outliers(new_df['Corruption'])\n",
    "print(df_outlier)"
   ]
  },
  {
   "cell_type": "code",
   "execution_count": 37,
   "metadata": {},
   "outputs": [
    {
     "data": {
      "text/plain": [
       "<Axes: xlabel='Support'>"
      ]
     },
     "execution_count": 37,
     "metadata": {},
     "output_type": "execute_result"
    },
    {
     "data": {
      "image/png": "[encoded data removed]",
      "text/plain": [
       "<Figure size 640x480 with 1 Axes>"
      ]
     },
     "metadata": {},
     "output_type": "display_data"
    }
   ],
   "source": [
    "sns.boxplot(x=new_df[\"Support\"])"
   ]
  },
  {
   "cell_type": "code",
   "execution_count": 38,
   "metadata": {},
   "outputs": [
    {
     "name": "stdout",
     "output_type": "stream",
     "text": [
      "12     0.340470\n",
      "79     0.434382\n",
      "132    0.355931\n",
      "Name: Support, dtype: float64\n"
     ]
    }
   ],
   "source": [
    "df_outlier =zscore_outliers(new_df['Support'])\n",
    "print(df_outlier)"
   ]
  },
  {
   "cell_type": "code",
   "execution_count": 39,
   "metadata": {},
   "outputs": [
    {
     "data": {
      "text/plain": [
       "<Axes: xlabel='Freedom'>"
      ]
     },
     "execution_count": 39,
     "metadata": {},
     "output_type": "execute_result"
    },
    {
     "data": {
      "image/png": "[encoded data removed]",
      "text/plain": [
       "<Figure size 640x480 with 1 Axes>"
      ]
     },
     "metadata": {},
     "output_type": "display_data"
    }
   ],
   "source": [
    "sns.boxplot(x=new_df[\"Freedom\"])"
   ]
  },
  {
   "cell_type": "code",
   "execution_count": 40,
   "metadata": {},
   "outputs": [
    {
     "name": "stdout",
     "output_type": "stream",
     "text": [
      "50     0.089268\n",
      "132    0.081700\n",
      "Name: Freedom, dtype: float64\n"
     ]
    }
   ],
   "source": [
    "df_outlier = zscore_outliers(new_df['Freedom'])\n",
    "print(df_outlier)"
   ]
  },
  {
   "cell_type": "code",
   "execution_count": 41,
   "metadata": {},
   "outputs": [
    {
     "data": {
      "text/plain": [
       "<Axes: xlabel='Generosity'>"
      ]
     },
     "execution_count": 41,
     "metadata": {},
     "output_type": "execute_result"
    },
    {
     "data": {
      "image/png": "[encoded data removed]",
      "text/plain": [
       "<Figure size 640x480 with 1 Axes>"
      ]
     },
     "metadata": {},
     "output_type": "display_data"
    }
   ],
   "source": [
    "sns.boxplot(x=new_df[\"Generosity\"])"
   ]
  },
  {
   "cell_type": "code",
   "execution_count": 42,
   "metadata": {},
   "outputs": [
    {
     "name": "stdout",
     "output_type": "stream",
     "text": [
      "90     0.723533\n",
      "122    0.514790\n",
      "Name: Generosity, dtype: float64\n"
     ]
    }
   ],
   "source": [
    "df_outlier = zscore_outliers(new_df['Generosity'])\n",
    "print(df_outlier)"
   ]
  },
  {
   "cell_type": "markdown",
   "metadata": {},
   "source": [
    "# Displaying the outliers in the dataframe by calculating zscore"
   ]
  },
  {
   "cell_type": "code",
   "execution_count": 44,
   "metadata": {},
   "outputs": [
    {
     "data": {
      "text/html": [
       "<div>\n",
       "<style scoped>\n",
       "    .dataframe tbody tr th:only-of-type {\n",
       "        vertical-align: middle;\n",
       "    }\n",
       "\n",
       "    .dataframe tbody tr th {\n",
       "        vertical-align: top;\n",
       "    }\n",
       "\n",
       "    .dataframe thead th {\n",
       "        text-align: right;\n",
       "    }\n",
       "</style>\n",
       "<table border=\"1\" class=\"dataframe\">\n",
       "  <thead>\n",
       "    <tr style=\"text-align: right;\">\n",
       "      <th></th>\n",
       "      <th>Score</th>\n",
       "      <th>GDP</th>\n",
       "      <th>Support</th>\n",
       "      <th>Healthy</th>\n",
       "      <th>Freedom</th>\n",
       "      <th>Corruption</th>\n",
       "      <th>Generosity</th>\n",
       "    </tr>\n",
       "  </thead>\n",
       "  <tbody>\n",
       "    <tr>\n",
       "      <th>0</th>\n",
       "      <td>-0.690058</td>\n",
       "      <td>-0.009294</td>\n",
       "      <td>-1.299383</td>\n",
       "      <td>0.688209</td>\n",
       "      <td>-0.408727</td>\n",
       "      <td>-0.856123</td>\n",
       "      <td>-0.470826</td>\n",
       "    </tr>\n",
       "    <tr>\n",
       "      <th>1</th>\n",
       "      <td>0.189084</td>\n",
       "      <td>0.178367</td>\n",
       "      <td>-0.084277</td>\n",
       "      <td>0.135632</td>\n",
       "      <td>-1.860019</td>\n",
       "      <td>0.120459</td>\n",
       "      <td>-1.320783</td>\n",
       "    </tr>\n",
       "    <tr>\n",
       "      <th>2</th>\n",
       "      <td>0.917989</td>\n",
       "      <td>0.425968</td>\n",
       "      <td>0.892889</td>\n",
       "      <td>0.567454</td>\n",
       "      <td>0.414381</td>\n",
       "      <td>-0.655800</td>\n",
       "      <td>-1.121342</td>\n",
       "    </tr>\n",
       "    <tr>\n",
       "      <th>3</th>\n",
       "      <td>-0.984087</td>\n",
       "      <td>-0.260498</td>\n",
       "      <td>-0.782011</td>\n",
       "      <td>0.283392</td>\n",
       "      <td>-1.578017</td>\n",
       "      <td>-0.898204</td>\n",
       "      <td>-1.207294</td>\n",
       "    </tr>\n",
       "    <tr>\n",
       "      <th>4</th>\n",
       "      <td>1.669908</td>\n",
       "      <td>1.142599</td>\n",
       "      <td>1.189920</td>\n",
       "      <td>1.259686</td>\n",
       "      <td>1.340274</td>\n",
       "      <td>1.719398</td>\n",
       "      <td>1.667186</td>\n",
       "    </tr>\n",
       "    <tr>\n",
       "      <th>...</th>\n",
       "      <td>...</td>\n",
       "      <td>...</td>\n",
       "      <td>...</td>\n",
       "      <td>...</td>\n",
       "      <td>...</td>\n",
       "      <td>...</td>\n",
       "      <td>...</td>\n",
       "    </tr>\n",
       "    <tr>\n",
       "      <th>149</th>\n",
       "      <td>0.063703</td>\n",
       "      <td>0.278105</td>\n",
       "      <td>0.863597</td>\n",
       "      <td>0.219816</td>\n",
       "      <td>-1.595416</td>\n",
       "      <td>-0.588072</td>\n",
       "      <td>-1.424443</td>\n",
       "    </tr>\n",
       "    <tr>\n",
       "      <th>150</th>\n",
       "      <td>-0.283167</td>\n",
       "      <td>-0.552648</td>\n",
       "      <td>0.159977</td>\n",
       "      <td>0.395355</td>\n",
       "      <td>1.131452</td>\n",
       "      <td>-0.393736</td>\n",
       "      <td>-0.231544</td>\n",
       "    </tr>\n",
       "    <tr>\n",
       "      <th>151</th>\n",
       "      <td>-1.690530</td>\n",
       "      <td>-1.143684</td>\n",
       "      <td>-0.878772</td>\n",
       "      <td>-1.214358</td>\n",
       "      <td>-1.366873</td>\n",
       "      <td>-0.629819</td>\n",
       "      <td>-1.082081</td>\n",
       "    </tr>\n",
       "    <tr>\n",
       "      <th>152</th>\n",
       "      <td>-0.808074</td>\n",
       "      <td>-0.935527</td>\n",
       "      <td>-0.624036</td>\n",
       "      <td>-1.496772</td>\n",
       "      <td>0.267938</td>\n",
       "      <td>-0.342333</td>\n",
       "      <td>-0.035426</td>\n",
       "    </tr>\n",
       "    <tr>\n",
       "      <th>153</th>\n",
       "      <td>-1.339978</td>\n",
       "      <td>-1.510423</td>\n",
       "      <td>-0.337283</td>\n",
       "      <td>-1.624548</td>\n",
       "      <td>-0.773619</td>\n",
       "      <td>-0.411992</td>\n",
       "      <td>-0.457714</td>\n",
       "    </tr>\n",
       "  </tbody>\n",
       "</table>\n",
       "<p>154 rows × 7 columns</p>\n",
       "</div>"
      ],
      "text/plain": [
       "        Score       GDP   Support   Healthy   Freedom  Corruption  Generosity\n",
       "0   -0.690058 -0.009294 -1.299383  0.688209 -0.408727   -0.856123   -0.470826\n",
       "1    0.189084  0.178367 -0.084277  0.135632 -1.860019    0.120459   -1.320783\n",
       "2    0.917989  0.425968  0.892889  0.567454  0.414381   -0.655800   -1.121342\n",
       "3   -0.984087 -0.260498 -0.782011  0.283392 -1.578017   -0.898204   -1.207294\n",
       "4    1.669908  1.142599  1.189920  1.259686  1.340274    1.719398    1.667186\n",
       "..        ...       ...       ...       ...       ...         ...         ...\n",
       "149  0.063703  0.278105  0.863597  0.219816 -1.595416   -0.588072   -1.424443\n",
       "150 -0.283167 -0.552648  0.159977  0.395355  1.131452   -0.393736   -0.231544\n",
       "151 -1.690530 -1.143684 -0.878772 -1.214358 -1.366873   -0.629819   -1.082081\n",
       "152 -0.808074 -0.935527 -0.624036 -1.496772  0.267938   -0.342333   -0.035426\n",
       "153 -1.339978 -1.510423 -0.337283 -1.624548 -0.773619   -0.411992   -0.457714\n",
       "\n",
       "[154 rows x 7 columns]"
      ]
     },
     "metadata": {},
     "output_type": "display_data"
    }
   ],
   "source": [
    "# Select only the numeric columns\n",
    "numeric_cols = new_df.select_dtypes(include='float')\n",
    "\n",
    "# Calculate the z-scores for each column\n",
    "z_scores = (numeric_cols - numeric_cols.mean()) / numeric_cols.std()\n",
    "\n",
    "display(z_scores)\n"
   ]
  },
  {
   "cell_type": "code",
   "execution_count": 45,
   "metadata": {},
   "outputs": [
    {
     "name": "stdout",
     "output_type": "stream",
     "text": [
      "The outliers when the threshold is 2.5 are:\n"
     ]
    },
    {
     "data": {
      "text/html": [
       "<div>\n",
       "<style scoped>\n",
       "    .dataframe tbody tr th:only-of-type {\n",
       "        vertical-align: middle;\n",
       "    }\n",
       "\n",
       "    .dataframe tbody tr th {\n",
       "        vertical-align: top;\n",
       "    }\n",
       "\n",
       "    .dataframe thead th {\n",
       "        text-align: right;\n",
       "    }\n",
       "</style>\n",
       "<table border=\"1\" class=\"dataframe\">\n",
       "  <thead>\n",
       "    <tr style=\"text-align: right;\">\n",
       "      <th></th>\n",
       "      <th>Country</th>\n",
       "      <th>Score</th>\n",
       "      <th>GDP</th>\n",
       "      <th>Support</th>\n",
       "      <th>Healthy</th>\n",
       "      <th>Freedom</th>\n",
       "      <th>Corruption</th>\n",
       "      <th>Generosity</th>\n",
       "    </tr>\n",
       "  </thead>\n",
       "  <tbody>\n",
       "    <tr>\n",
       "      <th>12</th>\n",
       "      <td>Benin</td>\n",
       "      <td>3.9010</td>\n",
       "      <td>0.376745</td>\n",
       "      <td>0.340470</td>\n",
       "      <td>0.275262</td>\n",
       "      <td>0.419387</td>\n",
       "      <td>0.071368</td>\n",
       "      <td>0.186070</td>\n",
       "    </tr>\n",
       "    <tr>\n",
       "      <th>33</th>\n",
       "      <td>Denmark</td>\n",
       "      <td>7.5460</td>\n",
       "      <td>1.396729</td>\n",
       "      <td>1.447688</td>\n",
       "      <td>0.865249</td>\n",
       "      <td>0.625959</td>\n",
       "      <td>0.429374</td>\n",
       "      <td>0.318876</td>\n",
       "    </tr>\n",
       "    <tr>\n",
       "      <th>41</th>\n",
       "      <td>Finland</td>\n",
       "      <td>7.5378</td>\n",
       "      <td>1.356960</td>\n",
       "      <td>1.434429</td>\n",
       "      <td>0.873836</td>\n",
       "      <td>0.621536</td>\n",
       "      <td>0.398474</td>\n",
       "      <td>0.217783</td>\n",
       "    </tr>\n",
       "    <tr>\n",
       "      <th>50</th>\n",
       "      <td>Haiti</td>\n",
       "      <td>3.8656</td>\n",
       "      <td>0.322862</td>\n",
       "      <td>0.616216</td>\n",
       "      <td>0.335746</td>\n",
       "      <td>0.089268</td>\n",
       "      <td>0.126076</td>\n",
       "      <td>0.448331</td>\n",
       "    </tr>\n",
       "    <tr>\n",
       "      <th>79</th>\n",
       "      <td>Malawi</td>\n",
       "      <td>3.8830</td>\n",
       "      <td>0.142714</td>\n",
       "      <td>0.434382</td>\n",
       "      <td>0.327070</td>\n",
       "      <td>0.457151</td>\n",
       "      <td>0.077424</td>\n",
       "      <td>0.271226</td>\n",
       "    </tr>\n",
       "    <tr>\n",
       "      <th>90</th>\n",
       "      <td>Myanmar</td>\n",
       "      <td>4.3830</td>\n",
       "      <td>0.474262</td>\n",
       "      <td>0.977419</td>\n",
       "      <td>0.452557</td>\n",
       "      <td>0.497316</td>\n",
       "      <td>0.186317</td>\n",
       "      <td>0.723533</td>\n",
       "    </tr>\n",
       "    <tr>\n",
       "      <th>94</th>\n",
       "      <td>New Zealand</td>\n",
       "      <td>7.3130</td>\n",
       "      <td>1.317509</td>\n",
       "      <td>1.439729</td>\n",
       "      <td>0.891618</td>\n",
       "      <td>0.617782</td>\n",
       "      <td>0.400015</td>\n",
       "      <td>0.432805</td>\n",
       "    </tr>\n",
       "    <tr>\n",
       "      <th>115</th>\n",
       "      <td>Rwanda</td>\n",
       "      <td>3.4386</td>\n",
       "      <td>0.322057</td>\n",
       "      <td>0.788453</td>\n",
       "      <td>0.417543</td>\n",
       "      <td>0.581611</td>\n",
       "      <td>0.473468</td>\n",
       "      <td>0.226311</td>\n",
       "    </tr>\n",
       "    <tr>\n",
       "      <th>119</th>\n",
       "      <td>Singapore</td>\n",
       "      <td>6.5428</td>\n",
       "      <td>1.592138</td>\n",
       "      <td>1.231079</td>\n",
       "      <td>1.014186</td>\n",
       "      <td>0.553412</td>\n",
       "      <td>0.467256</td>\n",
       "      <td>0.303215</td>\n",
       "    </tr>\n",
       "    <tr>\n",
       "      <th>122</th>\n",
       "      <td>Somaliland Region</td>\n",
       "      <td>5.0570</td>\n",
       "      <td>0.255580</td>\n",
       "      <td>0.758620</td>\n",
       "      <td>0.331080</td>\n",
       "      <td>0.391300</td>\n",
       "      <td>0.367940</td>\n",
       "      <td>0.514790</td>\n",
       "    </tr>\n",
       "    <tr>\n",
       "      <th>123</th>\n",
       "      <td>Somaliland region</td>\n",
       "      <td>5.0570</td>\n",
       "      <td>0.188470</td>\n",
       "      <td>0.951520</td>\n",
       "      <td>0.438730</td>\n",
       "      <td>0.465820</td>\n",
       "      <td>0.399280</td>\n",
       "      <td>0.503180</td>\n",
       "    </tr>\n",
       "    <tr>\n",
       "      <th>130</th>\n",
       "      <td>Sweden</td>\n",
       "      <td>7.3192</td>\n",
       "      <td>1.403981</td>\n",
       "      <td>1.368574</td>\n",
       "      <td>0.898991</td>\n",
       "      <td>0.617581</td>\n",
       "      <td>0.397502</td>\n",
       "      <td>0.336512</td>\n",
       "    </tr>\n",
       "    <tr>\n",
       "      <th>132</th>\n",
       "      <td>Syria</td>\n",
       "      <td>3.2922</td>\n",
       "      <td>0.699109</td>\n",
       "      <td>0.355931</td>\n",
       "      <td>0.566281</td>\n",
       "      <td>0.081700</td>\n",
       "      <td>0.159547</td>\n",
       "      <td>0.431285</td>\n",
       "    </tr>\n",
       "  </tbody>\n",
       "</table>\n",
       "</div>"
      ],
      "text/plain": [
       "               Country   Score       GDP   Support   Healthy   Freedom  \\\n",
       "12               Benin  3.9010  0.376745  0.340470  0.275262  0.419387   \n",
       "33             Denmark  7.5460  1.396729  1.447688  0.865249  0.625959   \n",
       "41             Finland  7.5378  1.356960  1.434429  0.873836  0.621536   \n",
       "50               Haiti  3.8656  0.322862  0.616216  0.335746  0.089268   \n",
       "79              Malawi  3.8830  0.142714  0.434382  0.327070  0.457151   \n",
       "90             Myanmar  4.3830  0.474262  0.977419  0.452557  0.497316   \n",
       "94         New Zealand  7.3130  1.317509  1.439729  0.891618  0.617782   \n",
       "115             Rwanda  3.4386  0.322057  0.788453  0.417543  0.581611   \n",
       "119          Singapore  6.5428  1.592138  1.231079  1.014186  0.553412   \n",
       "122  Somaliland Region  5.0570  0.255580  0.758620  0.331080  0.391300   \n",
       "123  Somaliland region  5.0570  0.188470  0.951520  0.438730  0.465820   \n",
       "130             Sweden  7.3192  1.403981  1.368574  0.898991  0.617581   \n",
       "132              Syria  3.2922  0.699109  0.355931  0.566281  0.081700   \n",
       "\n",
       "     Corruption  Generosity  \n",
       "12     0.071368    0.186070  \n",
       "33     0.429374    0.318876  \n",
       "41     0.398474    0.217783  \n",
       "50     0.126076    0.448331  \n",
       "79     0.077424    0.271226  \n",
       "90     0.186317    0.723533  \n",
       "94     0.400015    0.432805  \n",
       "115    0.473468    0.226311  \n",
       "119    0.467256    0.303215  \n",
       "122    0.367940    0.514790  \n",
       "123    0.399280    0.503180  \n",
       "130    0.397502    0.336512  \n",
       "132    0.159547    0.431285  "
      ]
     },
     "metadata": {},
     "output_type": "display_data"
    }
   ],
   "source": [
    "# Find rows with at least one z-score greater than a threshold\n",
    "threshold = 2.5\n",
    "outliers = new_df[(z_scores.abs() > threshold).any(axis=1)]\n",
    "print(\"The outliers when the threshold is 2.5 are:\")\n",
    "# Display outliers\n",
    "display(outliers)"
   ]
  },
  {
   "cell_type": "code",
   "execution_count": 46,
   "metadata": {},
   "outputs": [
    {
     "data": {
      "image/png": "[encoded data removed]",
      "text/plain": [
       "<Figure size 640x480 with 1 Axes>"
      ]
     },
     "metadata": {},
     "output_type": "display_data"
    }
   ],
   "source": [
    "# Create boxplots for each feature\n",
    "sns.boxplot(data=new_df, palette='Set3')\n",
    "plt.title('Boxplots of Features')\n",
    "plt.xticks(rotation=45)\n",
    "\n",
    "# Highlight outliers in red\n",
    "outliers = z_scores.abs() > 2.8\n",
    "for col in numeric_cols.columns:\n",
    "    y = numeric_cols[col][outliers[col]]\n",
    "    x = [col]*len(y)\n",
    "    plt.plot(x, y, 'ro')\n",
    "    \n",
    "plt.show()"
   ]
  },
  {
   "cell_type": "markdown",
   "metadata": {},
   "source": [
    "# Deleting the outliers"
   ]
  },
  {
   "cell_type": "code",
   "execution_count": 48,
   "metadata": {},
   "outputs": [
    {
     "data": {
      "text/html": [
       "<div>\n",
       "<style scoped>\n",
       "    .dataframe tbody tr th:only-of-type {\n",
       "        vertical-align: middle;\n",
       "    }\n",
       "\n",
       "    .dataframe tbody tr th {\n",
       "        vertical-align: top;\n",
       "    }\n",
       "\n",
       "    .dataframe thead th {\n",
       "        text-align: right;\n",
       "    }\n",
       "</style>\n",
       "<table border=\"1\" class=\"dataframe\">\n",
       "  <thead>\n",
       "    <tr style=\"text-align: right;\">\n",
       "      <th></th>\n",
       "      <th>Country</th>\n",
       "      <th>Score</th>\n",
       "      <th>GDP</th>\n",
       "      <th>Support</th>\n",
       "      <th>Healthy</th>\n",
       "      <th>Freedom</th>\n",
       "      <th>Corruption</th>\n",
       "      <th>Generosity</th>\n",
       "    </tr>\n",
       "  </thead>\n",
       "  <tbody>\n",
       "    <tr>\n",
       "      <th>0</th>\n",
       "      <td>Albania</td>\n",
       "      <td>4.7126</td>\n",
       "      <td>0.938633</td>\n",
       "      <td>0.754931</td>\n",
       "      <td>0.787696</td>\n",
       "      <td>0.371898</td>\n",
       "      <td>0.043201</td>\n",
       "      <td>0.167887</td>\n",
       "    </tr>\n",
       "    <tr>\n",
       "      <th>1</th>\n",
       "      <td>Algeria</td>\n",
       "      <td>5.6676</td>\n",
       "      <td>1.012963</td>\n",
       "      <td>1.074205</td>\n",
       "      <td>0.665057</td>\n",
       "      <td>0.178437</td>\n",
       "      <td>0.146099</td>\n",
       "      <td>0.069219</td>\n",
       "    </tr>\n",
       "    <tr>\n",
       "      <th>2</th>\n",
       "      <td>Argentina</td>\n",
       "      <td>6.4594</td>\n",
       "      <td>1.111035</td>\n",
       "      <td>1.330960</td>\n",
       "      <td>0.760895</td>\n",
       "      <td>0.481620</td>\n",
       "      <td>0.064308</td>\n",
       "      <td>0.092371</td>\n",
       "    </tr>\n",
       "    <tr>\n",
       "      <th>3</th>\n",
       "      <td>Armenia</td>\n",
       "      <td>4.3932</td>\n",
       "      <td>0.839133</td>\n",
       "      <td>0.890873</td>\n",
       "      <td>0.697851</td>\n",
       "      <td>0.216029</td>\n",
       "      <td>0.038767</td>\n",
       "      <td>0.082394</td>\n",
       "    </tr>\n",
       "    <tr>\n",
       "      <th>4</th>\n",
       "      <td>Australia</td>\n",
       "      <td>7.2762</td>\n",
       "      <td>1.394885</td>\n",
       "      <td>1.409006</td>\n",
       "      <td>0.914529</td>\n",
       "      <td>0.605043</td>\n",
       "      <td>0.314573</td>\n",
       "      <td>0.416078</td>\n",
       "    </tr>\n",
       "    <tr>\n",
       "      <th>...</th>\n",
       "      <td>...</td>\n",
       "      <td>...</td>\n",
       "      <td>...</td>\n",
       "      <td>...</td>\n",
       "      <td>...</td>\n",
       "      <td>...</td>\n",
       "      <td>...</td>\n",
       "      <td>...</td>\n",
       "    </tr>\n",
       "    <tr>\n",
       "      <th>149</th>\n",
       "      <td>Venezuela</td>\n",
       "      <td>5.5314</td>\n",
       "      <td>1.052468</td>\n",
       "      <td>1.323264</td>\n",
       "      <td>0.683741</td>\n",
       "      <td>0.213709</td>\n",
       "      <td>0.071444</td>\n",
       "      <td>0.057186</td>\n",
       "    </tr>\n",
       "    <tr>\n",
       "      <th>150</th>\n",
       "      <td>Vietnam</td>\n",
       "      <td>5.1546</td>\n",
       "      <td>0.723416</td>\n",
       "      <td>1.138384</td>\n",
       "      <td>0.722700</td>\n",
       "      <td>0.577207</td>\n",
       "      <td>0.091921</td>\n",
       "      <td>0.195664</td>\n",
       "    </tr>\n",
       "    <tr>\n",
       "      <th>151</th>\n",
       "      <td>Yemen</td>\n",
       "      <td>3.6258</td>\n",
       "      <td>0.489313</td>\n",
       "      <td>0.865448</td>\n",
       "      <td>0.365440</td>\n",
       "      <td>0.244175</td>\n",
       "      <td>0.067045</td>\n",
       "      <td>0.096929</td>\n",
       "    </tr>\n",
       "    <tr>\n",
       "      <th>152</th>\n",
       "      <td>Zambia</td>\n",
       "      <td>4.5844</td>\n",
       "      <td>0.571761</td>\n",
       "      <td>0.932381</td>\n",
       "      <td>0.302761</td>\n",
       "      <td>0.462099</td>\n",
       "      <td>0.097337</td>\n",
       "      <td>0.218430</td>\n",
       "    </tr>\n",
       "    <tr>\n",
       "      <th>153</th>\n",
       "      <td>Zimbabwe</td>\n",
       "      <td>4.0066</td>\n",
       "      <td>0.344051</td>\n",
       "      <td>1.007727</td>\n",
       "      <td>0.274403</td>\n",
       "      <td>0.323257</td>\n",
       "      <td>0.089997</td>\n",
       "      <td>0.169409</td>\n",
       "    </tr>\n",
       "  </tbody>\n",
       "</table>\n",
       "<p>141 rows × 8 columns</p>\n",
       "</div>"
      ],
      "text/plain": [
       "       Country   Score       GDP   Support   Healthy   Freedom  Corruption  \\\n",
       "0      Albania  4.7126  0.938633  0.754931  0.787696  0.371898    0.043201   \n",
       "1      Algeria  5.6676  1.012963  1.074205  0.665057  0.178437    0.146099   \n",
       "2    Argentina  6.4594  1.111035  1.330960  0.760895  0.481620    0.064308   \n",
       "3      Armenia  4.3932  0.839133  0.890873  0.697851  0.216029    0.038767   \n",
       "4    Australia  7.2762  1.394885  1.409006  0.914529  0.605043    0.314573   \n",
       "..         ...     ...       ...       ...       ...       ...         ...   \n",
       "149  Venezuela  5.5314  1.052468  1.323264  0.683741  0.213709    0.071444   \n",
       "150    Vietnam  5.1546  0.723416  1.138384  0.722700  0.577207    0.091921   \n",
       "151      Yemen  3.6258  0.489313  0.865448  0.365440  0.244175    0.067045   \n",
       "152     Zambia  4.5844  0.571761  0.932381  0.302761  0.462099    0.097337   \n",
       "153   Zimbabwe  4.0066  0.344051  1.007727  0.274403  0.323257    0.089997   \n",
       "\n",
       "     Generosity  \n",
       "0      0.167887  \n",
       "1      0.069219  \n",
       "2      0.092371  \n",
       "3      0.082394  \n",
       "4      0.416078  \n",
       "..          ...  \n",
       "149    0.057186  \n",
       "150    0.195664  \n",
       "151    0.096929  \n",
       "152    0.218430  \n",
       "153    0.169409  \n",
       "\n",
       "[141 rows x 8 columns]"
      ]
     },
     "execution_count": 48,
     "metadata": {},
     "output_type": "execute_result"
    }
   ],
   "source": [
    "#deleting the outliers creating the mask using ~ operator\n",
    "outlier_mask = ~(z_scores.abs() > threshold).any(axis=1)\n",
    "\n",
    "# Filter the dataframe based on the outlier mask\n",
    "new_df_filtered = new_df[outlier_mask]\n",
    "new_df_filtered"
   ]
  },
  {
   "cell_type": "markdown",
   "metadata": {},
   "source": [
    "# this is the new dataframe after removing the outliers using the z_score technique with threshold(2.5)"
   ]
  },
  {
   "cell_type": "markdown",
   "metadata": {},
   "source": [
    "# comparing question no 2"
   ]
  },
  {
   "cell_type": "code",
   "execution_count": 51,
   "metadata": {},
   "outputs": [
    {
     "data": {
      "text/html": [
       "<div>\n",
       "<style scoped>\n",
       "    .dataframe tbody tr th:only-of-type {\n",
       "        vertical-align: middle;\n",
       "    }\n",
       "\n",
       "    .dataframe tbody tr th {\n",
       "        vertical-align: top;\n",
       "    }\n",
       "\n",
       "    .dataframe thead th {\n",
       "        text-align: right;\n",
       "    }\n",
       "</style>\n",
       "<table border=\"1\" class=\"dataframe\">\n",
       "  <thead>\n",
       "    <tr style=\"text-align: right;\">\n",
       "      <th></th>\n",
       "      <th>Score</th>\n",
       "      <th>GDP</th>\n",
       "      <th>Support</th>\n",
       "      <th>Healthy</th>\n",
       "      <th>Freedom</th>\n",
       "      <th>Corruption</th>\n",
       "      <th>Generosity</th>\n",
       "    </tr>\n",
       "  </thead>\n",
       "  <tbody>\n",
       "    <tr>\n",
       "      <th>Score</th>\n",
       "      <td>1.000000</td>\n",
       "      <td>0.801560</td>\n",
       "      <td>0.726235</td>\n",
       "      <td>0.759653</td>\n",
       "      <td>0.569335</td>\n",
       "      <td>0.388060</td>\n",
       "      <td>0.231813</td>\n",
       "    </tr>\n",
       "    <tr>\n",
       "      <th>GDP</th>\n",
       "      <td>0.801560</td>\n",
       "      <td>1.000000</td>\n",
       "      <td>0.675091</td>\n",
       "      <td>0.825355</td>\n",
       "      <td>0.386005</td>\n",
       "      <td>0.323600</td>\n",
       "      <td>0.058309</td>\n",
       "    </tr>\n",
       "    <tr>\n",
       "      <th>Support</th>\n",
       "      <td>0.726235</td>\n",
       "      <td>0.675091</td>\n",
       "      <td>1.000000</td>\n",
       "      <td>0.616948</td>\n",
       "      <td>0.427621</td>\n",
       "      <td>0.146003</td>\n",
       "      <td>0.148397</td>\n",
       "    </tr>\n",
       "    <tr>\n",
       "      <th>Healthy</th>\n",
       "      <td>0.759653</td>\n",
       "      <td>0.825355</td>\n",
       "      <td>0.616948</td>\n",
       "      <td>1.000000</td>\n",
       "      <td>0.340686</td>\n",
       "      <td>0.263520</td>\n",
       "      <td>0.112376</td>\n",
       "    </tr>\n",
       "    <tr>\n",
       "      <th>Freedom</th>\n",
       "      <td>0.569335</td>\n",
       "      <td>0.386005</td>\n",
       "      <td>0.427621</td>\n",
       "      <td>0.340686</td>\n",
       "      <td>1.000000</td>\n",
       "      <td>0.443161</td>\n",
       "      <td>0.419676</td>\n",
       "    </tr>\n",
       "    <tr>\n",
       "      <th>Corruption</th>\n",
       "      <td>0.388060</td>\n",
       "      <td>0.323600</td>\n",
       "      <td>0.146003</td>\n",
       "      <td>0.263520</td>\n",
       "      <td>0.443161</td>\n",
       "      <td>1.000000</td>\n",
       "      <td>0.324750</td>\n",
       "    </tr>\n",
       "    <tr>\n",
       "      <th>Generosity</th>\n",
       "      <td>0.231813</td>\n",
       "      <td>0.058309</td>\n",
       "      <td>0.148397</td>\n",
       "      <td>0.112376</td>\n",
       "      <td>0.419676</td>\n",
       "      <td>0.324750</td>\n",
       "      <td>1.000000</td>\n",
       "    </tr>\n",
       "  </tbody>\n",
       "</table>\n",
       "</div>"
      ],
      "text/plain": [
       "               Score       GDP   Support   Healthy   Freedom  Corruption  \\\n",
       "Score       1.000000  0.801560  0.726235  0.759653  0.569335    0.388060   \n",
       "GDP         0.801560  1.000000  0.675091  0.825355  0.386005    0.323600   \n",
       "Support     0.726235  0.675091  1.000000  0.616948  0.427621    0.146003   \n",
       "Healthy     0.759653  0.825355  0.616948  1.000000  0.340686    0.263520   \n",
       "Freedom     0.569335  0.386005  0.427621  0.340686  1.000000    0.443161   \n",
       "Corruption  0.388060  0.323600  0.146003  0.263520  0.443161    1.000000   \n",
       "Generosity  0.231813  0.058309  0.148397  0.112376  0.419676    0.324750   \n",
       "\n",
       "            Generosity  \n",
       "Score         0.231813  \n",
       "GDP           0.058309  \n",
       "Support       0.148397  \n",
       "Healthy       0.112376  \n",
       "Freedom       0.419676  \n",
       "Corruption    0.324750  \n",
       "Generosity    1.000000  "
      ]
     },
     "execution_count": 51,
     "metadata": {},
     "output_type": "execute_result"
    }
   ],
   "source": [
    "# Exclude non-numeric columns\n",
    "new_numeric_df = new_df_filtered.select_dtypes(include=['float64', 'int64'])\n",
    "\n",
    "# Calculate correlation matrix\n",
    "corr_matrix = new_numeric_df.corr()\n",
    "\n",
    "# display the correlation matrix\n",
    "corr_matrix"
   ]
  },
  {
   "cell_type": "code",
   "execution_count": 52,
   "metadata": {},
   "outputs": [
    {
     "data": {
      "image/png": "[encoded data removed]",
      "text/plain": [
       "<Figure size 640x480 with 2 Axes>"
      ]
     },
     "metadata": {},
     "output_type": "display_data"
    }
   ],
   "source": [
    "# Create heatmap\n",
    "sns.heatmap(corr_matrix, cmap='coolwarm', annot=True, fmt='.3f')\n",
    "plt.title('Correlation Matrix of World Happiness Features')\n",
    "plt.show()"
   ]
  },
  {
   "cell_type": "markdown",
   "metadata": {},
   "source": [
    "# comparing question no 3"
   ]
  },
  {
   "cell_type": "code",
   "execution_count": 54,
   "metadata": {},
   "outputs": [
    {
     "name": "stdout",
     "output_type": "stream",
     "text": [
      "Principle components:\n",
      " [[ 0.47851056  0.44978302  0.40848148  0.43147523  0.34550829  0.25832237\n",
      "   0.17201296]\n",
      " [-0.08157345 -0.27497792 -0.22216657 -0.27089403  0.40051048  0.46941504\n",
      "   0.64360876]\n",
      " [-0.0192856   0.15005772 -0.36272355  0.06787991 -0.14213456  0.75657287\n",
      "  -0.49832715]\n",
      " [ 0.04277998 -0.15993581  0.18171512 -0.36313041  0.71199738 -0.07184059\n",
      "  -0.54369569]\n",
      " [-0.02464376 -0.14203909  0.73206414 -0.41438347 -0.38992325  0.34571829\n",
      "   0.00497393]\n",
      " [ 0.77011621  0.12526833 -0.28733932 -0.50959578 -0.18899916 -0.10967084\n",
      "   0.03505344]\n",
      " [-0.41046931  0.7988231  -0.02672741 -0.41541864  0.07288386 -0.06169818\n",
      "   0.10483738]]\n",
      "Variance:\n",
      "[3.78915798 1.35480722 0.71585597 0.52139068 0.339949   0.17353953\n",
      " 0.15529962]\n",
      "Variance ratio in percentage:\n",
      "['53.75%', '19.22%', '10.15%', '7.40%', '4.82%', '2.46%', '2.20%']\n"
     ]
    }
   ],
   "source": [
    "# Select only the columns with numeric data\n",
    "numeric_cols = new_df_filtered.select_dtypes(include=['int64', 'float64'])\n",
    "\n",
    "# Create a new DataFrame with only the numeric columns\n",
    "numeric = pd.DataFrame(numeric_cols)\n",
    "\n",
    "scaled_data = preprocessing.scale(numeric)\n",
    "#create a PCA object \n",
    "pca = PCA()\n",
    "#fit the PCA to the scaled data\n",
    "pca.fit(scaled_data)\n",
    "#calculation principle component\n",
    "principal_components=pca.components_\n",
    "#showing the principle components\n",
    "print('Principle components:\\n',principal_components)\n",
    "#transform the scaled data using PCA\n",
    "pca_data = pca.transform(scaled_data)\n",
    "# Show the variance\n",
    "print(\"Variance:\")\n",
    "print(pca.explained_variance_)\n",
    "# print explained variance ratio in percentage \n",
    "var_ratio_pct = 100 * pca.explained_variance_ratio_\n",
    "var_ratio_pct_formatted = [f'{x:.2f}%' for x in var_ratio_pct]\n",
    "print(\"Variance ratio in percentage:\")\n",
    "print(var_ratio_pct_formatted)"
   ]
  },
  {
   "cell_type": "markdown",
   "metadata": {},
   "source": [
    "# Variance ratio in percentage before:\n",
    "['53.66%', '21.06%', '8.52%', '8.02%', '4.47%', '2.29%', '1.98%'] there is small changes in the variance ratio but we still need five principle components to keep the 95% variance for not loosing the much information. And Score has the highest effect on variance."
   ]
  },
  {
   "cell_type": "code",
   "execution_count": 56,
   "metadata": {},
   "outputs": [
    {
     "name": "stdout",
     "output_type": "stream",
     "text": [
      "The feature with the highest effect on the variance is Score\n"
     ]
    }
   ],
   "source": [
    "highest_feature_index=np.argmax(np.abs((pca.components_[0])))\n",
    "column_with_highest_affect=numeric_df.columns[highest_feature_index]   #0-PC1, 1-PC2, 2-PC3...\n",
    "print(f\"The feature with the highest effect on the variance is {column_with_highest_affect}\")"
   ]
  },
  {
   "cell_type": "code",
   "execution_count": 57,
   "metadata": {},
   "outputs": [
    {
     "data": {
      "text/html": [
       "<div>\n",
       "<style scoped>\n",
       "    .dataframe tbody tr th:only-of-type {\n",
       "        vertical-align: middle;\n",
       "    }\n",
       "\n",
       "    .dataframe tbody tr th {\n",
       "        vertical-align: top;\n",
       "    }\n",
       "\n",
       "    .dataframe thead th {\n",
       "        text-align: right;\n",
       "    }\n",
       "</style>\n",
       "<table border=\"1\" class=\"dataframe\">\n",
       "  <thead>\n",
       "    <tr style=\"text-align: right;\">\n",
       "      <th></th>\n",
       "      <th>Country</th>\n",
       "      <th>Score</th>\n",
       "      <th>GDP</th>\n",
       "      <th>Support</th>\n",
       "      <th>Healthy</th>\n",
       "      <th>Freedom</th>\n",
       "      <th>Corruption</th>\n",
       "      <th>Generosity</th>\n",
       "    </tr>\n",
       "  </thead>\n",
       "  <tbody>\n",
       "    <tr>\n",
       "      <th>0</th>\n",
       "      <td>Albania</td>\n",
       "      <td>4.7126</td>\n",
       "      <td>0.938633</td>\n",
       "      <td>0.754931</td>\n",
       "      <td>0.787696</td>\n",
       "      <td>0.371898</td>\n",
       "      <td>0.043201</td>\n",
       "      <td>0.167887</td>\n",
       "    </tr>\n",
       "    <tr>\n",
       "      <th>1</th>\n",
       "      <td>Algeria</td>\n",
       "      <td>5.6676</td>\n",
       "      <td>1.012963</td>\n",
       "      <td>1.074205</td>\n",
       "      <td>0.665057</td>\n",
       "      <td>0.178437</td>\n",
       "      <td>0.146099</td>\n",
       "      <td>0.069219</td>\n",
       "    </tr>\n",
       "    <tr>\n",
       "      <th>2</th>\n",
       "      <td>Argentina</td>\n",
       "      <td>6.4594</td>\n",
       "      <td>1.111035</td>\n",
       "      <td>1.330960</td>\n",
       "      <td>0.760895</td>\n",
       "      <td>0.481620</td>\n",
       "      <td>0.064308</td>\n",
       "      <td>0.092371</td>\n",
       "    </tr>\n",
       "    <tr>\n",
       "      <th>3</th>\n",
       "      <td>Armenia</td>\n",
       "      <td>4.3932</td>\n",
       "      <td>0.839133</td>\n",
       "      <td>0.890873</td>\n",
       "      <td>0.697851</td>\n",
       "      <td>0.216029</td>\n",
       "      <td>0.038767</td>\n",
       "      <td>0.082394</td>\n",
       "    </tr>\n",
       "    <tr>\n",
       "      <th>4</th>\n",
       "      <td>Australia</td>\n",
       "      <td>7.2762</td>\n",
       "      <td>1.394885</td>\n",
       "      <td>1.409006</td>\n",
       "      <td>0.914529</td>\n",
       "      <td>0.605043</td>\n",
       "      <td>0.314573</td>\n",
       "      <td>0.416078</td>\n",
       "    </tr>\n",
       "    <tr>\n",
       "      <th>...</th>\n",
       "      <td>...</td>\n",
       "      <td>...</td>\n",
       "      <td>...</td>\n",
       "      <td>...</td>\n",
       "      <td>...</td>\n",
       "      <td>...</td>\n",
       "      <td>...</td>\n",
       "      <td>...</td>\n",
       "    </tr>\n",
       "    <tr>\n",
       "      <th>136</th>\n",
       "      <td>Venezuela</td>\n",
       "      <td>5.5314</td>\n",
       "      <td>1.052468</td>\n",
       "      <td>1.323264</td>\n",
       "      <td>0.683741</td>\n",
       "      <td>0.213709</td>\n",
       "      <td>0.071444</td>\n",
       "      <td>0.057186</td>\n",
       "    </tr>\n",
       "    <tr>\n",
       "      <th>137</th>\n",
       "      <td>Vietnam</td>\n",
       "      <td>5.1546</td>\n",
       "      <td>0.723416</td>\n",
       "      <td>1.138384</td>\n",
       "      <td>0.722700</td>\n",
       "      <td>0.577207</td>\n",
       "      <td>0.091921</td>\n",
       "      <td>0.195664</td>\n",
       "    </tr>\n",
       "    <tr>\n",
       "      <th>138</th>\n",
       "      <td>Yemen</td>\n",
       "      <td>3.6258</td>\n",
       "      <td>0.489313</td>\n",
       "      <td>0.865448</td>\n",
       "      <td>0.365440</td>\n",
       "      <td>0.244175</td>\n",
       "      <td>0.067045</td>\n",
       "      <td>0.096929</td>\n",
       "    </tr>\n",
       "    <tr>\n",
       "      <th>139</th>\n",
       "      <td>Zambia</td>\n",
       "      <td>4.5844</td>\n",
       "      <td>0.571761</td>\n",
       "      <td>0.932381</td>\n",
       "      <td>0.302761</td>\n",
       "      <td>0.462099</td>\n",
       "      <td>0.097337</td>\n",
       "      <td>0.218430</td>\n",
       "    </tr>\n",
       "    <tr>\n",
       "      <th>140</th>\n",
       "      <td>Zimbabwe</td>\n",
       "      <td>4.0066</td>\n",
       "      <td>0.344051</td>\n",
       "      <td>1.007727</td>\n",
       "      <td>0.274403</td>\n",
       "      <td>0.323257</td>\n",
       "      <td>0.089997</td>\n",
       "      <td>0.169409</td>\n",
       "    </tr>\n",
       "  </tbody>\n",
       "</table>\n",
       "<p>141 rows × 8 columns</p>\n",
       "</div>"
      ],
      "text/plain": [
       "       Country   Score       GDP   Support   Healthy   Freedom  Corruption  \\\n",
       "0      Albania  4.7126  0.938633  0.754931  0.787696  0.371898    0.043201   \n",
       "1      Algeria  5.6676  1.012963  1.074205  0.665057  0.178437    0.146099   \n",
       "2    Argentina  6.4594  1.111035  1.330960  0.760895  0.481620    0.064308   \n",
       "3      Armenia  4.3932  0.839133  0.890873  0.697851  0.216029    0.038767   \n",
       "4    Australia  7.2762  1.394885  1.409006  0.914529  0.605043    0.314573   \n",
       "..         ...     ...       ...       ...       ...       ...         ...   \n",
       "136  Venezuela  5.5314  1.052468  1.323264  0.683741  0.213709    0.071444   \n",
       "137    Vietnam  5.1546  0.723416  1.138384  0.722700  0.577207    0.091921   \n",
       "138      Yemen  3.6258  0.489313  0.865448  0.365440  0.244175    0.067045   \n",
       "139     Zambia  4.5844  0.571761  0.932381  0.302761  0.462099    0.097337   \n",
       "140   Zimbabwe  4.0066  0.344051  1.007727  0.274403  0.323257    0.089997   \n",
       "\n",
       "     Generosity  \n",
       "0      0.167887  \n",
       "1      0.069219  \n",
       "2      0.092371  \n",
       "3      0.082394  \n",
       "4      0.416078  \n",
       "..          ...  \n",
       "136    0.057186  \n",
       "137    0.195664  \n",
       "138    0.096929  \n",
       "139    0.218430  \n",
       "140    0.169409  \n",
       "\n",
       "[141 rows x 8 columns]"
      ]
     },
     "metadata": {},
     "output_type": "display_data"
    }
   ],
   "source": [
    "#Calculate the averages for each feature\n",
    "new_df_filtered = new_df_filtered.groupby('Country', as_index=False).mean()\n",
    "display(new_df_filtered)"
   ]
  },
  {
   "cell_type": "code",
   "execution_count": 58,
   "metadata": {},
   "outputs": [
    {
     "data": {
      "application/vnd.plotly.v1+json": {
       "config": {
        "plotlyServerURL": "https://plot.ly"
       },
       "data": [
        {
         "coloraxis": "coloraxis",
         "geo": "geo",
         "hovertemplate": "Country=%{location}<br>Score=%{z}<extra></extra>",
         "locationmode": "country names",
         "locations": [
          "Albania",
          "Algeria",
          "Argentina",
          "Armenia",
          "Australia",
          "Austria",
          "Azerbaijan",
          "Bahrain",
          "Bangladesh",
          "Belarus",
          "Belgium",
          "Belize",
          "Bhutan",
          "Bolivia",
          "Botswana",
          "Brazil",
          "Bulgaria",
          "Burkina Faso",
          "Burundi",
          "Cambodia",
          "Cameroon",
          "Canada",
          "Chad",
          "Chile",
          "China",
          "Colombia",
          "Comoros",
          "Congo (Brazzaville)",
          "Costa Rica",
          "Croatia",
          "Cyprus",
          "Czech Republic",
          "Djibouti",
          "Dominican Republic",
          "Ecuador",
          "Egypt",
          "El Salvador",
          "Estonia",
          "Ethiopia",
          "France",
          "Gabon",
          "Gambia",
          "Georgia",
          "Germany",
          "Ghana",
          "Guatemala",
          "Guinea",
          "Honduras",
          "Hong Kong",
          "Hong Kong S.A.R., China",
          "Hungary",
          "Iceland",
          "India",
          "Iran",
          "Ireland",
          "Israel",
          "Italy",
          "Ivory Coast",
          "Jamaica",
          "Japan",
          "Jordan",
          "Kazakhstan",
          "Kenya",
          "Kosovo",
          "Kuwait",
          "Kyrgyzstan",
          "Laos",
          "Latvia",
          "Lebanon",
          "Liberia",
          "Libya",
          "Lithuania",
          "Luxembourg",
          "Macedonia",
          "Madagascar",
          "Malaysia",
          "Mali",
          "Malta",
          "Mauritania",
          "Mauritius",
          "Mexico",
          "Mongolia",
          "Montenegro",
          "Morocco",
          "Mozambique",
          "Namibia",
          "Nepal",
          "Netherlands",
          "Nicaragua",
          "Niger",
          "Nigeria",
          "North Cyprus",
          "North Macedonia",
          "Northern Cyprus",
          "Norway",
          "Oman",
          "Pakistan",
          "Palestinian Territories",
          "Panama",
          "Paraguay",
          "Peru",
          "Philippines",
          "Poland",
          "Portugal",
          "Puerto Rico",
          "Qatar",
          "Romania",
          "Russia",
          "Saudi Arabia",
          "Senegal",
          "Serbia",
          "Slovakia",
          "Slovenia",
          "South Africa",
          "South Korea",
          "South Sudan",
          "Spain",
          "Sri Lanka",
          "Suriname",
          "Switzerland",
          "Taiwan",
          "Taiwan Province of China",
          "Tajikistan",
          "Tanzania",
          "Thailand",
          "Trinidad & Tobago",
          "Trinidad and Tobago",
          "Tunisia",
          "Turkey",
          "Turkmenistan",
          "Uganda",
          "Ukraine",
          "United Kingdom",
          "United States",
          "Uruguay",
          "Uzbekistan",
          "Venezuela",
          "Vietnam",
          "Yemen",
          "Zambia",
          "Zimbabwe"
         ],
         "name": "",
         "type": "choropleth",
         "z": [
          4.7126000106,
          5.6676000434,
          6.4593999954,
          4.3931999856,
          7.276199984,
          7.142000008400001,
          5.2292000412,
          6.1137999786,
          4.5801999604,
          5.5979999534000005,
          6.9213999588,
          5.955999950333333,
          5.1248000312,
          5.813199990799999,
          3.8300000064,
          6.657800045799999,
          4.618600045,
          4.0738000130000005,
          3.0789999941999997,
          4.2054000442,
          4.6958000343999995,
          7.350599997000001,
          4.0034000218,
          6.5893999899999995,
          5.2189999526,
          6.3399999747999995,
          3.9616666666666664,
          4.377399977800001,
          7.1261999992,
          5.4586000442,
          5.7327999626,
          6.6546000412,
          4.369,
          5.199400003799999,
          5.9919999794,
          4.3752000268,
          6.1241999566,
          5.6378000122000005,
          4.4232000076,
          6.5151999824,
          4.4078000306,
          4.516,
          4.338799955,
          6.9290000428,
          4.5363999772,
          6.3437999992,
          3.8535999938000005,
          5.2408000466,
          5.448,
          5.472000122,
          5.3293999763999995,
          7.5110000374,
          4.2978000114,
          4.6891999824,
          6.9644000474,
          7.1421999642000005,
          6.022400045,
          4.2731999656,
          5.6619999739999995,
          5.9258000152,
          5.1795999932,
          5.8383999534,
          4.4493999946,
          5.606199961,
          6.1486000038,
          5.1734000373999995,
          4.79275,
          5.676199981,
          5.149599981,
          3.8391999984000003,
          5.597000019,
          5.92979999,
          6.9359999832,
          5.122000047749999,
          3.7454000106,
          5.9040000222,
          4.2190000114,
          6.53399999,
          4.3549999634,
          5.706600037399999,
          6.7252000138,
          5.0291999848,
          5.2919999978,
          5.172200026800001,
          4.60100004775,
          4.5569999705,
          4.8123999786,
          7.404599971000001,
          6.0274000198,
          4.1045999756,
          5.1273999764,
          5.758666647666668,
          5.274,
          5.7765,
          7.541000035800001,
          6.853,
          5.3440000106,
          4.736600019,
          6.5380000282,
          5.6666000062,
          5.7284000306000005,
          5.3873999656,
          5.98080001,
          5.3046000344,
          7.039,
          6.4218,
          5.6983999618,
          5.798599964199999,
          6.3759999726,
          4.3939999694,
          5.3391999962,
          6.1084000099999995,
          5.8879999794,
          4.6751999992,
          5.8853999641999994,
          3.38250002,
          6.3513999756,
          4.3926000114,
          6.269,
          7.511399991599999,
          6.391,
          6.421999931,
          5.097799977799999,
          3.4659999954,
          6.2865999572,
          6.192,
          6.168000073666666,
          4.7283999655999995,
          5.4154,
          5.5822000054,
          4.020199970199999,
          4.307200039,
          6.910000044999999,
          6.9988000062,
          6.4311999991999995,
          6.046200039,
          5.5314,
          5.1545999764,
          3.6257999869999997,
          4.5843999877999995,
          4.006600000000001
         ]
        }
       ],
       "layout": {
        "coloraxis": {
         "colorbar": {
          "title": {
           "text": "Score"
          }
         },
         "colorscale": [
          [
           0,
           "#30123b"
          ],
          [
           0.07142857142857142,
           "#4145ab"
          ],
          [
           0.14285714285714285,
           "#4675ed"
          ],
          [
           0.21428571428571427,
           "#39a2fc"
          ],
          [
           0.2857142857142857,
           "#1bcfd4"
          ],
          [
           0.35714285714285715,
           "#24eca6"
          ],
          [
           0.42857142857142855,
           "#61fc6c"
          ],
          [
           0.5,
           "#a4fc3b"
          ],
          [
           0.5714285714285714,
           "#d1e834"
          ],
          [
           0.6428571428571429,
           "#f3c63a"
          ],
          [
           0.7142857142857143,
           "#fe9b2d"
          ],
          [
           0.7857142857142857,
           "#f36315"
          ],
          [
           0.8571428571428571,
           "#d93806"
          ],
          [
           0.9285714285714286,
           "#b11901"
          ],
          [
           1,
           "#7a0402"
          ]
         ]
        },
        "geo": {
         "center": {},
         "domain": {
          "x": [
           0,
           1
          ],
          "y": [
           0,
           1
          ]
         }
        },
        "height": 360,
        "legend": {
         "tracegroupgap": 0
        },
        "margin": {
         "b": 40,
         "l": 40,
         "r": 40,
         "t": 40
        },
        "template": {
         "data": {
          "bar": [
           {
            "error_x": {
             "color": "#2a3f5f"
            },
            "error_y": {
             "color": "#2a3f5f"
            },
            "marker": {
             "line": {
              "color": "#E5ECF6",
              "width": 0.5
             },
             "pattern": {
              "fillmode": "overlay",
              "size": 10,
              "solidity": 0.2
             }
            },
            "type": "bar"
           }
          ],
          "barpolar": [
           {
            "marker": {
             "line": {
              "color": "#E5ECF6",
              "width": 0.5
             },
             "pattern": {
              "fillmode": "overlay",
              "size": 10,
              "solidity": 0.2
             }
            },
            "type": "barpolar"
           }
          ],
          "carpet": [
           {
            "aaxis": {
             "endlinecolor": "#2a3f5f",
             "gridcolor": "white",
             "linecolor": "white",
             "minorgridcolor": "white",
             "startlinecolor": "#2a3f5f"
            },
            "baxis": {
             "endlinecolor": "#2a3f5f",
             "gridcolor": "white",
             "linecolor": "white",
             "minorgridcolor": "white",
             "startlinecolor": "#2a3f5f"
            },
            "type": "carpet"
           }
          ],
          "choropleth": [
           {
            "colorbar": {
             "outlinewidth": 0,
             "ticks": ""
            },
            "type": "choropleth"
           }
          ],
          "contour": [
           {
            "colorbar": {
             "outlinewidth": 0,
             "ticks": ""
            },
            "colorscale": [
             [
              0,
              "#0d0887"
             ],
             [
              0.1111111111111111,
              "#46039f"
             ],
             [
              0.2222222222222222,
              "#7201a8"
             ],
             [
              0.3333333333333333,
              "#9c179e"
             ],
             [
              0.4444444444444444,
              "#bd3786"
             ],
             [
              0.5555555555555556,
              "#d8576b"
             ],
             [
              0.6666666666666666,
              "#ed7953"
             ],
             [
              0.7777777777777778,
              "#fb9f3a"
             ],
             [
              0.8888888888888888,
              "#fdca26"
             ],
             [
              1,
              "#f0f921"
             ]
            ],
            "type": "contour"
           }
          ],
          "contourcarpet": [
           {
            "colorbar": {
             "outlinewidth": 0,
             "ticks": ""
            },
            "type": "contourcarpet"
           }
          ],
          "heatmap": [
           {
            "colorbar": {
             "outlinewidth": 0,
             "ticks": ""
            },
            "colorscale": [
             [
              0,
              "#0d0887"
             ],
             [
              0.1111111111111111,
              "#46039f"
             ],
             [
              0.2222222222222222,
              "#7201a8"
             ],
             [
              0.3333333333333333,
              "#9c179e"
             ],
             [
              0.4444444444444444,
              "#bd3786"
             ],
             [
              0.5555555555555556,
              "#d8576b"
             ],
             [
              0.6666666666666666,
              "#ed7953"
             ],
             [
              0.7777777777777778,
              "#fb9f3a"
             ],
             [
              0.8888888888888888,
              "#fdca26"
             ],
             [
              1,
              "#f0f921"
             ]
            ],
            "type": "heatmap"
           }
          ],
          "heatmapgl": [
           {
            "colorbar": {
             "outlinewidth": 0,
             "ticks": ""
            },
            "colorscale": [
             [
              0,
              "#0d0887"
             ],
             [
              0.1111111111111111,
              "#46039f"
             ],
             [
              0.2222222222222222,
              "#7201a8"
             ],
             [
              0.3333333333333333,
              "#9c179e"
             ],
             [
              0.4444444444444444,
              "#bd3786"
             ],
             [
              0.5555555555555556,
              "#d8576b"
             ],
             [
              0.6666666666666666,
              "#ed7953"
             ],
             [
              0.7777777777777778,
              "#fb9f3a"
             ],
             [
              0.8888888888888888,
              "#fdca26"
             ],
             [
              1,
              "#f0f921"
             ]
            ],
            "type": "heatmapgl"
           }
          ],
          "histogram": [
           {
            "marker": {
             "pattern": {
              "fillmode": "overlay",
              "size": 10,
              "solidity": 0.2
             }
            },
            "type": "histogram"
           }
          ],
          "histogram2d": [
           {
            "colorbar": {
             "outlinewidth": 0,
             "ticks": ""
            },
            "colorscale": [
             [
              0,
              "#0d0887"
             ],
             [
              0.1111111111111111,
              "#46039f"
             ],
             [
              0.2222222222222222,
              "#7201a8"
             ],
             [
              0.3333333333333333,
              "#9c179e"
             ],
             [
              0.4444444444444444,
              "#bd3786"
             ],
             [
              0.5555555555555556,
              "#d8576b"
             ],
             [
              0.6666666666666666,
              "#ed7953"
             ],
             [
              0.7777777777777778,
              "#fb9f3a"
             ],
             [
              0.8888888888888888,
              "#fdca26"
             ],
             [
              1,
              "#f0f921"
             ]
            ],
            "type": "histogram2d"
           }
          ],
          "histogram2dcontour": [
           {
            "colorbar": {
             "outlinewidth": 0,
             "ticks": ""
            },
            "colorscale": [
             [
              0,
              "#0d0887"
             ],
             [
              0.1111111111111111,
              "#46039f"
             ],
             [
              0.2222222222222222,
              "#7201a8"
             ],
             [
              0.3333333333333333,
              "#9c179e"
             ],
             [
              0.4444444444444444,
              "#bd3786"
             ],
             [
              0.5555555555555556,
              "#d8576b"
             ],
             [
              0.6666666666666666,
              "#ed7953"
             ],
             [
              0.7777777777777778,
              "#fb9f3a"
             ],
             [
              0.8888888888888888,
              "#fdca26"
             ],
             [
              1,
              "#f0f921"
             ]
            ],
            "type": "histogram2dcontour"
           }
          ],
          "mesh3d": [
           {
            "colorbar": {
             "outlinewidth": 0,
             "ticks": ""
            },
            "type": "mesh3d"
           }
          ],
          "parcoords": [
           {
            "line": {
             "colorbar": {
              "outlinewidth": 0,
              "ticks": ""
             }
            },
            "type": "parcoords"
           }
          ],
          "pie": [
           {
            "automargin": true,
            "type": "pie"
           }
          ],
          "scatter": [
           {
            "fillpattern": {
             "fillmode": "overlay",
             "size": 10,
             "solidity": 0.2
            },
            "type": "scatter"
           }
          ],
          "scatter3d": [
           {
            "line": {
             "colorbar": {
              "outlinewidth": 0,
              "ticks": ""
             }
            },
            "marker": {
             "colorbar": {
              "outlinewidth": 0,
              "ticks": ""
             }
            },
            "type": "scatter3d"
           }
          ],
          "scattercarpet": [
           {
            "marker": {
             "colorbar": {
              "outlinewidth": 0,
              "ticks": ""
             }
            },
            "type": "scattercarpet"
           }
          ],
          "scattergeo": [
           {
            "marker": {
             "colorbar": {
              "outlinewidth": 0,
              "ticks": ""
             }
            },
            "type": "scattergeo"
           }
          ],
          "scattergl": [
           {
            "marker": {
             "colorbar": {
              "outlinewidth": 0,
              "ticks": ""
             }
            },
            "type": "scattergl"
           }
          ],
          "scattermapbox": [
           {
            "marker": {
             "colorbar": {
              "outlinewidth": 0,
              "ticks": ""
             }
            },
            "type": "scattermapbox"
           }
          ],
          "scatterpolar": [
           {
            "marker": {
             "colorbar": {
              "outlinewidth": 0,
              "ticks": ""
             }
            },
            "type": "scatterpolar"
           }
          ],
          "scatterpolargl": [
           {
            "marker": {
             "colorbar": {
              "outlinewidth": 0,
              "ticks": ""
             }
            },
            "type": "scatterpolargl"
           }
          ],
          "scatterternary": [
           {
            "marker": {
             "colorbar": {
              "outlinewidth": 0,
              "ticks": ""
             }
            },
            "type": "scatterternary"
           }
          ],
          "surface": [
           {
            "colorbar": {
             "outlinewidth": 0,
             "ticks": ""
            },
            "colorscale": [
             [
              0,
              "#0d0887"
             ],
             [
              0.1111111111111111,
              "#46039f"
             ],
             [
              0.2222222222222222,
              "#7201a8"
             ],
             [
              0.3333333333333333,
              "#9c179e"
             ],
             [
              0.4444444444444444,
              "#bd3786"
             ],
             [
              0.5555555555555556,
              "#d8576b"
             ],
             [
              0.6666666666666666,
              "#ed7953"
             ],
             [
              0.7777777777777778,
              "#fb9f3a"
             ],
             [
              0.8888888888888888,
              "#fdca26"
             ],
             [
              1,
              "#f0f921"
             ]
            ],
            "type": "surface"
           }
          ],
          "table": [
           {
            "cells": {
             "fill": {
              "color": "#EBF0F8"
             },
             "line": {
              "color": "white"
             }
            },
            "header": {
             "fill": {
              "color": "#C8D4E3"
             },
             "line": {
              "color": "white"
             }
            },
            "type": "table"
           }
          ]
         },
         "layout": {
          "annotationdefaults": {
           "arrowcolor": "#2a3f5f",
           "arrowhead": 0,
           "arrowwidth": 1
          },
          "autotypenumbers": "strict",
          "coloraxis": {
           "colorbar": {
            "outlinewidth": 0,
            "ticks": ""
           }
          },
          "colorscale": {
           "diverging": [
            [
             0,
             "#8e0152"
            ],
            [
             0.1,
             "#c51b7d"
            ],
            [
             0.2,
             "#de77ae"
            ],
            [
             0.3,
             "#f1b6da"
            ],
            [
             0.4,
             "#fde0ef"
            ],
            [
             0.5,
             "#f7f7f7"
            ],
            [
             0.6,
             "#e6f5d0"
            ],
            [
             0.7,
             "#b8e186"
            ],
            [
             0.8,
             "#7fbc41"
            ],
            [
             0.9,
             "#4d9221"
            ],
            [
             1,
             "#276419"
            ]
           ],
           "sequential": [
            [
             0,
             "#0d0887"
            ],
            [
             0.1111111111111111,
             "#46039f"
            ],
            [
             0.2222222222222222,
             "#7201a8"
            ],
            [
             0.3333333333333333,
             "#9c179e"
            ],
            [
             0.4444444444444444,
             "#bd3786"
            ],
            [
             0.5555555555555556,
             "#d8576b"
            ],
            [
             0.6666666666666666,
             "#ed7953"
            ],
            [
             0.7777777777777778,
             "#fb9f3a"
            ],
            [
             0.8888888888888888,
             "#fdca26"
            ],
            [
             1,
             "#f0f921"
            ]
           ],
           "sequentialminus": [
            [
             0,
             "#0d0887"
            ],
            [
             0.1111111111111111,
             "#46039f"
            ],
            [
             0.2222222222222222,
             "#7201a8"
            ],
            [
             0.3333333333333333,
             "#9c179e"
            ],
            [
             0.4444444444444444,
             "#bd3786"
            ],
            [
             0.5555555555555556,
             "#d8576b"
            ],
            [
             0.6666666666666666,
             "#ed7953"
            ],
            [
             0.7777777777777778,
             "#fb9f3a"
            ],
            [
             0.8888888888888888,
             "#fdca26"
            ],
            [
             1,
             "#f0f921"
            ]
           ]
          },
          "colorway": [
           "#636efa",
           "#EF553B",
           "#00cc96",
           "#ab63fa",
           "#FFA15A",
           "#19d3f3",
           "#FF6692",
           "#B6E880",
           "#FF97FF",
           "#FECB52"
          ],
          "font": {
           "color": "#2a3f5f"
          },
          "geo": {
           "bgcolor": "white",
           "lakecolor": "white",
           "landcolor": "#E5ECF6",
           "showlakes": true,
           "showland": true,
           "subunitcolor": "white"
          },
          "hoverlabel": {
           "align": "left"
          },
          "hovermode": "closest",
          "mapbox": {
           "style": "light"
          },
          "paper_bgcolor": "white",
          "plot_bgcolor": "#E5ECF6",
          "polar": {
           "angularaxis": {
            "gridcolor": "white",
            "linecolor": "white",
            "ticks": ""
           },
           "bgcolor": "#E5ECF6",
           "radialaxis": {
            "gridcolor": "white",
            "linecolor": "white",
            "ticks": ""
           }
          },
          "scene": {
           "xaxis": {
            "backgroundcolor": "#E5ECF6",
            "gridcolor": "white",
            "gridwidth": 2,
            "linecolor": "white",
            "showbackground": true,
            "ticks": "",
            "zerolinecolor": "white"
           },
           "yaxis": {
            "backgroundcolor": "#E5ECF6",
            "gridcolor": "white",
            "gridwidth": 2,
            "linecolor": "white",
            "showbackground": true,
            "ticks": "",
            "zerolinecolor": "white"
           },
           "zaxis": {
            "backgroundcolor": "#E5ECF6",
            "gridcolor": "white",
            "gridwidth": 2,
            "linecolor": "white",
            "showbackground": true,
            "ticks": "",
            "zerolinecolor": "white"
           }
          },
          "shapedefaults": {
           "line": {
            "color": "#2a3f5f"
           }
          },
          "ternary": {
           "aaxis": {
            "gridcolor": "white",
            "linecolor": "white",
            "ticks": ""
           },
           "baxis": {
            "gridcolor": "white",
            "linecolor": "white",
            "ticks": ""
           },
           "bgcolor": "#E5ECF6",
           "caxis": {
            "gridcolor": "white",
            "linecolor": "white",
            "ticks": ""
           }
          },
          "title": {
           "x": 0.05
          },
          "xaxis": {
           "automargin": true,
           "gridcolor": "white",
           "linecolor": "white",
           "ticks": "",
           "title": {
            "standoff": 15
           },
           "zerolinecolor": "white",
           "zerolinewidth": 2
          },
          "yaxis": {
           "automargin": true,
           "gridcolor": "white",
           "linecolor": "white",
           "ticks": "",
           "title": {
            "standoff": 15
           },
           "zerolinecolor": "white",
           "zerolinewidth": 2
          }
         }
        },
        "title": {
         "text": "Average Happiness Score By Country Map"
        }
       }
      },
      "text/html": [
       "<div>                            <div id=\"99a6ee90-fa14-4387-930e-334bfee3da33\" class=\"plotly-graph-div\" style=\"height:525px; width:100%;\"></div>            <script type=\"text/javascript\">                require([\"plotly\"], function(Plotly) {                    window.PLOTLYENV=window.PLOTLYENV || {};                                    if (document.getElementById(\"99a6ee90-fa14-4387-930e-334bfee3da33\")) {                    Plotly.newPlot(                        \"99a6ee90-fa14-4387-930e-334bfee3da33\",                        [{\"coloraxis\":\"coloraxis\",\"geo\":\"geo\",\"hovertemplate\":\"Country=%{location}\\u003cbr\\u003eScore=%{z}\\u003cextra\\u003e\\u003c\\u002fextra\\u003e\",\"locationmode\":\"country names\",\"locations\":[\"Albania\",\"Algeria\",\"Argentina\",\"Armenia\",\"Australia\",\"Austria\",\"Azerbaijan\",\"Bahrain\",\"Bangladesh\",\"Belarus\",\"Belgium\",\"Belize\",\"Bhutan\",\"Bolivia\",\"Botswana\",\"Brazil\",\"Bulgaria\",\"Burkina Faso\",\"Burundi\",\"Cambodia\",\"Cameroon\",\"Canada\",\"Chad\",\"Chile\",\"China\",\"Colombia\",\"Comoros\",\"Congo (Brazzaville)\",\"Costa Rica\",\"Croatia\",\"Cyprus\",\"Czech Republic\",\"Djibouti\",\"Dominican Republic\",\"Ecuador\",\"Egypt\",\"El Salvador\",\"Estonia\",\"Ethiopia\",\"France\",\"Gabon\",\"Gambia\",\"Georgia\",\"Germany\",\"Ghana\",\"Guatemala\",\"Guinea\",\"Honduras\",\"Hong Kong\",\"Hong Kong S.A.R., China\",\"Hungary\",\"Iceland\",\"India\",\"Iran\",\"Ireland\",\"Israel\",\"Italy\",\"Ivory Coast\",\"Jamaica\",\"Japan\",\"Jordan\",\"Kazakhstan\",\"Kenya\",\"Kosovo\",\"Kuwait\",\"Kyrgyzstan\",\"Laos\",\"Latvia\",\"Lebanon\",\"Liberia\",\"Libya\",\"Lithuania\",\"Luxembourg\",\"Macedonia\",\"Madagascar\",\"Malaysia\",\"Mali\",\"Malta\",\"Mauritania\",\"Mauritius\",\"Mexico\",\"Mongolia\",\"Montenegro\",\"Morocco\",\"Mozambique\",\"Namibia\",\"Nepal\",\"Netherlands\",\"Nicaragua\",\"Niger\",\"Nigeria\",\"North Cyprus\",\"North Macedonia\",\"Northern Cyprus\",\"Norway\",\"Oman\",\"Pakistan\",\"Palestinian Territories\",\"Panama\",\"Paraguay\",\"Peru\",\"Philippines\",\"Poland\",\"Portugal\",\"Puerto Rico\",\"Qatar\",\"Romania\",\"Russia\",\"Saudi Arabia\",\"Senegal\",\"Serbia\",\"Slovakia\",\"Slovenia\",\"South Africa\",\"South Korea\",\"South Sudan\",\"Spain\",\"Sri Lanka\",\"Suriname\",\"Switzerland\",\"Taiwan\",\"Taiwan Province of China\",\"Tajikistan\",\"Tanzania\",\"Thailand\",\"Trinidad & Tobago\",\"Trinidad and Tobago\",\"Tunisia\",\"Turkey\",\"Turkmenistan\",\"Uganda\",\"Ukraine\",\"United Kingdom\",\"United States\",\"Uruguay\",\"Uzbekistan\",\"Venezuela\",\"Vietnam\",\"Yemen\",\"Zambia\",\"Zimbabwe\"],\"name\":\"\",\"z\":[4.7126000106,5.6676000434,6.4593999954,4.3931999856,7.276199984,7.142000008400001,5.2292000412,6.1137999786,4.5801999604,5.5979999534000005,6.9213999588,5.955999950333333,5.1248000312,5.813199990799999,3.8300000064,6.657800045799999,4.618600045,4.0738000130000005,3.0789999941999997,4.2054000442,4.6958000343999995,7.350599997000001,4.0034000218,6.5893999899999995,5.2189999526,6.3399999747999995,3.9616666666666664,4.377399977800001,7.1261999992,5.4586000442,5.7327999626,6.6546000412,4.369,5.199400003799999,5.9919999794,4.3752000268,6.1241999566,5.6378000122000005,4.4232000076,6.5151999824,4.4078000306,4.516,4.338799955,6.9290000428,4.5363999772,6.3437999992,3.8535999938000005,5.2408000466,5.448,5.472000122,5.3293999763999995,7.5110000374,4.2978000114,4.6891999824,6.9644000474,7.1421999642000005,6.022400045,4.2731999656,5.6619999739999995,5.9258000152,5.1795999932,5.8383999534,4.4493999946,5.606199961,6.1486000038,5.1734000373999995,4.79275,5.676199981,5.149599981,3.8391999984000003,5.597000019,5.92979999,6.9359999832,5.122000047749999,3.7454000106,5.9040000222,4.2190000114,6.53399999,4.3549999634,5.706600037399999,6.7252000138,5.0291999848,5.2919999978,5.172200026800001,4.60100004775,4.5569999705,4.8123999786,7.404599971000001,6.0274000198,4.1045999756,5.1273999764,5.758666647666668,5.274,5.7765,7.541000035800001,6.853,5.3440000106,4.736600019,6.5380000282,5.6666000062,5.7284000306000005,5.3873999656,5.98080001,5.3046000344,7.039,6.4218,5.6983999618,5.798599964199999,6.3759999726,4.3939999694,5.3391999962,6.1084000099999995,5.8879999794,4.6751999992,5.8853999641999994,3.38250002,6.3513999756,4.3926000114,6.269,7.511399991599999,6.391,6.421999931,5.097799977799999,3.4659999954,6.2865999572,6.192,6.168000073666666,4.7283999655999995,5.4154,5.5822000054,4.020199970199999,4.307200039,6.910000044999999,6.9988000062,6.4311999991999995,6.046200039,5.5314,5.1545999764,3.6257999869999997,4.5843999877999995,4.006600000000001],\"type\":\"choropleth\"}],                        {\"template\":{\"data\":{\"histogram2dcontour\":[{\"type\":\"histogram2dcontour\",\"colorbar\":{\"outlinewidth\":0,\"ticks\":\"\"},\"colorscale\":[[0.0,\"#0d0887\"],[0.1111111111111111,\"#46039f\"],[0.2222222222222222,\"#7201a8\"],[0.3333333333333333,\"#9c179e\"],[0.4444444444444444,\"#bd3786\"],[0.5555555555555556,\"#d8576b\"],[0.6666666666666666,\"#ed7953\"],[0.7777777777777778,\"#fb9f3a\"],[0.8888888888888888,\"#fdca26\"],[1.0,\"#f0f921\"]]}],\"choropleth\":[{\"type\":\"choropleth\",\"colorbar\":{\"outlinewidth\":0,\"ticks\":\"\"}}],\"histogram2d\":[{\"type\":\"histogram2d\",\"colorbar\":{\"outlinewidth\":0,\"ticks\":\"\"},\"colorscale\":[[0.0,\"#0d0887\"],[0.1111111111111111,\"#46039f\"],[0.2222222222222222,\"#7201a8\"],[0.3333333333333333,\"#9c179e\"],[0.4444444444444444,\"#bd3786\"],[0.5555555555555556,\"#d8576b\"],[0.6666666666666666,\"#ed7953\"],[0.7777777777777778,\"#fb9f3a\"],[0.8888888888888888,\"#fdca26\"],[1.0,\"#f0f921\"]]}],\"heatmap\":[{\"type\":\"heatmap\",\"colorbar\":{\"outlinewidth\":0,\"ticks\":\"\"},\"colorscale\":[[0.0,\"#0d0887\"],[0.1111111111111111,\"#46039f\"],[0.2222222222222222,\"#7201a8\"],[0.3333333333333333,\"#9c179e\"],[0.4444444444444444,\"#bd3786\"],[0.5555555555555556,\"#d8576b\"],[0.6666666666666666,\"#ed7953\"],[0.7777777777777778,\"#fb9f3a\"],[0.8888888888888888,\"#fdca26\"],[1.0,\"#f0f921\"]]}],\"heatmapgl\":[{\"type\":\"heatmapgl\",\"colorbar\":{\"outlinewidth\":0,\"ticks\":\"\"},\"colorscale\":[[0.0,\"#0d0887\"],[0.1111111111111111,\"#46039f\"],[0.2222222222222222,\"#7201a8\"],[0.3333333333333333,\"#9c179e\"],[0.4444444444444444,\"#bd3786\"],[0.5555555555555556,\"#d8576b\"],[0.6666666666666666,\"#ed7953\"],[0.7777777777777778,\"#fb9f3a\"],[0.8888888888888888,\"#fdca26\"],[1.0,\"#f0f921\"]]}],\"contourcarpet\":[{\"type\":\"contourcarpet\",\"colorbar\":{\"outlinewidth\":0,\"ticks\":\"\"}}],\"contour\":[{\"type\":\"contour\",\"colorbar\":{\"outlinewidth\":0,\"ticks\":\"\"},\"colorscale\":[[0.0,\"#0d0887\"],[0.1111111111111111,\"#46039f\"],[0.2222222222222222,\"#7201a8\"],[0.3333333333333333,\"#9c179e\"],[0.4444444444444444,\"#bd3786\"],[0.5555555555555556,\"#d8576b\"],[0.6666666666666666,\"#ed7953\"],[0.7777777777777778,\"#fb9f3a\"],[0.8888888888888888,\"#fdca26\"],[1.0,\"#f0f921\"]]}],\"surface\":[{\"type\":\"surface\",\"colorbar\":{\"outlinewidth\":0,\"ticks\":\"\"},\"colorscale\":[[0.0,\"#0d0887\"],[0.1111111111111111,\"#46039f\"],[0.2222222222222222,\"#7201a8\"],[0.3333333333333333,\"#9c179e\"],[0.4444444444444444,\"#bd3786\"],[0.5555555555555556,\"#d8576b\"],[0.6666666666666666,\"#ed7953\"],[0.7777777777777778,\"#fb9f3a\"],[0.8888888888888888,\"#fdca26\"],[1.0,\"#f0f921\"]]}],\"mesh3d\":[{\"type\":\"mesh3d\",\"colorbar\":{\"outlinewidth\":0,\"ticks\":\"\"}}],\"scatter\":[{\"fillpattern\":{\"fillmode\":\"overlay\",\"size\":10,\"solidity\":0.2},\"type\":\"scatter\"}],\"parcoords\":[{\"type\":\"parcoords\",\"line\":{\"colorbar\":{\"outlinewidth\":0,\"ticks\":\"\"}}}],\"scatterpolargl\":[{\"type\":\"scatterpolargl\",\"marker\":{\"colorbar\":{\"outlinewidth\":0,\"ticks\":\"\"}}}],\"bar\":[{\"error_x\":{\"color\":\"#2a3f5f\"},\"error_y\":{\"color\":\"#2a3f5f\"},\"marker\":{\"line\":{\"color\":\"#E5ECF6\",\"width\":0.5},\"pattern\":{\"fillmode\":\"overlay\",\"size\":10,\"solidity\":0.2}},\"type\":\"bar\"}],\"scattergeo\":[{\"type\":\"scattergeo\",\"marker\":{\"colorbar\":{\"outlinewidth\":0,\"ticks\":\"\"}}}],\"scatterpolar\":[{\"type\":\"scatterpolar\",\"marker\":{\"colorbar\":{\"outlinewidth\":0,\"ticks\":\"\"}}}],\"histogram\":[{\"marker\":{\"pattern\":{\"fillmode\":\"overlay\",\"size\":10,\"solidity\":0.2}},\"type\":\"histogram\"}],\"scattergl\":[{\"type\":\"scattergl\",\"marker\":{\"colorbar\":{\"outlinewidth\":0,\"ticks\":\"\"}}}],\"scatter3d\":[{\"type\":\"scatter3d\",\"line\":{\"colorbar\":{\"outlinewidth\":0,\"ticks\":\"\"}},\"marker\":{\"colorbar\":{\"outlinewidth\":0,\"ticks\":\"\"}}}],\"scattermapbox\":[{\"type\":\"scattermapbox\",\"marker\":{\"colorbar\":{\"outlinewidth\":0,\"ticks\":\"\"}}}],\"scatterternary\":[{\"type\":\"scatterternary\",\"marker\":{\"colorbar\":{\"outlinewidth\":0,\"ticks\":\"\"}}}],\"scattercarpet\":[{\"type\":\"scattercarpet\",\"marker\":{\"colorbar\":{\"outlinewidth\":0,\"ticks\":\"\"}}}],\"carpet\":[{\"aaxis\":{\"endlinecolor\":\"#2a3f5f\",\"gridcolor\":\"white\",\"linecolor\":\"white\",\"minorgridcolor\":\"white\",\"startlinecolor\":\"#2a3f5f\"},\"baxis\":{\"endlinecolor\":\"#2a3f5f\",\"gridcolor\":\"white\",\"linecolor\":\"white\",\"minorgridcolor\":\"white\",\"startlinecolor\":\"#2a3f5f\"},\"type\":\"carpet\"}],\"table\":[{\"cells\":{\"fill\":{\"color\":\"#EBF0F8\"},\"line\":{\"color\":\"white\"}},\"header\":{\"fill\":{\"color\":\"#C8D4E3\"},\"line\":{\"color\":\"white\"}},\"type\":\"table\"}],\"barpolar\":[{\"marker\":{\"line\":{\"color\":\"#E5ECF6\",\"width\":0.5},\"pattern\":{\"fillmode\":\"overlay\",\"size\":10,\"solidity\":0.2}},\"type\":\"barpolar\"}],\"pie\":[{\"automargin\":true,\"type\":\"pie\"}]},\"layout\":{\"autotypenumbers\":\"strict\",\"colorway\":[\"#636efa\",\"#EF553B\",\"#00cc96\",\"#ab63fa\",\"#FFA15A\",\"#19d3f3\",\"#FF6692\",\"#B6E880\",\"#FF97FF\",\"#FECB52\"],\"font\":{\"color\":\"#2a3f5f\"},\"hovermode\":\"closest\",\"hoverlabel\":{\"align\":\"left\"},\"paper_bgcolor\":\"white\",\"plot_bgcolor\":\"#E5ECF6\",\"polar\":{\"bgcolor\":\"#E5ECF6\",\"angularaxis\":{\"gridcolor\":\"white\",\"linecolor\":\"white\",\"ticks\":\"\"},\"radialaxis\":{\"gridcolor\":\"white\",\"linecolor\":\"white\",\"ticks\":\"\"}},\"ternary\":{\"bgcolor\":\"#E5ECF6\",\"aaxis\":{\"gridcolor\":\"white\",\"linecolor\":\"white\",\"ticks\":\"\"},\"baxis\":{\"gridcolor\":\"white\",\"linecolor\":\"white\",\"ticks\":\"\"},\"caxis\":{\"gridcolor\":\"white\",\"linecolor\":\"white\",\"ticks\":\"\"}},\"coloraxis\":{\"colorbar\":{\"outlinewidth\":0,\"ticks\":\"\"}},\"colorscale\":{\"sequential\":[[0.0,\"#0d0887\"],[0.1111111111111111,\"#46039f\"],[0.2222222222222222,\"#7201a8\"],[0.3333333333333333,\"#9c179e\"],[0.4444444444444444,\"#bd3786\"],[0.5555555555555556,\"#d8576b\"],[0.6666666666666666,\"#ed7953\"],[0.7777777777777778,\"#fb9f3a\"],[0.8888888888888888,\"#fdca26\"],[1.0,\"#f0f921\"]],\"sequentialminus\":[[0.0,\"#0d0887\"],[0.1111111111111111,\"#46039f\"],[0.2222222222222222,\"#7201a8\"],[0.3333333333333333,\"#9c179e\"],[0.4444444444444444,\"#bd3786\"],[0.5555555555555556,\"#d8576b\"],[0.6666666666666666,\"#ed7953\"],[0.7777777777777778,\"#fb9f3a\"],[0.8888888888888888,\"#fdca26\"],[1.0,\"#f0f921\"]],\"diverging\":[[0,\"#8e0152\"],[0.1,\"#c51b7d\"],[0.2,\"#de77ae\"],[0.3,\"#f1b6da\"],[0.4,\"#fde0ef\"],[0.5,\"#f7f7f7\"],[0.6,\"#e6f5d0\"],[0.7,\"#b8e186\"],[0.8,\"#7fbc41\"],[0.9,\"#4d9221\"],[1,\"#276419\"]]},\"xaxis\":{\"gridcolor\":\"white\",\"linecolor\":\"white\",\"ticks\":\"\",\"title\":{\"standoff\":15},\"zerolinecolor\":\"white\",\"automargin\":true,\"zerolinewidth\":2},\"yaxis\":{\"gridcolor\":\"white\",\"linecolor\":\"white\",\"ticks\":\"\",\"title\":{\"standoff\":15},\"zerolinecolor\":\"white\",\"automargin\":true,\"zerolinewidth\":2},\"scene\":{\"xaxis\":{\"backgroundcolor\":\"#E5ECF6\",\"gridcolor\":\"white\",\"linecolor\":\"white\",\"showbackground\":true,\"ticks\":\"\",\"zerolinecolor\":\"white\",\"gridwidth\":2},\"yaxis\":{\"backgroundcolor\":\"#E5ECF6\",\"gridcolor\":\"white\",\"linecolor\":\"white\",\"showbackground\":true,\"ticks\":\"\",\"zerolinecolor\":\"white\",\"gridwidth\":2},\"zaxis\":{\"backgroundcolor\":\"#E5ECF6\",\"gridcolor\":\"white\",\"linecolor\":\"white\",\"showbackground\":true,\"ticks\":\"\",\"zerolinecolor\":\"white\",\"gridwidth\":2}},\"shapedefaults\":{\"line\":{\"color\":\"#2a3f5f\"}},\"annotationdefaults\":{\"arrowcolor\":\"#2a3f5f\",\"arrowhead\":0,\"arrowwidth\":1},\"geo\":{\"bgcolor\":\"white\",\"landcolor\":\"#E5ECF6\",\"subunitcolor\":\"white\",\"showland\":true,\"showlakes\":true,\"lakecolor\":\"white\"},\"title\":{\"x\":0.05},\"mapbox\":{\"style\":\"light\"}}},\"geo\":{\"domain\":{\"x\":[0.0,1.0],\"y\":[0.0,1.0]},\"center\":{}},\"coloraxis\":{\"colorbar\":{\"title\":{\"text\":\"Score\"}},\"colorscale\":[[0.0,\"#30123b\"],[0.07142857142857142,\"#4145ab\"],[0.14285714285714285,\"#4675ed\"],[0.21428571428571427,\"#39a2fc\"],[0.2857142857142857,\"#1bcfd4\"],[0.35714285714285715,\"#24eca6\"],[0.42857142857142855,\"#61fc6c\"],[0.5,\"#a4fc3b\"],[0.5714285714285714,\"#d1e834\"],[0.6428571428571429,\"#f3c63a\"],[0.7142857142857143,\"#fe9b2d\"],[0.7857142857142857,\"#f36315\"],[0.8571428571428571,\"#d93806\"],[0.9285714285714286,\"#b11901\"],[1.0,\"#7a0402\"]]},\"legend\":{\"tracegroupgap\":0},\"title\":{\"text\":\"Average Happiness Score By Country Map\"},\"margin\":{\"l\":40,\"r\":40,\"t\":40,\"b\":40}},                        {\"responsive\": true}                    ).then(function(){\n",
       "                            \n",
       "var gd = document.getElementById('99a6ee90-fa14-4387-930e-334bfee3da33');\n",
       "var x = new MutationObserver(function (mutations, observer) {{\n",
       "        var display = window.getComputedStyle(gd).display;\n",
       "        if (!display || display === 'none') {{\n",
       "            console.log([gd, 'removed!']);\n",
       "            Plotly.purge(gd);\n",
       "            observer.disconnect();\n",
       "        }}\n",
       "}});\n",
       "\n",
       "// Listen for the removal of the full notebook cells\n",
       "var notebookContainer = gd.closest('#notebook-container');\n",
       "if (notebookContainer) {{\n",
       "    x.observe(notebookContainer, {childList: true});\n",
       "}}\n",
       "\n",
       "// Listen for the clearing of the current output cell\n",
       "var outputEl = gd.closest('.output');\n",
       "if (outputEl) {{\n",
       "    x.observe(outputEl, {childList: true});\n",
       "}}\n",
       "\n",
       "                        })                };                });            </script>        </div>"
      ]
     },
     "metadata": {},
     "output_type": "display_data"
    }
   ],
   "source": [
    "\n",
    "Country_Happiness = px.choropleth(new_df_filtered, locations='Country', locationmode='country names', \n",
    "                                  color='Score', color_continuous_scale='Turbo', title = 'Average Happiness Score By Country Map')\n",
    "Country_Happiness.update_layout(margin=dict(l=40, r=40, t=40, b=40))\n",
    "Country_Happiness.show()"
   ]
  }
 ],
 "metadata": {
  "kernelspec": {
   "display_name": "Python [conda env:base] *",
   "language": "python",
   "name": "conda-base-py"
  },
  "language_info": {
   "codemirror_mode": {
    "name": "ipython",
    "version": 3
   },
   "file_extension": ".py",
   "mimetype": "text/x-python",
   "name": "python",
   "nbconvert_exporter": "python",
   "pygments_lexer": "ipython3",
   "version": "3.12.7"
  }
 },
 "nbformat": 4,
 "nbformat_minor": 4
}
